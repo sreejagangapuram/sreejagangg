{
 "cells": [
  {
   "cell_type": "markdown",
   "metadata": {},
   "source": [
    "---\n",
    "title: CSA 2015 FRQ 2\n",
    "description: These are my solutions for the 2015 CSA FRQ 2\n",
    "toc: true\n",
    "layout: post\n",
    "---"
   ]
  },
  {
   "cell_type": "markdown",
   "metadata": {},
   "source": [
    "# Question 2: Guessing Games\n",
    "Consider a guessing game in which a player tries to guess a hidden word. The hidden word contains only capital letters and has a length known to the player. A guess contains only capital letters and has the same length as the hidden word.\n",
    "\n",
    "After a guess is made, the player is given a hint that is based on a comparison between the hidden word and the guess. Each position in the hint contains a character that corresponds to the letter in the same position in the guess. The following rules determine the characters that appear in the hint.\n",
    "\n",
    "The HiddenWord class will be used to represent the hidden word in the game. The hidden word is passed to the constructor. The class contains a method, getHint, that takes a guess and produces a hint. For example, suppose the variable puzzle is declared as follows.\n",
    "\n",
    "HiddenWord puzzle = new HiddenWord(\"HARPS\");\n",
    "\n",
    "The following table shows several guesses and the hints that would be produced.\n",
    "\n",
    "Write the complete HiddenWord class, including any necessary instance variables, its constructor, and the method, getHint, described above.You may assume that the length of the guess is the same as the length of the hidden word."
   ]
  },
  {
   "cell_type": "code",
   "execution_count": 3,
   "metadata": {
    "vscode": {
     "languageId": "java"
    }
   },
   "outputs": [
    {
     "name": "stdout",
     "output_type": "stream",
     "text": [
      "+A+++\n",
      "H****\n",
      "H*++*\n",
      "HAR*S\n",
      "HARPS\n"
     ]
    }
   ],
   "source": [
    "public class HiddenWord {\n",
    "    private String word;\n",
    "    \n",
    "    // Constructor to initialize the hidden word\n",
    "    public HiddenWord(String word) {\n",
    "        this.word = word;\n",
    "    }\n",
    "    \n",
    "    // Method to generate hint based on the guessed word\n",
    "    public String getHint(String guess) {\n",
    "        StringBuilder result = new StringBuilder(); // Using StringBuilder for efficiency\n",
    "        \n",
    "        // Loop through each character of the guess\n",
    "        for (int i = 0; i < guess.length(); i++) {\n",
    "            char guessedChar = guess.charAt(i);\n",
    "            char hiddenChar = word.charAt(i);\n",
    "            \n",
    "            // If the guessed character matches the character at the same position in the hidden word\n",
    "            if (guessedChar == hiddenChar) {\n",
    "                result.append(guessedChar); // Append the character to the hint\n",
    "            }\n",
    "            // If the guessed character exists in the hidden word but at a different position\n",
    "            else if (word.indexOf(guessedChar) != -1) {\n",
    "                result.append(\"+\"); // Append \"+\" to indicate presence but in the wrong position\n",
    "            }\n",
    "            // If the guessed character does not exist in the hidden word\n",
    "            else {\n",
    "                result.append(\"*\"); // Append \"*\" to indicate absence\n",
    "            }\n",
    "        }\n",
    "        return result.toString(); // Return the generated hint\n",
    "    }\n",
    "    \n",
    "    // Main method to test the HiddenWord class\n",
    "    public static void main(String[] args) {\n",
    "        HiddenWord puzzle = new HiddenWord(\"HARPS\"); // Create a HiddenWord object with the hidden word \"HARPS\"\n",
    "        \n",
    "        // Test cases to print hints for different guesses\n",
    "        System.out.println(puzzle.getHint(\"AAAAA\"));\n",
    "        System.out.println(puzzle.getHint(\"HELLO\"));\n",
    "        System.out.println(puzzle.getHint(\"HEART\"));\n",
    "        System.out.println(puzzle.getHint(\"HARMS\"));\n",
    "        System.out.println(puzzle.getHint(\"HARPS\"));\n",
    "    }\n",
    "}\n",
    "HiddenWord.main(null);"
   ]
  },
  {
   "cell_type": "markdown",
   "metadata": {},
   "source": [
    "# FRQ 2 REFLECTION\n",
    "The frq tells us to create a Java class that has a hidden word puzzle, where the goal is to guess the hidden word based on hints provided.\n",
    "\n",
    "The first step was to design the class structure. I identified the need for a class named HiddenWord to represent the puzzle. This class would have a private field to store the hidden word and a method to generate hints based on the guessed word. Understanding the use of constructors for initializing objects was fundamental in setting up the class.\n",
    "\n",
    "Implementing the getHint method was the core of the challenge. I needed to devise a strategy to compare the guessed word with the hidden word and generate appropriate hints. This involved iterating through each character of the guessed word and applying logical conditions to determine whether the characters matched, existed in the hidden word but in a different position, or were absent altogether.\n",
    "\n",
    "During the implementation phase, I encountered various coding concepts such as string manipulation, character comparison, and conditional statements. I realized the importance of using efficient data structures like StringBuilder to concatenate strings within loops to enhance performance.\n",
    "\n",
    "Testing the code was another critical aspect of the development process. I wrote test cases in the main method to validate the functionality of the getHint method for different scenarios. This helped me ensure that the code produced the correct hints according to the rules of the hidden word puzzle.\n",
    "\n",
    "Overall, developing the HiddenWord class led me to develop problem-solving and testing strategies. It was a good practice of java skills. "
   ]
  }
 ],
 "metadata": {
  "kernelspec": {
   "display_name": "Java",
   "language": "java",
   "name": "java"
  },
  "language_info": {
   "codemirror_mode": "java",
   "file_extension": ".jshell",
   "mimetype": "text/x-java-source",
   "name": "Java",
   "pygments_lexer": "java",
   "version": "16.0.1+9-24"
  }
 },
 "nbformat": 4,
 "nbformat_minor": 2
}
