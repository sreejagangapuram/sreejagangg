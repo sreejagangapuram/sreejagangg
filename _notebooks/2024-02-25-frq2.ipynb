{
 "cells": [
  {
   "cell_type": "markdown",
   "metadata": {},
   "source": [
    "---\n",
    "title: CSA 2015 FRQ 2\n",
    "description: There are my solutions for the 2015 CSA FRQ 2\n",
    "toc: true\n",
    "layout: post\n",
    "---"
   ]
  }
 ],
 "metadata": {
  "language_info": {
   "name": "python"
  }
 },
 "nbformat": 4,
 "nbformat_minor": 2
}
