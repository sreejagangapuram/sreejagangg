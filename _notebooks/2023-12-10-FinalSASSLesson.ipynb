{
 "cells": [
  {
   "cell_type": "markdown",
   "metadata": {},
   "source": [
    "---\n",
    "- title: SASS Lesson\n",
    "- categories: [Lesson]\n",
    "- tags: [SASS, lesson]\n",
    "- type: hacks\n",
    "- week: 15\n",
    "- author: Sreeja\n",
    "- description: SASS Lesson\n",
    "- toc: True\n",
    "- date: 2023-12-10 12:00:00 +0000\n",
    "---"
   ]
  },
  {
   "cell_type": "markdown",
   "metadata": {},
   "source": [
    "# Introduction to SASS\n",
    "\n",
    "SASS (Syntactically Awesome Stylesheets) is a powerful preprocessor scripting language that enhances CSS with advanced features. It's compiled into standard CSS, making it a robust tool for modern web development.\n",
    "## Benefits Over Traditional CSS\n",
    "\n",
    "### Improved Code Organization\n",
    "- **Nesting Capabilities**: SASS allows you to nest your CSS selectors in a way that follows the same visual hierarchy of your HTML.\n",
    "- **Modular Approach**: You can split your CSS into multiple files (partials) and import them into a main file, making your project more organized.\n",
    "\n",
    "### Maintainability\n",
    "- **Use of Variables**: Define colors, fonts, and other CSS values as variables for easy updates and consistency across the project.\n",
    "- **Mixins for Reusable Code**: Create reusable pieces of code for things like buttons, forms, which can be included wherever needed.\n",
    "- **Extend/Inheritance**: Share a set of CSS properties from one selector to another, reducing the amount of code you need to write and maintain.\n",
    "\n",
    "### Advanced Features\n",
    "- **Control Directives**: Use if/else statements and for/each loops in your CSS, which are not possible in plain CSS.\n",
    "- **Built-in Functions**: SASS offers functions for color manipulation, mathematics and more, enhancing the functionality of CSS.\n",
    "- **Compatibility**: Automatically handles browser prefixing, ensuring that your styles work across different browsers without extra code.\n",
    "\n",
    "# SASS Basics\n",
    "\n",
    "## Preprocessing\n",
    "- **Compilation**: Sass files are preprocessed to generate standard CSS files.\n",
    "- **Usage**: Use the `sass` command in the terminal to compile Sass files. For example, `sass input.sass output.css`.\n",
    "- **Watching Files**: The `--watch` flag allows Sass to monitor files for changes and recompile automatically.\n",
    "\n",
    "```sass\n",
    "// Command to compile Sass\n",
    "sass input.sass output.css\n",
    "\n",
    "// Command to watch and compile Sass\n",
    "sass --watch input.sass output.css\n",
    "```\n",
    "\n",
    "## Modules\n",
    "- **Splitting Code**: Sass allows splitting code into multiple files.\n",
    "- **@use Rule**: Loads another Sass file as a module, enabling access to its variables, mixins, and functions.\n",
    "- **Namespace**: Refer to module contents using a namespace based on the filename.\n",
    "\n",
    "```sass\n",
    "\n",
    "// In _base.sass\n",
    "$primary-color: #333\n",
    "\n",
    "// In styles.sass\n",
    "@use 'base'\n",
    ".inverse\n",
    "  background-color: base.$primary-color\n",
    "  color: white\n",
    "```\n",
    "\n",
    "## Operators\n",
    "- **Math Operations**: Sass supports standard math operators for calculations within CSS.\n",
    "- **Example**: Calculating widths for a fluid grid using operations like division.\n",
    "\n",
    "```sass\n",
    "\n",
    ".container\n",
    "  display: flex\n",
    "article[role=\"main\"]\n",
    "  width: 600px / 960px * 100%\n",
    "aside[role=\"complementary\"]\n",
    "  width: 300px / 960px * 100%\n",
    "  margin-left: auto\n",
    "```"
   ]
  },
  {
   "cell_type": "markdown",
   "metadata": {},
   "source": [
    "<h1>SASS Role in Design:</h1>"
   ]
  },
  {
   "cell_type": "markdown",
   "metadata": {},
   "source": [
    "In the design phase of any project, maintaining uniformity is extremely important for creating a polished look. SASS allows for this by allowing the use of variables to store and reuse colors, fonts, and other design elements.\n",
    "\n",
    "This makes it so that there is a **consistent** theme applied throughout the entire project. SASS allows for visual cohesion."
   ]
  },
  {
   "cell_type": "markdown",
   "metadata": {},
   "source": [
    "<h2>Visual Concept as a Blueprint</h2>"
   ]
  },
  {
   "cell_type": "markdown",
   "metadata": {},
   "source": [
    "Before going into the functional code, it is very important to create a visual concept or design mockup. This is a model for the project, which gives a clear visual representation for the final product. It allows for a scrum team to align on the aesthetics and overall design direction."
   ]
  },
  {
   "cell_type": "markdown",
   "metadata": {},
   "source": [
    "This also allows for feedback and **iteration**. People can make adjustments to the visual elements without complexity of functional code, and it makes sure that all requirements are met. "
   ]
  },
  {
   "cell_type": "markdown",
   "metadata": {},
   "source": [
    "These visual concepts also play a role in planning the **responsive** design. The team members can visualize how layouts and styles are adapted for different **screen sizes**, so that all users can have a great visual experience across all types of devices. "
   ]
  },
  {
   "cell_type": "markdown",
   "metadata": {},
   "source": [
    "<h1>Hacks</h1>"
   ]
  },
  {
   "cell_type": "markdown",
   "metadata": {},
   "source": [
    "**Explore SASS documentation to discover any additional features not covered in the lesson and implement one or more of these features in your GH Pages project. Write a couple sentences explaining the feature and demonstrate it.**\n",
    "- One feature in SASS is the @extend directive, allowing us to share styles between collaborators. This helps in keeping our code unrepetitive. \n",
    "\n",
    "![sass](/assets/img/sass.gif)"
   ]
  },
  {
   "cell_type": "markdown",
   "metadata": {},
   "source": [
    "## Partials and Modular Styling with SASS\n",
    "\n",
    "### Understanding SASS Partials:\n",
    "\n",
    "SASS partials are separate files containing any specific style or component. They allow for better organization and modularization of styles. They play a very important role in organizing and modularizing styles. \n",
    "\n",
    "Partials are named with a leading underscore (e.g., `_variables.sass`) to indicate that they are meant to be **imported** into another stylesheet.\n",
    "\n",
    "### Benefits of Using Partials:\n",
    "\n",
    "1. **Modular Organization:**\n",
    "   - Partials break down stylesheets into smaller files, each focusing on a specific aspect (e.g., variables, typography, layout).\n",
    "   - This modular approach improves code organization, making it easier to maintain and scale.\n",
    "\n",
    "2. **Code Reusability:**\n",
    "   - Partials enable the reuse of styles across multiple files. For example, a `_variables.sass` partial may store color schemes and fonts, allowing for greater consistency.\n",
    "\n",
    "3. **Readability and Collaboration:**\n",
    "   - Smaller files enhance code readability. Developers can quickly locate and understand specific styles.\n",
    "   - Supports **concurrent** development, allowing different team members to work on different partials simultaneously.\n",
    "\n",
    "### Importing Partials into a Main SASS File:\n",
    "\n",
    "To use SASS partials, import them into a main SCSS file using the `@import` directive. The main file (e.g., `main.sass`) serves as the entry point for compiling styles.\n"
   ]
  },
  {
   "cell_type": "markdown",
   "metadata": {},
   "source": [
    "**Importing Partials into a Main SASS File:**\n"
   ]
  },
  {
   "cell_type": "markdown",
   "metadata": {},
   "source": [
    "```scss\n",
    "\n",
    "// main.sass\n",
    "\n",
    "// Importing variables partial\n",
    "@use variables\n",
    "\n",
    "// Importing typography partial\n",
    "@use typography\n",
    "\n",
    "// Importing layout partial\n",
    "@use layout\n",
    "\n",
    "// Importing components partial\n",
    "@use components\n",
    "\n",
    "```"
   ]
  },
  {
   "cell_type": "markdown",
   "metadata": {},
   "source": [
    "## Variables in SASS\n",
    "\n",
    "### Introduction to Variables:\n",
    "\n",
    "SASS variables provide a way to store information for later use in a stylesheet. They offer several advantages, including enhanced maintainability and consistency, by allowing you to define values in **one** location.\n",
    "\n",
    "\n",
    "\n",
    "### Variable Syntax:\n",
    "\n",
    "In SASS, variables are declared using the '$' symbol followed by the variable name. Once a variable is defined, its value can be reused throughout the stylesheet.\n",
    "\n"
   ]
  },
  {
   "cell_type": "markdown",
   "metadata": {},
   "source": [
    "**Variable Syntax:**"
   ]
  },
  {
   "cell_type": "markdown",
   "metadata": {},
   "source": [
    "```scss\n",
    "// _variables.sass\n",
    "\n",
    "// Define variables\n",
    "$primary-color: #3498db\n",
    "$secondary-color: #2ecc71\n",
    "\n",
    "// Use variables\n",
    "body\n",
    "  background-color: $primary-color\n",
    "\n",
    ".button\n",
    "  background-color: $secondary-color\n",
    "  color: #fff\n",
    "\n",
    "```\n"
   ]
  },
  {
   "cell_type": "markdown",
   "metadata": {},
   "source": [
    "### SASS Variable Scope:\n",
    "\n",
    "Variable scope is similar to the range in which a variable is accessible. By default, variables are local to the file in which they are defined. However, you can create a **GLOBAL VARIABLE**:\n",
    "\n",
    "By default, variables are local to the scope in which they are defined. However, the !global flag can be used to create global variables. Global variables are accessible throughout the entire stylesheet."
   ]
  },
  {
   "cell_type": "markdown",
   "metadata": {},
   "source": [
    "**Global Variables:**"
   ]
  },
  {
   "cell_type": "markdown",
   "metadata": {},
   "source": [
    "```scss\n",
    "// _variables.sass\n",
    "\n",
    "// Local variable\n",
    "$local-font-size: 16px !default\n",
    "\n",
    "// Global variable\n",
    "$global-font-size: 18px !global\n",
    "\n",
    "```\n"
   ]
  },
  {
   "cell_type": "markdown",
   "metadata": {},
   "source": [
    "**Variable Scope:**"
   ]
  },
  {
   "cell_type": "markdown",
   "metadata": {},
   "source": [
    "```scss\n",
    "\n",
    "// styles.sass\n",
    "\n",
    "// Importing variables partial\n",
    "@use 'variables'\n",
    "\n",
    "$font-size: 14px // Global variable\n",
    "\n",
    "body\n",
    "  font-size: $font-size // Accessing the global variable\n",
    "\n",
    ".container\n",
    "  $font-size: $local-font-size // Local variable within .container scope\n",
    "  font-size: $global-font-size // Accessing the global variable\n",
    "\n",
    "```\n",
    "\n"
   ]
  },
  {
   "cell_type": "markdown",
   "metadata": {},
   "source": [
    "# Nested techniques\n",
    "\n",
    "Basic Nesting:"
   ]
  },
  {
   "cell_type": "markdown",
   "metadata": {},
   "source": [
    "```sass\n",
    "\n",
    "nav\n",
    "  background-color: #333\n",
    "\n",
    "  ul\n",
    "    list-style: none\n",
    "    padding: 0\n",
    "    margin: 0\n",
    "\n",
    "    li\n",
    "      display: inline-block\n",
    "      margin-right: 10px\n",
    "\n",
    "      a\n",
    "        text-decoration: none\n",
    "        color: #fff\n",
    "\n",
    "```\n"
   ]
  },
  {
   "cell_type": "markdown",
   "metadata": {},
   "source": [
    "In this example, the CSS output will be:"
   ]
  },
  {
   "cell_type": "markdown",
   "metadata": {},
   "source": [
    "```css\n",
    "\n",
    "nav {\n",
    "  background-color: #333;\n",
    "}\n",
    "\n",
    "nav ul {\n",
    "  list-style: none;\n",
    "  padding: 0;\n",
    "  margin: 0;\n",
    "}\n",
    "\n",
    "nav ul li {\n",
    "  display: inline-block;\n",
    "  margin-right: 10px;\n",
    "}\n",
    "\n",
    "nav ul li a {\n",
    "  text-decoration: none;\n",
    "  color: #fff;\n",
    "}\n",
    "\n",
    "```\n"
   ]
  },
  {
   "cell_type": "markdown",
   "metadata": {},
   "source": [
    "Many CSS properties have the same prefix, like font-family, font-size and font-weight or text-align, text-transform and text-overflow.\n",
    "\n",
    "With SASS you can write them as nested properties:"
   ]
  },
  {
   "cell_type": "markdown",
   "metadata": {},
   "source": [
    "```scss\n",
    "\n",
    "font:\n",
    "  family: Helvetica, sans-serif\n",
    "  size: 18px\n",
    "  weight: bold\n",
    "\n",
    "text:\n",
    "  align: center\n",
    "  transform: lowercase\n",
    "  overflow: hidden\n",
    "\n",
    "```"
   ]
  },
  {
   "cell_type": "markdown",
   "metadata": {},
   "source": [
    "The SASS transpiler will convert the above to normal CSS:"
   ]
  },
  {
   "cell_type": "markdown",
   "metadata": {},
   "source": [
    "```css\n",
    "\n",
    "font-family: Helvetica, sans-serif;\n",
    "font-size: 18px;\n",
    "font-weight: bold;\n",
    "\n",
    "text-align: center;\n",
    "text-transform: lowercase;\n",
    "text-overflow: hidden;\n",
    "\n",
    "```"
   ]
  },
  {
   "cell_type": "markdown",
   "metadata": {},
   "source": [
    "# Flexbox and Grid Integration\n",
    "\n",
    "Flexbox and Grid are two powerful layout systems in CSS that allow for responsive design and complex layouts with less effort.\n",
    "\n",
    "### Flexbox\n",
    "- **Purpose**: Designed for 1D -dimensional layouts (either rows or columns).\n",
    "\n",
    "### Grid\n",
    "- **Purpose**: Designed for 2D -dimensional layouts ( rows and columns together).\n",
    "\n",
    "## Simplifying Responsive Layouts with SASS\n",
    "\n",
    "SASS enhances the use of Flexbox and Grid by allowing more organized and maintainable stylesheets.\n",
    "\n",
    "- **Variables and Mixins**: Use SASS variables and mixins to create reusable Flexbox and Grid styles.\n",
    "- **Nesting**: Nest media queries within selectors for responsive design.\n",
    "- **Functions**: Use SASS functions to calculate flexible dimensions and spacings.\n",
    "\n",
    "### Advanced Mixins for Flexbox and Grid\n",
    "\n",
    "Create advanced mixins for Flexbox and Grid for greater flexibility and customization. For example, a Flexbox mixin that allows you to specify direction, alignment, and wrap properties:\n",
    "\n",
    "```sass\n",
    "@mixin flexbox-container($direction: row, $justify: center, $align: center, $wrap: nowrap)\n",
    "  display: flex\n",
    "  flex-direction: $direction\n",
    "  justify-content: $justify\n",
    "  align-items: $align\n",
    "  flex-wrap: $wrap\n",
    "```\n",
    "\n",
    "For Grid, create a mixin to dynamically set grid areas:\n",
    "\n",
    "```sass\n",
    "@mixin grid-areas($areas)\n",
    "  grid-template-areas: $areas\n",
    "```\n",
    "\n",
    "### Dynamic Layouts with SASS Functions\n",
    "\n",
    "Use SASS functions to dynamically calculate layout values. For example, a function to determine the number of grid columns based on the container width:\n",
    "\n",
    "```sass\n",
    "@function grid-columns($max-width, $column-width, $gap)\n",
    "  @return floor(($max-width + $gap) / ($column-width + $gap))\n",
    "```\n",
    "\n",
    "Apply these functions in Flexbox and Grid settings for responsive designs:\n",
    "\n",
    "```sass\n",
    ".grid-container\n",
    "  @media (max-width: 1200px)\n",
    "    grid-template-columns: repeat(grid-columns(1200px, 250px, 10px), 1fr)\n",
    "```\n",
    "\n",
    "### Nested Media Queries for Responsive Design\n",
    "\n",
    "Nested media queries enhance the management of responsive layouts. Combine them with SASS variables for consistency:\n",
    "\n",
    "```sass\n",
    "$item-breakpoint: 600px\n",
    "\n",
    ".item\n",
    "  @media (max-width: $item-breakpoint)\n",
    "    flex: 100%\n",
    "```\n",
    "\n",
    "### Demonstration: Complex Flexbox Layout with SASS\n",
    "\n",
    "```sass\n",
    "\n",
    "// Define variables\n",
    "$primary-color: #333\n",
    "$secondary-color: #777\n",
    "$padding: 10px\n",
    "\n",
    "// Mixin for flex container\n",
    "@mixin flex-container\n",
    "  display: flex\n",
    "  justify-content: space-between\n",
    "  padding: $padding\n",
    "\n",
    "// Main container\n",
    ".main-container\n",
    "  @include flex-container\n",
    "  background-color: $primary-color\n",
    "\n",
    "  // Nested items\n",
    "  .item\n",
    "    flex: 1\n",
    "    margin: 5px\n",
    "    background-color: $secondary-color\n",
    "    &:hover\n",
    "      background-color: darken($secondary-color, 10%)\n",
    "\n",
    "```\n",
    "\n",
    "### Demonstration: Responsive Grid Layout with SASS\n",
    "\n",
    "```sass\n",
    "\n",
    "// Grid container\n",
    ".grid-container\n",
    "  display: grid\n",
    "  grid-template-columns: repeat(3, 1fr)\n",
    "  gap: 10px\n",
    "\n",
    "  // Responsive adjustment\n",
    "  @media (max-width: 600px)\n",
    "    grid-template-columns: repeat(2, 1fr)\n",
    "\n",
    "  // Grid items\n",
    "  .grid-item\n",
    "    background-color: $primary-color\n",
    "    padding: $padding\n",
    "    &:hover\n",
    "      background-color: lighten($primary-color, 10%)\n",
    "\n",
    "\n",
    "```\n"
   ]
  },
  {
   "cell_type": "markdown",
   "metadata": {},
   "source": [
    "## Hacks\n",
    "\n",
    "Create a grid layout that automatically adjusts the number of columns based on the screen size, using SASS variables and functions."
   ]
  },
  {
   "cell_type": "code",
   "execution_count": null,
   "metadata": {
    "vscode": {
     "languageId": "css"
    }
   },
   "outputs": [],
   "source": [
    "// Define SASS variables for grid settings\n",
    "$column-count: 3;\n",
    "$column-gap: 20px;\n",
    "\n",
    "// Define a SASS function to calculate the width of each column\n",
    "@function calculate-column-width($column-count) {\n",
    "  return percentage(1 / $column-count);\n",
    "}\n",
    "\n",
    "// Define the main grid container\n",
    ".grid-container {\n",
    "  display: flex;\n",
    "  flex-wrap: wrap;\n",
    "  margin: 0 -#{$column-gap / 2};\n",
    "\n",
    "  // Create responsive columns using media queries\n",
    "  @for $i from 1 through $column-count {\n",
    "    $width: calculate-column-width($i);\n",
    "    \n",
    "    @media (min-width: $width * $column-count + $column-gap * ($column-count - 1)) {\n",
    "      .col-#{$i} {\n",
    "        width: $width;\n",
    "        margin: 0 $column-gap / 2;\n",
    "      }\n",
    "    }\n",
    "  }\n",
    "}\n",
    "\n",
    "// Apply the grid to specific elements\n",
    ".item {\n",
    "  // Apply the appropriate column class for different screen sizes\n",
    "  @include media-breakpoint-up(md) {\n",
    "    @extend .col-2; // Adjust based on your layout requirements\n",
    "  }\n",
    "\n",
    "  @include media-breakpoint-up(lg) {\n",
    "    @extend .col-3; // Adjust based on your layout requirements\n",
    "  }\n",
    "}\n"
   ]
  },
  {
   "cell_type": "code",
   "execution_count": null,
   "metadata": {
    "vscode": {
     "languageId": "html"
    }
   },
   "outputs": [],
   "source": [
    "<div class=\"grid-container\">\n",
    "  <div class=\"col-1 item\">Item 1</div>\n",
    "  <div class=\"col-2 item\">Item 2</div>\n",
    "  <div class=\"col-3 item\">Item 3</div>\n",
    "  <!-- Add more items as needed -->\n",
    "</div>"
   ]
  },
  {
   "cell_type": "markdown",
   "metadata": {},
   "source": [
    "# Scripting in SASS\n",
    "\n",
    "## SASS Scripting\n",
    "\n",
    "Sass scripting involves using programming-like constructs (for loops, conditionals) in style sheets. It is extremely helpful in creating styles and gives you a lot of freedom difficult to achieve otherwise. Allows for more difficult and advanced styling compared to traditional CSS.\n",
    "\n",
    "## For Loops\n",
    "\n",
    "Using for loops in styling drastically makes life easier while working with repetitive styles seeing as it enables generation of styles based on conditions.\n",
    "\n",
    "```sass\n",
    "$grid-columns: 12;\n",
    "\n",
    "@for $i from 1 through $grid-columns {\n",
    "  .col-#{$i} {\n",
    "    width: percentage($i / $grid-columns);\n",
    "  }\n",
    "}\n",
    "```\n",
    "\n",
    "Define grid-columns and dynamically sets the width of each column using a for loop.\n",
    "Much shorter than it would normally be if you didn't use a for loop.\n",
    "\n",
    "### For Loop Practice\n",
    "What would appear if you used the following style on the html file below.\n",
    "\n",
    "#### HTML\n",
    "```html\n",
    "<html lang=\"en\">\n",
    "<head>\n",
    "  <meta charset=\"UTF-8\">\n",
    "  <meta name=\"viewport\" content=\"width=device-width, initial-scale=1.0\">\n",
    "  <link rel=\"stylesheet\" href=\"output2.css\">\n",
    "  <title>Boxes</title>\n",
    "</head>\n",
    "<body>\n",
    "  <div class=\"container\">\n",
    "    <!-- Colored boxes with pre-generated styles -->\n",
    "    <div class=\"box\" style=\"background-color: #ffffff;\"></div>\n",
    "    <div class=\"box\" style=\"background-color: #ffffff;\"></div>\n",
    "    <div class=\"box\" style=\"background-color: #ffffff;\"></div>\n",
    "    <div class=\"box\" style=\"background-color: #ffffff;\"></div>\n",
    "    <div class=\"box\" style=\"background-color: #ffffff;\"></div>\n",
    "  </div>\n",
    "</body>\n",
    "</html>\n",
    "```\n",
    "\n",
    "#### SASS\n",
    "```sass\n",
    "$colors: #ff0000, #ff7f00, #ffff00, #00ff00, #0000ff;\n",
    "\n",
    "@for $i from 1 through length($colors) {\n",
    "  .box:nth-child(#{$i}) {\n",
    "    background-color: nth($colors, $i);\n",
    "  }\n",
    "}\n",
    "\n",
    ".container {\n",
    "  display: flex;\n",
    "}\n",
    "\n",
    ".box {\n",
    "  width: 50px;\n",
    "  height: 50px;\n",
    "  margin: 5px;\n",
    "}\n",
    "```\n",
    "\n",
    "\n",
    "## Conditionals\n",
    "\n",
    "Conditional statements in SASS allow you to apply styles based on certain conditions. This enhances the flexibility and reusability of your stylesheets.\n",
    "\n",
    "### If Statements\n",
    "\n",
    "The '@if' statement allows you to conditionally apply a style based on a specified condition. \n",
    "\n",
    "```sass\n",
    "$theme: 'dark';\n",
    "\n",
    ".alert {\n",
    "  @if $theme == 'dark' {\n",
    "    background-color: #333;\n",
    "    color: #fff;\n",
    "  }\n",
    "}\n",
    "```\n",
    "\n",
    "### Else Statements\n",
    "\n",
    "The '@else' statement provides an alternate style when the intial @if statement condition is not met.\n",
    "\n",
    "```sass\n",
    "$theme: 'dark';\n",
    "\n",
    ".alert {\n",
    "  @if $theme == 'dark' {\n",
    "    background-color: #333;\n",
    "    color: #fff;\n",
    "  } @else {\n",
    "    background-color: #fff;\n",
    "    color: #333;\n",
    "  }\n",
    "}\n",
    "```\n",
    "\n",
    "### Else If Statements\n",
    "\n",
    "The '@else if' statement is used to check a condition when the preceding @if or @else if condition is not met.\n",
    "\n",
    "```sass\n",
    "$temperature: 25;\n",
    "\n",
    ".condition {\n",
    "  @if $temperature > 30 {\n",
    "    background-color: #ff0000; // Hot\n",
    "  } @else if $temperature > 20 {\n",
    "    background-color: #ffcc00; // Warm\n",
    "  } @else {\n",
    "    background-color: #66ccff; // Cool\n",
    "  }\n",
    "}\n",
    "```\n",
    "\n",
    "### Ternary Statement\n",
    "Ternary operators provide a concise way to express conditional statements in just one line.\n",
    "\n",
    "```sass\n",
    "$success: true;\n",
    "\n",
    ".message {\n",
    "  color: $success ? #00cc00 : #ff0000;\n",
    "}\n",
    "```\n",
    "\n",
    "\n",
    "### Conditional Examples\n",
    "```sass\n",
    "$isLoggedIn: true;\n",
    "\n",
    ".nav {\n",
    "  @if $isLoggedIn {\n",
    "    background-color: #33cc33; // Green for logged-in users\n",
    "  } @else {\n",
    "    background-color: #cc3333; // Red for guests\n",
    "  }\n",
    "}\n",
    "```\n",
    "\n",
    "```sass\n",
    "$screen-size: 800px;\n",
    "\n",
    ".element {\n",
    "  font-size: 16px;\n",
    "  \n",
    "  @if $screen-size >= 768px {\n",
    "    font-size: 20px;\n",
    "  }\n",
    "}\n",
    "```\n",
    "\n",
    "\n",
    "# Hacks\n",
    "\n",
    "Define a custom SASS function that uses a for loop in order to slightly decrease the saturation and increase the brightness of a color of your choosing and fill in those increasingly more white colors into a 3x3 array of equal height and width.\n",
    "\n",
    "\n",
    "### Example Image\n",
    "\n",
    "![pixil-frame-0 (1)](https://github.com/Ant11234/student/assets/40652645/509214d6-bf1a-40f7-9028-cfd4b9f212da)"
   ]
  },
  {
   "cell_type": "code",
   "execution_count": null,
   "metadata": {},
   "outputs": [],
   "source": [
    "// Define a SASS function to adjust saturation and brightness\n",
    "@function adjust-color($color, $saturation, $brightness) {\n",
    "  // Convert HSL values to adjust saturation and brightness\n",
    "  $hsl: adjust-hue($color, 0);\n",
    "  $hsl: change-color($hsl, $saturation: $saturation);\n",
    "  $hsl: change-color($hsl, $lightness: $brightness);\n",
    "  \n",
    "  // Convert back to hex for output\n",
    "  @return mix(white, $hsl, 100%); // Mix with white for increasing brightness\n",
    "}\n",
    "\n",
    "// Define the base color\n",
    "$base-color: #008080;\n",
    "\n",
    "// Generate a 3x3 grid of colors with increasing white\n",
    "@for $row from 1 through 3 {\n",
    "  @for $col from 1 through 3 {\n",
    "    // Calculate saturation and brightness adjustments based on row and column\n",
    "    $saturation: 80% - 10% * $row;\n",
    "    $brightness: 70% + 5% * $col;\n",
    "    \n",
    "    // Generate a variable name\n",
    "    $variable-name: color-#{$row}#{$col};\n",
    "    \n",
    "    // Output CSS variable with adjusted color\n",
    "    .#{$variable-name} {\n",
    "      --#{$variable-name}: #{adjust-color($base-color, $saturation, $brightness)};\n",
    "    }\n",
    "  }\n",
    "}\n"
   ]
  },
  {
   "cell_type": "code",
   "execution_count": null,
   "metadata": {},
   "outputs": [],
   "source": [
    "<!DOCTYPE html>\n",
    "<html lang=\"en\">\n",
    "<head>\n",
    "  <meta charset=\"UTF-8\">\n",
    "  <meta name=\"viewport\" content=\"width=device-width, initial-scale=1.0\">\n",
    "  <title>3 by 3 Grid</title>\n",
    "  <link rel=\"stylesheet\" href=\"output.css\">\n",
    "  <style>\n",
    "    .grid-container {\n",
    "      display: flex;\n",
    "      flex-wrap: wrap;\n",
    "    }\n",
    "\n",
    "    .grid-item {\n",
    "      width: calc(33.33% - 10px);\n",
    "      margin: 5px;\n",
    "      height: 100px; /* Adjust the height as needed */\n",
    "    }\n",
    "  </style>\n",
    "</head>\n",
    "<body>\n",
    "\n",
    "<div class=\"grid-container\">\n",
    "  <!-- Update class names and use CSS variables for colors -->\n",
    "  <div class=\"grid-item\" style=\"--bg-color: var(--color-11); background-color: var(--bg-color);\"></div>\n",
    "  <div class=\"grid-item\" style=\"--bg-color: var(--color-12); background-color: var(--bg-color);\"></div>\n",
    "  <div class=\"grid-item\" style=\"--bg-color: var(--color-13); background-color: var(--bg-color);\"></div>\n",
    "  <div class=\"grid-item\" style=\"--bg-color: var(--color-21); background-color: var(--bg-color);\"></div>\n",
    "  <div class=\"grid-item\" style=\"--bg-color: var(--color-22); background-color: var(--bg-color);\"></div>\n",
    "  <div class=\"grid-item\" style=\"--bg-color: var(--color-23); background-color: var(--bg-color);\"></div>\n",
    "  <div class=\"grid-item\" style=\"--bg-color: var(--color-31); background-color: var(--bg-color);\"></div>\n",
    "  <div class=\"grid-item\" style=\"--bg-color: var(--color-32); background-color: var(--bg-color);\"></div>\n",
    "  <div class=\"grid-item\" style=\"--bg-color: var(--color-33); background-color: var(--bg-color);\"></div>\n",
    "</div>\n",
    "\n",
    "</body>\n",
    "</html>\n"
   ]
  },
  {
   "cell_type": "markdown",
   "metadata": {},
   "source": [
    "# Extending & Inheritance\n",
    "\n"
   ]
  },
  {
   "cell_type": "markdown",
   "metadata": {},
   "source": [
    "Extending in SASS allows you to share styles between selectors, reducing redundancy. You have to use the @extend directive to do this. Inheritance in SASS involves using a placeholder selector, and they are represented with the percent sign %. These are essentially templates for styles. This allows for more abstraction and less repetition.\n",
    "\n"
   ]
  },
  {
   "cell_type": "markdown",
   "metadata": {},
   "source": [
    "```scss\n",
    "// common styles\n",
    "%common-style\n",
    "  color: #333\n",
    "  font-size: 16px\n",
    "\n",
    "// Use @extend to apply the common style to specific selectors\n",
    ".button\n",
    "  @extend %common-style\n",
    "  background-color: #007bff\n",
    "\n",
    ".link\n",
    "  @extend %common-style\n",
    "  text-decoration: underline\n",
    "```"
   ]
  },
  {
   "cell_type": "markdown",
   "metadata": {},
   "source": [
    "# Handling Errors and Debugging in Sass\n",
    "## 1. @error Directive:\n",
    "\n",
    "The @error directive is used to raise an error and stop the Sass compilation process if a certain condition is not met. It's helpful for catching issues early in the development process.\n",
    "\n",
    "```sass\n",
    "// SCSS Syntax\n",
    "$primary-color: #3498db; // Change this to an invalid color, e.g., 'red'\n",
    "\n",
    "@mixin validate-color($color) {\n",
    "  @if type-of($color) != color {\n",
    "    @error \"Invalid color provided: #{$color}. Please provide a valid color.\";\n",
    "  }\n",
    "}\n",
    "\n",
    ".element {\n",
    "  background-color: $primary-color;\n",
    "  @include validate-color($primary-color);\n",
    "}\n",
    "```"
   ]
  },
  {
   "cell_type": "code",
   "execution_count": 1,
   "metadata": {},
   "outputs": [
    {
     "data": {
      "text/html": [
       "<div style=\"background-color: #3498db; padding: 20px;\">\n",
       "  <p style=\"color: #fff;\">This is an example element with a primary color background.</p>\n",
       "</div>"
      ]
     },
     "metadata": {},
     "output_type": "display_data"
    }
   ],
   "source": [
    "%%html\n",
    "<div style=\"background-color: #3498db; padding: 20px;\">\n",
    "  <p style=\"color: #fff;\">This is an example element with a primary color background.</p>\n",
    "</div>"
   ]
  },
  {
   "cell_type": "markdown",
   "metadata": {},
   "source": [
    "In this example, if the provided color is not valid, the Sass compilation will stop, and an error message will be displayed.\n",
    "\n",
    "## 2. @debug Directive:\n",
    "\n",
    "The @debug directive is used to print messages to the Sass output. It's a handy tool for inspecting variable values, checking the flow of your code, and identifying issues during development.\n",
    "\n",
    "```sass\n",
    "// SCSS Syntax\n",
    "$font-size-base: 16px; // Try changing this value to observe @debug output\n",
    "\n",
    "@function calculate-line-height($font-size) {\n",
    "  @debug \"Calculating line height for font size: #{$font-size}px\";\n",
    "\n",
    "  $line-height-ratio: 1.5; \n",
    "  $line-height: $font-size * $line-height-ratio;\n",
    "\n",
    "  @return $line-height;\n",
    "}\n",
    "body {\n",
    "  font-size: $font-size-base;\n",
    "  line-height: calculate-line-height($font-size-base);\n",
    "}\n",
    "```"
   ]
  },
  {
   "cell_type": "code",
   "execution_count": 2,
   "metadata": {},
   "outputs": [
    {
     "data": {
      "text/html": [
       "<style>\n",
       "  body {\n",
       "    font-size: 16px;\n",
       "    line-height: 24px; /* Calculated line height */\n",
       "  }\n",
       "</style>"
      ]
     },
     "metadata": {},
     "output_type": "display_data"
    }
   ],
   "source": [
    "%%html\n",
    "<style>\n",
    "  body {\n",
    "    font-size: 16px;\n",
    "    line-height: 24px; /* Calculated line height */\n",
    "  }\n",
    "</style>"
   ]
  },
  {
   "cell_type": "markdown",
   "metadata": {},
   "source": [
    "In this example, the @debug statement will print a message to the console during Sass compilation, providing information about the font size being used and assisting in identifying any potential issues."
   ]
  },
  {
   "cell_type": "markdown",
   "metadata": {},
   "source": [
    "## Popcorn Hacks\n",
    "### Popcorn Hack 1:\n",
    "Try changing the primary color to an invalid value (e.g., 'red') and observe the @error message. Then, correct it to a valid color.\n",
    "![popcornhack1](/assets/img/popcornhack1.png)\n",
    "- changed it to a hex code for yellow right after"
   ]
  },
  {
   "cell_type": "markdown",
   "metadata": {},
   "source": [
    "### Popcorn Hack 2:\n",
    "Modify the base font size and observe the @debug message. Try different font sizes and see how it affects the calculated line height.\n",
    "![popcornhack2](/assets/img/popcornhack2.png)\n",
    "\n",
    "- line height of 100\n",
    "![100](/assets/img/100.png)\n",
    "\n",
    "- line height of 10\n",
    "![10](/assets/img/10.png)\n",
    "\n"
   ]
  },
  {
   "cell_type": "markdown",
   "metadata": {},
   "source": [
    "# Hacks\n",
    "\n",
    "Define a custom SASS function that uses a for loop in order to slightly decrease the saturation and increase the brightness of a color of your choosing and fill in those increasingly more white colors into a 3x3 array of equal height and width.\n",
    "\n",
    "### Example Image\n",
    "\n",
    "![pixil-frame-0 (1)](https://github.com/Ant11234/student/assets/40652645/509214d6-bf1a-40f7-9028-cfd4b9f212da)"
   ]
  },
  {
   "cell_type": "code",
   "execution_count": null,
   "metadata": {
    "vscode": {
     "languageId": "css"
    }
   },
   "outputs": [],
   "source": [
    "// Define a SASS function to adjust saturation and brightness\n",
    "@function adjust-color($color, $saturation, $brightness) {\n",
    "  // Convert HSL values to adjust saturation and brightness\n",
    "  $hsl: adjust-hue($color, 0);\n",
    "  $hsl: change-color($hsl, $saturation: $saturation);\n",
    "  $hsl: change-color($hsl, $lightness: $brightness);\n",
    "\n",
    "  // Convert back to hex for output\n",
    "  @return mix(white, $hsl, 100%); // Mix with white for increasing brightness\n",
    "}\n",
    "\n",
    "// Define the base color\n",
    "$base-color: #008080;\n",
    "\n",
    "// Generate a 3x3 grid of colors with decreasing saturation and increasing brightness\n",
    "@for $row from 1 through 3 {\n",
    "  @for $col from 1 through 3 {\n",
    "    // Calculate saturation and brightness adjustments based on row and column\n",
    "    $saturation: 80% - 10% * $row;\n",
    "    $brightness: 70% + 5% * $col;\n",
    "\n",
    "    // Generate a variable name\n",
    "    $variable-name: color-#{$row}#{$col};\n",
    "\n",
    "    // Output CSS variable with adjusted color\n",
    "    .#{$variable-name} {\n",
    "      background-color: adjust-color($base-color, $saturation, $brightness);\n",
    "      width: 100px; // Adjust based on your grid layout\n",
    "      height: 100px; // Adjust based on your grid layout\n",
    "      display: inline-block;\n",
    "      margin: 5px; // Adjust based on your grid layout\n",
    "    }\n",
    "  }\n",
    "}"
   ]
  },
  {
   "cell_type": "code",
   "execution_count": null,
   "metadata": {
    "vscode": {
     "languageId": "html"
    }
   },
   "outputs": [],
   "source": [
    "<!DOCTYPE html>\n",
    "<html lang=\"en\">\n",
    "<head>\n",
    "  <meta charset=\"UTF-8\">\n",
    "  <meta name=\"viewport\" content=\"width=device-width, initial-scale=1.0\">\n",
    "  <title>3x3 Grid of Colors</title>\n",
    "  <style>\n",
    "    // Include the generated SASS code here\n",
    "    /* ... */\n",
    "\n",
    "    /* Paste the generated CSS code here */\n",
    "    /* ... */\n",
    "  </style>\n",
    "</head>\n",
    "<body>\n",
    "\n",
    "<div class=\"grid-container\">\n",
    "  <!-- Add the generated color classes here -->\n",
    "  <div class=\"color-11\"></div>\n",
    "  <div class=\"color-12\"></div>\n",
    "  <div class=\"color-13\"></div>\n",
    "  <div class=\"color-21\"></div>\n",
    "  <div class=\"color-22\"></div>\n",
    "  <div class=\"color-23\"></div>\n",
    "  <div class=\"color-31\"></div>\n",
    "  <div class=\"color-32\"></div>\n",
    "  <div class=\"color-33\"></div>\n",
    "</div>\n",
    "\n",
    "</body>\n",
    "</html>"
   ]
  },
  {
   "cell_type": "markdown",
   "metadata": {},
   "source": [
    "## Hacks\n",
    "\n",
    "Create a grid layout that automatically adjusts the number of columns based on the screen size, using SASS variables and functions."
   ]
  },
  {
   "cell_type": "code",
   "execution_count": null,
   "metadata": {
    "vscode": {
     "languageId": "css"
    }
   },
   "outputs": [],
   "source": [
    "// Define SASS variables for grid settings\n",
    "$mobile-columns: 1;\n",
    "$tablet-columns: 2;\n",
    "$desktop-columns: 3;\n",
    "\n",
    "// Define a SASS function to calculate the width of each column\n",
    "@function calculate-column-width($column-count) {\n",
    "  return percentage(1 / $column-count);\n",
    "}\n",
    "\n",
    "// Define the main grid container\n",
    ".grid-container {\n",
    "  display: flex;\n",
    "  flex-wrap: wrap;\n",
    "  margin: 0 -10px; // Adjust margin based on your layout requirements\n",
    "\n",
    "  // Create responsive columns using media queries\n",
    "  @media (min-width: 576px) { // Small screens (e.g., mobile)\n",
    "    .grid-item {\n",
    "      width: calculate-column-width($mobile-columns);\n",
    "      margin: 0 10px; // Adjust margin based on your layout requirements\n",
    "    }\n",
    "  }\n",
    "\n",
    "  @media (min-width: 768px) { // Medium screens (e.g., tablet)\n",
    "    .grid-item {\n",
    "      width: calculate-column-width($tablet-columns);\n",
    "      margin: 0 10px; // Adjust margin based on your layout requirements\n",
    "    }\n",
    "  }\n",
    "\n",
    "  @media (min-width: 992px) { // Large screens (e.g., desktop)\n",
    "    .grid-item {\n",
    "      width: calculate-column-width($desktop-columns);\n",
    "      margin: 0 10px; // Adjust margin based on your layout requirements\n",
    "    }\n",
    "  }\n",
    "}\n",
    "\n",
    "// Apply the grid to specific elements\n",
    ".grid-item {\n",
    "  box-sizing: border-box;\n",
    "  padding: 10px; // Adjust padding based on your layout requirements\n",
    "  // Other styles...\n",
    "}\n"
   ]
  },
  {
   "cell_type": "code",
   "execution_count": null,
   "metadata": {
    "vscode": {
     "languageId": "html"
    }
   },
   "outputs": [],
   "source": [
    "<div class=\"grid-container\">\n",
    "  <div class=\"grid-item\">Item 1</div>\n",
    "  <div class=\"grid-item\">Item 2</div>\n",
    "  <div class=\"grid-item\">Item 3</div>\n",
    "  <!-- Add more items as needed -->\n",
    "</div>"
   ]
  },
  {
   "cell_type": "markdown",
   "metadata": {},
   "source": [
    "# Mixins\n",
    "\n",
    "## Mixins in SASS\n",
    "- Mixins are reusable blocks of code.\n",
    "- They help avoid repetition and keep code organized.\n",
    "- Think of them like functions in programming that return CSS code.\n"
   ]
  },
  {
   "cell_type": "markdown",
   "metadata": {},
   "source": [
    "```scss\n",
    "@mixin center-element {\n",
    "  display: flex;\n",
    "  align-items: center;\n",
    "  justify-content: center;\n",
    "}"
   ]
  },
  {
   "cell_type": "markdown",
   "metadata": {},
   "source": [
    "# Mixin with Parameters"
   ]
  },
  {
   "cell_type": "markdown",
   "metadata": {},
   "source": [
    "```scss\n",
    "@mixin box-shadow($x, $y, $blur, $color) {\n",
    "  -webkit-box-shadow: $x $y $blur $color;\n",
    "  -moz-box-shadow: $x $y $blur $color;\n",
    "  box-shadow: $x $y $blur $color;\n",
    "}"
   ]
  },
  {
   "cell_type": "markdown",
   "metadata": {},
   "source": [
    "Use of this mixin:\n",
    "\n",
    "```scss\n",
    ".card {\n",
    "  @include box-shadow(2px, 2px, 5px, rgba(0, 0, 0, .3));\n",
    "}"
   ]
  },
  {
   "cell_type": "markdown",
   "metadata": {},
   "source": [
    "# Mixins for Responsive Web Design\n",
    "\n",
    "## Responsive Design\n",
    "- It's crucial for websites to work well on all devices.\n",
    "- Responsive design adjusts the layout based on screen size.\n",
    "\n",
    "## Breakpoints in Responsive Design\n",
    "- Breakpoints are screen sizes where the design changes.\n",
    "- Common breakpoints are for mobile, tablet, and desktop screens.\n",
    "\n",
    "## Using Mixins for Breakpoints\n",
    "- Mixins can encapsulate media queries for different breakpoints.\n",
    "- This simplifies managing responsive styles.\n",
    "\n",
    "### Example of a Breakpoint Mixin\n",
    "```scss\n",
    "@mixin for-mobile {\n",
    "  @media (max-width: 600px) { @content; }\n",
    "}\n"
   ]
  },
  {
   "cell_type": "markdown",
   "metadata": {},
   "source": [
    "---------------------------------------------------------------------------------------------------------------------"
   ]
  },
  {
   "cell_type": "markdown",
   "metadata": {},
   "source": [
    "\n",
    "### Responsive Images and Media with SASS \n",
    "\n",
    "# Responsive Images and Media with SASS\n",
    "\n",
    "## Handling Images Responsively\n",
    "- Images should adapt to different screen sizes.\n",
    "- Techniques include scaling and changing sources for different resolutions.\n",
    "\n",
    "### Example: Scaling Images\n",
    "```scss\n",
    ".responsive-image {\n",
    "  width: 100%;\n",
    "  height: auto;\n",
    "}\n"
   ]
  },
  {
   "cell_type": "markdown",
   "metadata": {},
   "source": [
    "## Device-Specific Media Queries\n",
    "\n",
    "### Targeting Specific Devices\n",
    "- Media queries can be used to target styles for specific devices like iPhones or computers.\n",
    "- This is based on characteristics like device width, height, and pixel ratio.\n",
    "\n",
    "#### Example: Targeting iPhones\n",
    "- Here's how you might target styles specifically for iPhones:\n",
    "  ```scss\n",
    "  @media only screen \n",
    "  and (min-device-width : 375px) \n",
    "  and (max-device-width : 812px)\n",
    "  and (-webkit-device-pixel-ratio : 3) {\n",
    "    .iphone-specific-class {\n",
    "      // iPhone-specific styles go here\n",
    "    }\n",
    "  }\n",
    "\n",
    "\n",
    "This media query targets devices with specific dimensions and pixel ratios common to iPhones.\n"
   ]
  },
  {
   "cell_type": "markdown",
   "metadata": {},
   "source": [
    "For targeting computer screens (like desktops), you might use a broader range:\n",
    "```scss\n",
    "@media only screen and (min-width: 1024px) {\n",
    "  .computer-specific-class {\n",
    "    // Styles for larger screens like desktop computers\n",
    "  }\n",
    "}"
   ]
  },
  {
   "cell_type": "markdown",
   "metadata": {},
   "source": [
    "\n",
    "# Conclusion\n",
    "\n",
    "- SASS enhances CSS with features like mixins, leading to more efficient and maintainable code.\n",
    "- Custom mixins for breakpoints greatly aid in creating flexible, responsive layouts.\n",
    "- Techniques for responsive image and media handling in SASS ensure optimal visual presentation across different devices.\n",
    "- Overall, SASS is a valuable asset in modern web development, streamlining the creation of responsive, visually appealing websites.\n"
   ]
  }
 ],
 "metadata": {
  "kernelspec": {
   "display_name": "Python 3",
   "language": "python",
   "name": "python3"
  },
  "language_info": {
   "name": "python",
   "version": "3.11.5"
  }
 },
 "nbformat": 4,
 "nbformat_minor": 2
}
