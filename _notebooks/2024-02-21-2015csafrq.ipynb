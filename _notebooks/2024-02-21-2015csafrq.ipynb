{
 "cells": [
  {
   "cell_type": "markdown",
   "metadata": {},
   "source": [
    "---\n",
    "title: CSA 2015 FRQ 1\n",
    "description: These are my solutions for the 2015 CSA FRQ 1\n",
    "toc: true\n",
    "layout: post\n",
    "---"
   ]
  },
  {
   "cell_type": "markdown",
   "metadata": {},
   "source": [
    "# Question 1: 2D Arrays"
   ]
  },
  {
   "cell_type": "markdown",
   "metadata": {},
   "source": [
    "(a) Write a static method arraySum that calculates and returns the sum of the entries in a specified one-dimensional array. The following example shows an array arr1 and the value returned by a call to arraySum.\n",
    "\n",
    "My Solution: "
   ]
  },
  {
   "cell_type": "code",
   "execution_count": 1,
   "metadata": {
    "vscode": {
     "languageId": "java"
    }
   },
   "outputs": [
    {
     "data": {
      "text/plain": [
       "22"
      ]
     },
     "execution_count": 1,
     "metadata": {},
     "output_type": "execute_result"
    }
   ],
   "source": [
    "// This method takes an integer array as input and returns the sum of all elements in the array.\n",
    "public static int arraySum(int[] arr) {\n",
    "    // Initialize a variable to store the sum of the elements.\n",
    "    int sum = 0;\n",
    "    // Iterate through each element of the array.\n",
    "    for (int i = 0; i < arr.length; i++) {\n",
    "        // Add the current element to the sum.\n",
    "        sum += arr[i];\n",
    "    }\n",
    "    // Return the total sum of the elements in the array.\n",
    "    return sum;\n",
    "}\n",
    "\n",
    "// Create an integer array with values 4, 5, 6, and 7.\n",
    "int[] arr = {4, 5, 6, 7};\n",
    "// Call the arraySum method passing the array 'arr' as an argument and print the result.\n",
    "arraySum(arr);"
   ]
  },
  {
   "cell_type": "markdown",
   "metadata": {},
   "source": [
    "I wanted to create a method to quickly add up all the numbers in an array. This meant I needed to understand basic loops and variables in Java.\n",
    "\n",
    "To make the method, I wrote a simple loop that went through each number in the array. Inside the loop, I used a variable to keep track of the total sum. At the start of the loop, I set this variable to zero. Then, with each loop, I added the current number to the total.\n",
    "\n",
    "Testing the method was easy. I made a small array with a few numbers and used my method to find their total. I checked if the total matched what I expected by adding the numbers manually.\n",
    "\n",
    "Developing this method helped me practice simple programming techniques and understand how to quickly solve basic tasks in Java."
   ]
  },
  {
   "cell_type": "markdown",
   "metadata": {},
   "source": [
    "(b) Write a static method rowSums that calculates the sums of each of the rows in a given two-dimensional array and returns these sums in a one-dimensional array. The method has one parameter, a two-dimensional array arr2D of int values. The array is in row-major order: arr2D [ r ] [ c ] is the entry at row r and column c. The method returns a one-dimensional array with one entry for each row of arr2D such that each entry is the sum of the corresponding row in arr2D. As a reminder, each row of a two-dimensional array is a one-dimensional array.\n",
    "\n",
    "For example, if mat1 is the array represented by the following table, the call rowSums(mat1) returns the array {16, 32, 28, 20}.\n",
    "\n",
    "Assume that arraySum works as specified, regardless of what you wrote in part (a). You must use arraySum appropriately to receive full credit.\n",
    "\n",
    "My Solution:"
   ]
  },
  {
   "cell_type": "code",
   "execution_count": 2,
   "metadata": {
    "vscode": {
     "languageId": "java"
    }
   },
   "outputs": [
    {
     "name": "stdout",
     "output_type": "stream",
     "text": [
      "[16, 32, 28, 20]\n"
     ]
    }
   ],
   "source": [
    "// This method takes a 2D integer array as input and returns an array containing the sum of each row.\n",
    "public static int[] rowSums(int[][] arr2d) {\n",
    "    // Create an array to store the sums of each row, its length is the same as the number of rows in the input array.\n",
    "    int[] sumArr = new int[arr2d.length];\n",
    "    \n",
    "    // Iterate through each row of the 2D array.\n",
    "    for (int i = 0; i < arr2d.length; i++) {\n",
    "        // Calculate the sum of the current row using the arraySum method.\n",
    "        int rowSum = arraySum(arr2d[i]);\n",
    "        // Store the sum of the current row in the corresponding index of the sumArr.\n",
    "        sumArr[i] = rowSum;\n",
    "    }\n",
    "    // Return the array containing the sums of each row.\n",
    "    return sumArr;\n",
    "}\n",
    "\n",
    "// Define a 2D array named mat1 with integer values.\n",
    "int[][] mat1 = new int[][]{\n",
    "    {1, 3, 2, 7, 3},\n",
    "    {10, 10, 4, 6, 2},\n",
    "    {5, 3, 5, 9, 6},\n",
    "    {7, 6, 4, 2, 1}\n",
    "};\n",
    "\n",
    "// Print the array containing the sums of each row of mat1.\n",
    "System.out.println(Arrays.toString(rowSums(mat1)));"
   ]
  },
  {
   "cell_type": "markdown",
   "metadata": {},
   "source": [
    "I initialized an array to store the row sums, then used a loop to go through each row of the 2D array. Inside the loop, I calculated the sum of the current row using the arraySum method, which I'd already made for summing 1D arrays. I stored each row sum in the corresponding index of the result array.\n",
    "\n",
    "Testing the method was simple. I made a sample 2D array, ran the rowSums method on it, and checked if the output matched what I expected."
   ]
  },
  {
   "cell_type": "markdown",
   "metadata": {},
   "source": [
    "(c) A two-dimensional array is diverse if no two of its rows have entries that sum to the same value. In the following examples, the array mat1 is diverse because each row sum is different, but the array mat2 is not diverse because the first and last rows have the same sum.\n",
    "\n",
    "Assume that arraySum and rowSums work as specified, regardless of what you wrote in parts (a) and(b). You must use rowSums appropriately to receive full credit.\n",
    "Complete method isDiverse below.\n",
    "\n",
    "My Solution: "
   ]
  },
  {
   "cell_type": "code",
   "execution_count": 3,
   "metadata": {
    "vscode": {
     "languageId": "java"
    }
   },
   "outputs": [
    {
     "name": "stdout",
     "output_type": "stream",
     "text": [
      "[16, 32, 28, 20]\n"
     ]
    }
   ],
   "source": [
    "// This method calculates the sum of each row in a 2D array and returns an array containing those sums.\n",
    "public static int[] rowSums(int[][] arr2d) {\n",
    "    // Create an array to store the sums of each row. Its length is equal to the number of rows in the input array.\n",
    "    int[] sumArr = new int[arr2d.length];\n",
    "    \n",
    "    // Iterate through each row of the 2D array.\n",
    "    for(int i = 0; i < arr2d.length; i++){\n",
    "        // Calculate the sum of the current row using the arraySum method.\n",
    "        int rowSum = arraySum(arr2d[i]);\n",
    "        // Store the sum of the current row in the corresponding index of the sumArr.\n",
    "        sumArr[i] = rowSum;\n",
    "    }\n",
    "    // Return the array containing the sums of each row.\n",
    "    return sumArr;\n",
    "}\n",
    "\n",
    "// Define a 2D array named mat1 with integer values.\n",
    "int[][] mat1 = new int[][]{\n",
    "    {1,3,2,7,3},\n",
    "    {10,10,4,6,2},\n",
    "    {5,3,5,9,6},\n",
    "    {7,6,4,2,1}\n",
    "};\n",
    "\n",
    "// Print the array containing the sums of each row of mat1.\n",
    "System.out.println(Arrays.toString(rowSums(mat1)));"
   ]
  },
  {
   "cell_type": "markdown",
   "metadata": {},
   "source": [
    "I started by initializing an array to hold the row sums, with its length matching the number of rows in the input 2D array. Then, using a loop, I went through each row of the 2D array. Inside the loop, I used the arraySum method I had previously created to find the sum of the current row, and stored this sum in the corresponding index of the result array.\n",
    "\n",
    "Testing the method was straightforward. I created a sample 2D array called mat1, filled it with values, and called the rowSums method on it. Using Arrays.toString, I printed the resulting array to verify that the row sums were computed correctly."
   ]
  }
 ],
 "metadata": {
  "kernelspec": {
   "display_name": "Java",
   "language": "java",
   "name": "java"
  },
  "language_info": {
   "codemirror_mode": "java",
   "file_extension": ".jshell",
   "mimetype": "text/x-java-source",
   "name": "Java",
   "pygments_lexer": "java",
   "version": "16.0.1+9-24"
  }
 },
 "nbformat": 4,
 "nbformat_minor": 2
}
