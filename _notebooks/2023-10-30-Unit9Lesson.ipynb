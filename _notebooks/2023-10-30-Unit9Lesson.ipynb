{
 "cells": [
  {
   "cell_type": "markdown",
   "metadata": {},
   "source": [
    "---\n",
    "layout: post\n",
    "title: Unit 9 Lesson\n",
    "description: A progressive journey through Java Inheritance\n",
    "courses: { csa: {week: 11} }\n",
    "type: hacks\n",
    "---"
   ]
  },
  {
   "cell_type": "markdown",
   "metadata": {},
   "source": [
    "# 9.1 What is inheritance?\n",
    "\n",
    "- Inheritance is like a family, except the kids only have one parent instead of two\n",
    "- For example:\n",
    "\n",
    "<p class=\"center1\">\n",
    "  <img src=\"https://raw.githubusercontent.com/Soham360/sturdy-fiesta/main/images/Inherit.png\" width=500px/>\n",
    "</p>\n",
    "The java code for it:\n",
    "\n",
    "```java\n",
    "class Mom{\n",
    "    // CODE\n",
    "}\n",
    "class Son extends Mom{\n",
    "    // CODE\n",
    "}\n",
    "class Daughter extends Mom{\n",
    "    // CODE\n",
    "}\n",
    "```\n",
    "In this example, the Son and Daughter inherits the Mom, meaning it inherit the components of the mother. This makes the \"Son\" and \"Daughter\" classes the subclasses of the \"Mom\" class as they inherit the \"Mom\" class components and the \"Mom\" class is the superclass. "
   ]
  },
  {
   "cell_type": "markdown",
   "metadata": {},
   "source": [
    "## 9.2 Using the Super keyword for Constructors\n",
    "- One keyword to know is the super keyword\n",
    "- The super keyword allows the subclass to store key variables in the main class's constructor (also known as the super class)\n",
    "- Example below:"
   ]
  },
  {
   "cell_type": "code",
   "execution_count": 8,
   "metadata": {
    "vscode": {
     "languageId": "java"
    }
   },
   "outputs": [
    {
     "name": "stdout",
     "output_type": "stream",
     "text": [
      "VROOM! VROOM!\n",
      "I am the Tesla\n",
      "I was made in 2003\n",
      "I move at 200 miles per hour\n",
      "I hold at most 5 people\n"
     ]
    }
   ],
   "source": [
    "public class Vehicle { //This is the Superclass, it inherits the key variables for its subclasses\n",
    "    public String Name; //They don't have to be public, but I just put public word for fun\n",
    "    public String Sound;\n",
    "    public int creation;\n",
    "    public int Mph;\n",
    "    public Vehicle(String name, int dateMade, String sound, int mph){ //Similar to the constructor used in Javascript. It maintains values within this superclass\n",
    "        Name = name; \n",
    "        Sound = sound;\n",
    "        creation = dateMade;\n",
    "        Mph = mph;\n",
    "    }\n",
    "}\n",
    "\n",
    "public class Car extends Vehicle {\n",
    "    public int capacity;\n",
    "    public Car(String name, int dateMade, String sound, int mph, int passangerCapacity){\n",
    "        super(name, dateMade,sound, mph); //Uses the superclass's constructor to store the key variables for the Car subclass\n",
    "        capacity = passangerCapacity;\n",
    "    }\n",
    "    public void Information(){ //Prints out the values the super class's constructors inherits\n",
    "        System.out.println(super.Sound + \" \" + this.Sound);\n",
    "        System.out.println(\"I am the \" + super.Name);\n",
    "        System.out.println(\"I was made in \" + super.creation);\n",
    "        System.out.println(\"I move at \" + super.Mph +\" miles per hour\");\n",
    "        System.out.println(\"I hold at most \" + capacity + \" people\");\n",
    "    }\n",
    "}\n",
    "\n",
    "public class Test {\n",
    "    public static void main(String[] args){\n",
    "        Car Tesla = new Car(\"Tesla\", 2003, \"VROOM!\", 200, 5);\n",
    "        Tesla.Information();\n",
    "    }\n",
    "}\n",
    "\n",
    "Test.main(null);"
   ]
  },
  {
   "cell_type": "markdown",
   "metadata": {},
   "source": [
    "## Popcorn Hack: \n",
    "Make it so that a new instance of Bob runs\n",
    "<script>message any of us on slack \"I\" for an extra 0.01 (max of 1/1)</script>"
   ]
  },
  {
   "cell_type": "code",
   "execution_count": 6,
   "metadata": {
    "vscode": {
     "languageId": "java"
    }
   },
   "outputs": [
    {
     "name": "stdout",
     "output_type": "stream",
     "text": [
      "Brrrmm! Brrrmm!\n",
      "I am the Bob's Car\n",
      "I was made in 2010\n",
      "I move at 60 miles per hour\n",
      "I hold at most 4 people\n"
     ]
    }
   ],
   "source": [
    "public class Vehicle { //This is the Superclass, it inherits the key variables for its subclasses\n",
    "    public String Name; //They don't have to be public, but I just put public word for fun\n",
    "    public String Sound;\n",
    "    public int creation;\n",
    "    public int Mph;\n",
    "    public Vehicle(String name, int dateMade, String sound, int mph){ //Similar to the constructor used in Javascript. It maintains values within this superclass\n",
    "        Name = name; \n",
    "        Sound = sound;\n",
    "        creation = dateMade;\n",
    "        Mph = mph;\n",
    "    }\n",
    "}\n",
    "\n",
    "public class Car extends Vehicle {\n",
    "    public int capacity;\n",
    "    public Car(String name, int dateMade, String sound, int mph, int passangerCapacity){\n",
    "        super(name, dateMade,sound, mph); //Uses the superclass's constructor to store the key variables for the Car subclass\n",
    "        capacity = passangerCapacity;\n",
    "    }\n",
    "    public void Information(){ //Prints out the values the super class's constructors inherits\n",
    "        System.out.println(super.Sound + \" \" + this.Sound);\n",
    "        System.out.println(\"I am the \" + super.Name);\n",
    "        System.out.println(\"I was made in \" + super.creation);\n",
    "        System.out.println(\"I move at \" + super.Mph +\" miles per hour\");\n",
    "        System.out.println(\"I hold at most \" + capacity + \" people\");\n",
    "    }\n",
    "}\n",
    "\n",
    "public class Test {\n",
    "    public static void main(String[] args) {\n",
    "        Car bob = new Car(\"Bob's Car\", 2010, \"Brrrmm!\", 60, 4);\n",
    "        bob.Information();\n",
    "    }\n",
    "}\n",
    "\n",
    "Test.main(null);"
   ]
  },
  {
   "cell_type": "markdown",
   "metadata": {},
   "source": [
    "## 9.3 Overriding Methods\n",
    "\n",
    "Method overriding is a concept in object-oriented programming (OOP) that allows a subclass to provide a specific implementation of a method that is already defined in its superclass. This enables a subclass to provide its own behavior for a method while maintaining a relationship with its superclass.\n",
    "\n",
    "In the context Java, here's how method overriding works:\n",
    "\n",
    "Inheritance: Method overriding is closely related to inheritance. You have a superclass (or base class) and a subclass (or derived class). The subclass inherits properties and behaviors from the superclass.\n",
    "\n",
    "Superclass Method: The superclass defines a method. This method can be overridden by the subclass.\n",
    "\n",
    "Subclass Overrides: In the subclass, you can provide a new implementation of the same method. This is done by using the same method name, return type, and parameter list.\n",
    "\n",
    "@Override Annotation (Java): In Java, it's common to use the @Override annotation to explicitly indicate that a method in the subclass is intended to override a method in the superclass. This helps catch errors during compilation if the method doesn't correctly match the superclass method signature.\n",
    "\n",
    "<script>message any of us on slack \"Love\" for an extra 0.01 (max of 1/1)</script>\n",
    "\n",
    "### Why Override Methods:\n",
    "\n",
    "Method overriding is used for several reasons:\n",
    "\n",
    "Customization: It allows you to customize or extend the behavior of a superclass method in the subclass to meet the specific needs of the subclass.\n",
    "\n",
    "Polymorphism: Method overriding is a key component of polymorphism. It enables you to treat objects of the subclass as if they were objects of the superclass, promoting flexibility and extensibility.\n",
    "\n",
    "Consistency: Method overriding helps maintain a consistent interface for classes in an inheritance hierarchy. Code that uses the superclass doesn't need to be changed when a subclass overrides a method.\n",
    "\n",
    "Code Reusability: It promotes code reusability by allowing you to build on existing code in the superclass."
   ]
  },
  {
   "cell_type": "code",
   "execution_count": 10,
   "metadata": {
    "vscode": {
     "languageId": "java"
    }
   },
   "outputs": [
    {
     "name": "stdout",
     "output_type": "stream",
     "text": [
      "Animals make sounds\n",
      "Dog barks\n",
      "Cat meows\n"
     ]
    }
   ],
   "source": [
    "class Animal {\n",
    "    void makeSound() {\n",
    "        System.out.println(\"Animals make sounds\");\n",
    "    }\n",
    "}\n",
    "\n",
    "class Dog extends Animal {\n",
    "    @Override\n",
    "    void makeSound() {\n",
    "        System.out.println(\"Dog barks\");\n",
    "    }\n",
    "}\n",
    "\n",
    "class Cat extends Animal {\n",
    "    @Override\n",
    "    void makeSound() {\n",
    "        System.out.println(\"Cat meows\");\n",
    "    }\n",
    "}\n",
    "\n",
    "public class Main {\n",
    "    public static void main(String[] args) {\n",
    "        Animal animal = new Animal();\n",
    "        Animal dog = new Dog();\n",
    "        Animal cat = new Cat();\n",
    "\n",
    "        animal.makeSound(); // Output: Animals make sounds\n",
    "        dog.makeSound();    // Output: Dog barks\n",
    "        cat.makeSound();    // Output: Cat meows\n",
    "    }\n",
    "}\n",
    "\n",
    "Main.main(null);"
   ]
  },
  {
   "cell_type": "markdown",
   "metadata": {},
   "source": [
    "## In this example:\n",
    "\n",
    "We have a base class Animal with a method makeSound().\n",
    "\n",
    "We create two subclasses, Dog and Cat, which inherit from the Animal class.\n",
    "\n",
    "Both Dog and Cat classes override the makeSound() method with their own implementations.\n",
    "\n",
    "In the main method, we create instances of the base class and its subclasses.\n",
    "\n",
    "We demonstrate polymorphism by calling the makeSound() method on objects of the base class and the subclasses. The method called depends on the actual type of the object, not the reference type.\n",
    "\n",
    "This showcases how method overriding allows you to provide specific implementations for methods in subclasses, promoting polymorphism and custom behavior for each subclass."
   ]
  },
  {
   "cell_type": "markdown",
   "metadata": {},
   "source": [
    "## Another Example:\n",
    "\n",
    "\n",
    "<img class=\"image\" src=\"https://github.com/AniCricKet/musical-guacamole/assets/91163802/576237f9-cdc4-409b-84f9-96dffe0cdd5c\" width=32%>\n",
    "<img class=\"image\" src=\"https://github.com/AniCricKet/musical-guacamole/assets/91163802/03923e22-2b6e-4e4d-9244-1d5145f6c6d9\" width=32%>\n",
    "<img class=\"image\" src=\"https://github.com/AniCricKet/musical-guacamole/assets/91163802/5fe0c72c-c17b-4edb-a567-8c9098998aac\" width=32%>"
   ]
  },
  {
   "cell_type": "markdown",
   "metadata": {},
   "source": [
    "\n",
    "Imagine you're building a program to manage sports team rosters. You can have a base class 'Athlete' representing common attributes and actions of all athletes. Then, create subclasses for specific sports like 'FootballPlayer', 'BasketballPlayer', and 'SoccerPlayer'."
   ]
  },
  {
   "cell_type": "code",
   "execution_count": 11,
   "metadata": {
    "vscode": {
     "languageId": "java"
    }
   },
   "outputs": [
    {
     "name": "stdout",
     "output_type": "stream",
     "text": [
      "John Mortensen is training.\n",
      "Athlete Info:\n",
      "Name: John Mortensen\n",
      "Age: 19\n",
      "Jersey Number: 4\n",
      "Position: Teacher\n"
     ]
    }
   ],
   "source": [
    "// Base Class\n",
    "class Athlete {\n",
    "    String name;\n",
    "    int age;\n",
    "    int jerseyNumber;\n",
    "    String position;\n",
    "\n",
    "    public Athlete(String name, int age, int jerseyNumber, String position) {\n",
    "        this.name = name;\n",
    "        this.age = age;\n",
    "        this.jerseyNumber = jerseyNumber;\n",
    "        this.position = position;\n",
    "    }\n",
    "\n",
    "    public void train() {\n",
    "        System.out.println(name + \" is training.\");\n",
    "    }\n",
    "\n",
    "    public void displayInfo() {\n",
    "        System.out.println(\"Athlete Info:\");\n",
    "        System.out.println(\"Name: \" + name);\n",
    "        System.out.println(\"Age: \" + age);\n",
    "        System.out.println(\"Jersey Number: \" + jerseyNumber);\n",
    "        System.out.println(\"Position: \" + position);\n",
    "    }\n",
    "}\n",
    "\n",
    "Athlete athlete = new Athlete(\"John Mortensen\", 19, 4, \"Teacher\");\n",
    "athlete.train();\n",
    "athlete.displayInfo();"
   ]
  },
  {
   "cell_type": "code",
   "execution_count": 12,
   "metadata": {
    "vscode": {
     "languageId": "java"
    }
   },
   "outputs": [],
   "source": [
    "class FootballPlayer extends Athlete {\n",
    "    public FootballPlayer(String name, int age, int jerseyNumber, String position) {\n",
    "        super(name, age, jerseyNumber, position);\n",
    "    }\n",
    "\n",
    "    @Override\n",
    "    public void train() {\n",
    "        System.out.println(name + \" is practicing football drills.\");\n",
    "    }\n",
    "\n",
    "    @Override\n",
    "    public void displayInfo() {\n",
    "        super.displayInfo();\n",
    "    }\n",
    "}\n",
    "\n",
    "class BasketballPlayer extends Athlete {\n",
    "    public BasketballPlayer(String name, int age, int jerseyNumber, String position) {\n",
    "        super(name, age, jerseyNumber, position);\n",
    "    }\n",
    "\n",
    "    @Override\n",
    "    public void train() {\n",
    "        System.out.println(name + \" is shooting 3s on the court.\");\n",
    "    }\n",
    "\n",
    "    @Override\n",
    "    public void displayInfo() {\n",
    "        super.displayInfo();\n",
    "    }\n",
    "}\n",
    "\n",
    "class SoccerPlayer extends Athlete {\n",
    "    public SoccerPlayer(String name, int age, int jerseyNumber, String position) {\n",
    "        super(name, age, jerseyNumber, position);\n",
    "    }\n",
    "\n",
    "    @Override\n",
    "    public void train() {\n",
    "        System.out.println(name + \" is practicing taking free kicks.\");\n",
    "    }\n",
    "\n",
    "    @Override\n",
    "    public void displayInfo() {\n",
    "        super.displayInfo();\n",
    "    }\n",
    "}\n"
   ]
  },
  {
   "cell_type": "code",
   "execution_count": 13,
   "metadata": {
    "vscode": {
     "languageId": "java"
    }
   },
   "outputs": [
    {
     "name": "stdout",
     "output_type": "stream",
     "text": [
      "Tyreek Hill is practicing football drills.\n",
      "Athlete Info:\n",
      "Name: Tyreek Hill\n",
      "Age: 28\n",
      "Jersey Number: 10\n",
      "Position: Wide Receiver\n",
      "\n",
      "Jimmy Butler is shooting 3s on the court.\n",
      "Athlete Info:\n",
      "Name: Jimmy Butler\n",
      "Age: 32\n",
      "Jersey Number: 22\n",
      "Position: Small Forward\n",
      "\n",
      "Neymar Jr is practicing taking free kicks.\n",
      "Athlete Info:\n",
      "Name: Neymar Jr\n",
      "Age: 31\n",
      "Jersey Number: 10\n",
      "Position: Left Winger\n",
      "\n"
     ]
    }
   ],
   "source": [
    "FootballPlayer footballPlayer = new FootballPlayer(\"Tyreek Hill\", 28, 10, \"Wide Receiver\");\n",
    "BasketballPlayer basketballPlayer = new BasketballPlayer(\"Jimmy Butler\", 32, 22, \"Small Forward\");\n",
    "SoccerPlayer soccerPlayer = new SoccerPlayer(\"Neymar Jr\", 31, 10, \"Left Winger\");\n",
    "\n",
    "footballPlayer.train();\n",
    "footballPlayer.displayInfo();\n",
    "System.out.println();\n",
    "\n",
    "basketballPlayer.train();\n",
    "basketballPlayer.displayInfo();\n",
    "System.out.println();\n",
    "\n",
    "soccerPlayer.train();\n",
    "soccerPlayer.displayInfo();\n",
    "System.out.println();"
   ]
  },
  {
   "cell_type": "markdown",
   "metadata": {},
   "source": [
    "## Explanation:\n",
    "\n",
    "In this Java code, you have a basic \"Athlete\" class with information and actions that all athletes share. Then, there are specific types of athletes (football, basketball, and soccer players) that inherit these common traits but also have their unique behaviors, like training routines. Method overriding lets them have their own way of training while keeping the shared information, making the code easy to manage and reuse for different types of athletes.\n",
    "\n",
    "### Popcorn Hack:\n",
    "\n",
    "Why is it helpful to have a common base class like 'Athlete' for all these different types of athletes? How does it make the code more organized?\n",
    "- Athletes share certain similarities, and having a foundational class named 'Athlete' enables all the subclasses or athletes specific to particular sports to inherit these common characteristics through the 'extend' mechanism. Nevertheless, various athlete types might require distinct training methods, dietary plans, and more, which can be customized using the 'override' feature. This approach eliminates the need to recreate an 'Athlete' class for each athlete and instead allows the modification of specific methods within the base class. This flexibility permits the creation of multiple subclasses with individual attributes and methods, resulting in more efficient and well-structured code."
   ]
  },
  {
   "cell_type": "markdown",
   "metadata": {},
   "source": [
    "## 9.4 Using Super keyword for Methods\n",
    "- Why only use super for constructors when you can use them for methods too?\n",
    "- With the super key word, not only can you store variables, but also store methods"
   ]
  },
  {
   "cell_type": "code",
   "execution_count": 14,
   "metadata": {
    "vscode": {
     "languageId": "java"
    }
   },
   "outputs": [
    {
     "name": "stdout",
     "output_type": "stream",
     "text": [
      "I am a Dog\n",
      "Woof!\n",
      "I am a Cow\n",
      "MOOOO!\n"
     ]
    }
   ],
   "source": [
    "class Animal{\n",
    "    public void Introduction(String name){\n",
    "        System.out.println(\"I am a \" + name);\n",
    "    }\n",
    "}\n",
    "class Dog extends Animal{ \n",
    "    public void Woof(){\n",
    "        super.Introduction(\"Dog\");//Inherits the introduction method in the Animal Class, then introduces itself as a dog\n",
    "        System.out.println(\"Woof!\"); //Does its own thing\n",
    "    }\n",
    "}\n",
    "class Cow extends Animal{\n",
    "    public void Moo(){\n",
    "        super.Introduction(\"Cow\");//Inherits the introduction method in the Animal Class, then introduces itself as a cow\n",
    "        System.out.println(\"MOOOO!\");//Does its own thing\n",
    "    }\n",
    "}\n",
    "class Test{\n",
    "    public static void main(String[] args){\n",
    "        Dog dog = new Dog();\n",
    "        Cow cow = new Cow();\n",
    "        dog.Woof();\n",
    "        cow.Moo();\n",
    "    }\n",
    "}\n",
    "Test.main(null);"
   ]
  },
  {
   "cell_type": "markdown",
   "metadata": {},
   "source": [
    "## 9.4 Hack\n",
    "Finish up the code with this criteria: All subclasses must say their origin, the origin can be from SchoolSupply class, and it must run through main."
   ]
  },
  {
   "cell_type": "code",
   "execution_count": 15,
   "metadata": {
    "vscode": {
     "languageId": "java"
    }
   },
   "outputs": [
    {
     "name": "stdout",
     "output_type": "stream",
     "text": [
      "Pencil's Information:\n",
      "I am a pencil\n",
      "I write.\n",
      "\n",
      "Eraser's Information:\n",
      "I am a eraser\n",
      "I remove mistakes.\n"
     ]
    }
   ],
   "source": [
    "class SchoolSupply {\n",
    "    public void BasicInfo(String supply) {\n",
    "        System.out.println(\"I am a \" + supply);\n",
    "    }\n",
    "}\n",
    "\n",
    "class Pencil extends SchoolSupply {\n",
    "    public void Information() {\n",
    "        super.BasicInfo(\"pencil\");  //BasicInfo origin\n",
    "        System.out.println(\"I write.\");\n",
    "    }\n",
    "}\n",
    "\n",
    "class Eraser extends SchoolSupply {\n",
    "    public void Information() {\n",
    "        super.BasicInfo(\"eraser\");   //BasicInfo origin\n",
    "        System.out.println(\"I remove mistakes.\");\n",
    "    }\n",
    "}\n",
    "\n",
    "public class Test {\n",
    "    public static void main(String[] args) {\n",
    "        Pencil pencil = new Pencil();\n",
    "        Eraser eraser = new Eraser();\n",
    "\n",
    "        System.out.println(\"Pencil's Information:\");\n",
    "        pencil.Information();\n",
    "\n",
    "        System.out.println(\"\\nEraser's Information:\");\n",
    "        eraser.Information();\n",
    "    }\n",
    "}\n",
    "\n",
    "Test.main(null);"
   ]
  },
  {
   "cell_type": "markdown",
   "metadata": {},
   "source": [
    "## 9.5 Creating References Using Inheritance Hierarchies\n",
    "Inheritance can be thought as an upside down tree with the root on the top and the leaves on the bottom. The root is the superclass while the leaves are the subclasses of this superclass. A visual representation of this tree is called a type diagram or hierarchy tree.\n",
    "\n",
    "A sample structure would be like:\n",
    "```\n",
    "public class A\n",
    "public class B extends A\n",
    "public class C extends B\n",
    "public class D extends C\n",
    "public class E extends I\n",
    "public class F extends I\n",
    "public class G extends H\n",
    "public class H extends A\n",
    "public class I extends H\n",
    "```\n",
    "## Popcorn Hack\n",
    "- Draw a hierarchy tree for the above structure and add the picture here\n",
    "<p class=\"center1\">\n",
    "  <img src=\"https://github.com/vivianknee/ViviannCSA/blob/main/images/inheritanceTree.png?raw=true\" width=500px/>\n",
    "</p>\n",
    "\n",
    "This structure works as C not only inherits properties from B, but it also inherits properties from A. B is like C's parent and A is like C's grandparent. Think about it like real life, all families inherit something from their ancestors.\n",
    "\n",
    "In addition, you could also create objects like this:\n",
    "```\n",
    "C c = new C();\n",
    "B c = new C();\n",
    "A c = new C();\n",
    "```"
   ]
  },
  {
   "cell_type": "code",
   "execution_count": 16,
   "metadata": {
    "vscode": {
     "languageId": "java"
    }
   },
   "outputs": [],
   "source": [
    "// This is the above example in code form\n",
    "\n",
    "class A {}\n",
    "class B extends A {}\n",
    "class C extends B {}\n",
    "\n",
    "public class Main {\n",
    "    public static void main(String[] args) {\n",
    "        C c = new C(); // variable c is of type C\n",
    "        B b = new C(); // variable b is of type B, but refers to an instance of C\n",
    "        A a = new C(); // variable a is of type A, but refers to an instance of C\n",
    "    }\n",
    "}"
   ]
  },
  {
   "cell_type": "markdown",
   "metadata": {},
   "source": [
    "## 9.6 Polymorphism\n",
    "\n",
    "A **polymorphic** variable is polymorphic when it can refer to objects from different classes at different points in time.\n",
    "\n",
    "- A reference variable can store a reference to its declared class or any subclass of its declared class.\n",
    "\n",
    "A method or operator is considered polymorphic when they are **overridden** in at least one subclass.\n",
    "\n",
    "Polymorphism is the act of executing an overridden non-**final** method from the correct class at runtime based on the actual object type.\n",
    "\n",
    "Polymorphism allows **dynamic binding** for a method call to be executed based on the class of the object referenced instead of the declared class.\n",
    "\n",
    "## Example 1\n",
    "Java polymorphism is mainly split into 2 types\n",
    "\n",
    "Runtime\n",
    "- Process in which a function call to the overridden method is resolved at Runtime. This type of polymorphism is achieved by Method Overriding.\n",
    "\n",
    "Compile Time\n",
    "- Also known as static polymorphism. This type is achieved by function overloading or operator overloading\n",
    "- Note: But java doesn't support Operator Overloading\n",
    "- When there are multiple functions with the same name but different parameters then these functions are said to be overloaded. Functions can be overloaded by changes in the number of arguments or/and a change in the type of arguments. \n",
    "\n",
    "Here is an example of compile polymorphism"
   ]
  },
  {
   "cell_type": "code",
   "execution_count": 17,
   "metadata": {
    "vscode": {
     "languageId": "java"
    }
   },
   "outputs": [
    {
     "name": "stdout",
     "output_type": "stream",
     "text": [
      "8\n",
      "42\n"
     ]
    }
   ],
   "source": [
    "// Class 1\n",
    "// Helper class\n",
    "class Helper {\n",
    " \n",
    "    // Method 1\n",
    "    // Multiplication of 2 numbers\n",
    "    static int Multiply(int a, int b)\n",
    "    {\n",
    " \n",
    "        // Return product\n",
    "        return a * b;\n",
    "    }\n",
    " \n",
    "    // Method 2\n",
    "    // // Multiplication of 3 numbers\n",
    "    static int Multiply(int a, int b, int c)\n",
    "    {\n",
    " \n",
    "        // Return product\n",
    "        return a * b * c;\n",
    "    }\n",
    "}\n",
    " \n",
    "// Class 2\n",
    "// Main class\n",
    "class GFG {\n",
    " \n",
    "    // Main driver method\n",
    "    public static void main(String[] args)\n",
    "    {\n",
    " \n",
    "        // Calling method by passing\n",
    "        // input as in arguments\n",
    "        System.out.println(Helper.Multiply(2, 4));\n",
    "        System.out.println(Helper.Multiply(2, 7, 3));\n",
    "    }\n",
    "}\n",
    "GFG.main(null)"
   ]
  },
  {
   "cell_type": "markdown",
   "metadata": {},
   "source": [
    "## Example 2 & Popcorn Hack\n",
    "Before executing cell, look at the example below. Think about which methods compiles? Which methods execute?\n",
    "<script>message any of us on slack \"Inheritance\" for an extra 0.01 (max of 1/1)</script>"
   ]
  },
  {
   "cell_type": "code",
   "execution_count": 8,
   "metadata": {
    "vscode": {
     "languageId": "java"
    }
   },
   "outputs": [
    {
     "name": "stdout",
     "output_type": "stream",
     "text": [
      "Musician\n",
      "Comedy style: Satire\n",
      "Why did the developer go broke?\n"
     ]
    }
   ],
   "source": [
    "import java.util.Random;\n",
    "\n",
    "public class Entertainer{\n",
    "    private String talent;\n",
    "    public Entertainer (String t){\n",
    "        talent = t;\n",
    "    }\n",
    "    public String getTalent(){\n",
    "        return talent;\n",
    "    }\n",
    "}\n",
    "\n",
    "public class Comedian extends Entertainer{\n",
    "    private ArrayList<String> jokes;\n",
    "    public Comedian(String t, ArrayList<String> jks){\n",
    "        super(t);\n",
    "        jokes = jks;\n",
    "    }\n",
    "    public String getTalent(){\n",
    "        return \"Comedy style: \" + super.getTalent();\n",
    "    }\n",
    "    public String tellJoke(){\n",
    "        return jokes.get((int)(Math.random()*jokes.size()));\n",
    "    }\n",
    "}\n",
    "\n",
    "public class Main {\n",
    "    public static void main(String[] args) {\n",
    "        // Create an Entertainer object\n",
    "        Entertainer kevin = new Entertainer(\"Musician\");\n",
    "        System.out.println(kevin.getTalent());\n",
    "\n",
    "        // kevin is not a comedian so he can not access that class and thus cannot tell a joke\n",
    "        // System.out.println(kevin.tellJoke());\n",
    "\n",
    "        // Create an ArrayList of jokes\n",
    "        ArrayList<String> oneLiners = new ArrayList<String>();\n",
    "        oneLiners.add(\"Why did the programmer quit his job?\");\n",
    "        oneLiners.add(\"Why did the developer go broke?\");\n",
    "\n",
    "        // Create a Comedian object using the Entertainer reference\n",
    "        Entertainer soham = new Comedian(\"Satire\", oneLiners);\n",
    "        System.out.println(soham.getTalent());\n",
    "\n",
    "        // To call tellJoke, you need to cast soham to a Comedian since the reference type is Entertainer\n",
    "        System.out.println(((Comedian) soham).tellJoke());\n",
    "    }\n",
    "}\n",
    "\n",
    "Main.main(null);"
   ]
  },
  {
   "cell_type": "markdown",
   "metadata": {},
   "source": [
    "## Example 3\n",
    "Here is an example of runtime polymorphism"
   ]
  },
  {
   "cell_type": "code",
   "execution_count": 19,
   "metadata": {
    "vscode": {
     "languageId": "java"
    }
   },
   "outputs": [
    {
     "name": "stdout",
     "output_type": "stream",
     "text": [
      "subclass1\n",
      "subclass2\n"
     ]
    }
   ],
   "source": [
    "// Class 1\n",
    "// Helper class\n",
    "class Parent {\n",
    " \n",
    "    // Method of parent class\n",
    "    void Print()\n",
    "    {\n",
    " \n",
    "        // Print statement\n",
    "        System.out.println(\"parent class\");\n",
    "    }\n",
    "}\n",
    "// Class 2\n",
    "// Helper class\n",
    "class subclass1 extends Parent {\n",
    " \n",
    "    // Method\n",
    "    void Print() { System.out.println(\"subclass1\"); }\n",
    "}\n",
    "// Class 3\n",
    "// Helper class\n",
    "class subclass2 extends Parent {\n",
    " \n",
    "    // Method\n",
    "    void Print()\n",
    "    {\n",
    " \n",
    "        // Print statement\n",
    "        System.out.println(\"subclass2\");\n",
    "    }\n",
    "}\n",
    "// Class 4\n",
    "// Main class\n",
    "class GFG {\n",
    " \n",
    "    // Main driver method\n",
    "    public static void main(String[] args)\n",
    "    {\n",
    " \n",
    "        // Creating object of class 1\n",
    "        Parent a;\n",
    " \n",
    "        // Now we will be calling print methods\n",
    "        // inside main() method\n",
    " \n",
    "        a = new subclass1();\n",
    "        a.Print();\n",
    " \n",
    "        a = new subclass2();\n",
    "        a.Print();\n",
    "    }\n",
    "}\n",
    "GFG.main(null)"
   ]
  },
  {
   "cell_type": "markdown",
   "metadata": {},
   "source": [
    "## 9.7 Object Superclass\n",
    "Now that we have learned about inheritance, what even allows our classes and objects that we have created to work the way they do? Where do the general characteristics of all objects come from? The answer lies in the object class.\n",
    "\n",
    "The object class is the superclass of all other classes as well as arrays and other data types. The Object class is part of the java.lang package.\n",
    "\n",
    "When we call a constructor to a \"top-level class\" that the coder hasn't declared a superclass for, the Object constructor is implicitly called. In other words, the Object constructor is implicitly called when we call a constructor in a class that doesn't explicitly extend another class. This will give the object some properties and methods that are common to all classes."
   ]
  },
  {
   "cell_type": "markdown",
   "metadata": {},
   "source": [
    "## Example 1"
   ]
  },
  {
   "cell_type": "code",
   "execution_count": 20,
   "metadata": {
    "vscode": {
     "languageId": "java"
    }
   },
   "outputs": [
    {
     "name": "stdout",
     "output_type": "stream",
     "text": [
      "true\n",
      "false\n"
     ]
    }
   ],
   "source": [
    "public class Person {\n",
    "    String name;\n",
    "    int age;\n",
    "\n",
    "    public Person(String name, int age) {\n",
    "        this.name = name;\n",
    "        this.age = age;\n",
    "    }\n",
    "\n",
    "    public static void main(String[] args) {\n",
    "        Person person1 = new Person(\"Jane Doe\", 30);\n",
    "        Person person2 = new Person(\"Jane Doe\", 30);\n",
    "\n",
    "        System.out.println(person1.equals(person1)); // Since person1 and person1 are the same object, the equals() method will return true\n",
    "        System.out.println(person1.equals(person2)); // Since person1 and person2 are different objects, the equals() method will return false even though they have the same contents\n",
    "    }\n",
    "}\n",
    "\n",
    "Person.main(null);\n",
    "\n",
    "// The equals() method is inherited from the Object class\n",
    "// By default, the equals() method in the Object class checks for object identity, which means it compares memory addresses to see if two references point to the exact same object\n",
    "// In the code, person1 and person2 are distinct objects, so they have different memory addresses\n",
    "// When we call person1.equals(person2), it checks if the memory addresses are the same (which they are not), so it returns false."
   ]
  },
  {
   "cell_type": "markdown",
   "metadata": {},
   "source": [
    "## Example 2"
   ]
  },
  {
   "cell_type": "code",
   "execution_count": 21,
   "metadata": {
    "vscode": {
     "languageId": "java"
    }
   },
   "outputs": [
    {
     "name": "stdout",
     "output_type": "stream",
     "text": [
      "HashCode: 1853025748\n"
     ]
    }
   ],
   "source": [
    "public class Book {\n",
    "    String title;\n",
    "    String author;\n",
    "\n",
    "    public Book(String title, String author) {\n",
    "        this.title = title;\n",
    "        this.author = author;\n",
    "    }\n",
    "\n",
    "    public static void main(String[] args) {\n",
    "        Book book = new Book(\"The Catcher in the Rye\", \"J.D. Salinger\");\n",
    "        int hashCode = book.hashCode();\n",
    "        System.out.println(\"HashCode: \" + hashCode); // The output will be a unique integer value representing the object's hash code. The integer value will be different every time you run it\n",
    "    }\n",
    "}\n",
    "\n",
    "Book.main(null);\n",
    "\n",
    "// The hashCode() method in the Object class returns a unique integer value for each object\n",
    "// This value is typically based on the object's memory address.\n",
    "// In the code, when we call book.hashCode(), it generates a unique integer value representing the book object\n",
    "// This value can be useful for various purposes, such as organizing objects in collections like HashMaps or HashSet where it helps in efficient retrieval of objects."
   ]
  },
  {
   "cell_type": "markdown",
   "metadata": {},
   "source": [
    "## Hacks\n",
    "- Popcorn Hacks (0.2): Participate in the discussion and fill in all of the blanks. \n",
    "- MC Questions (0.1): Answer the 10 MC questions below with short explanations\n",
    "\n",
    "\n",
    "### MC Questions\n",
    "- <img src=\"https://github.com/Soham360/sturdy-fiesta/assets/111466950/8f4143f5-147e-4986-b8c4-f2be549a8d66\" alt=\"Question 1\" width=\"50%\">\n",
    "- The correct answer is \"The Car object can be successfully assigned to the reference variable of type Vehicle.\" This is due to the process of \"upcasting\" when you create a new Car object and assign it to a reference variable of type Vehicle.\n",
    "\n",
    "- <img src=\"https://github.com/Soham360/sturdy-fiesta/assets/111466950/4596fe26-e22f-4836-abfb-b5026ae2b041\" alt=\"Question 2\" width=\"50%\">\n",
    "- The statement \"B c = new C();\" is not valid because B is not a superclass of C. The reference variable's type (B) must be at the same or higher level in the inheritance hierarchy compared to the object's actual type (C).\n",
    "\n",
    "- <img src=\"https://github.com/Soham360/sturdy-fiesta/assets/111466950/0906e8f3-ec66-4269-b8e3-a928a0add502\" alt=\"Question 3\" width=\"50%\">\n",
    "- the answer is \"the objects of Class G can be treated as objects of both Class H and class J\" because objects of a derived class can be treated as objects of both the immediate superclass and the entire chain of superclasses up to the root of the inheritance hierarchy. \n",
    "\n",
    "- <img src=\"https://github.com/Soham360/sturdy-fiesta/assets/111466950/e04d0c1e-9185-43ca-95a1-605ca1379196\" alt=\"Question 4\" width=\"50%\">\n",
    "-  Objects of Class G can be treated as objects of both Class H and Class J because objects of a derived class can be treated as objects of both the immediate superclass and the entire chain of superclasses up to the root of the inheritance hierarchy.\n",
    "\n",
    "- <img src=\"https://github.com/Soham360/sturdy-fiesta/assets/111466950/cb7264df-a3fb-49c1-a386-7b98a8146da1\" alt=\"Question 5\" width=\"50%\">\n",
    "- \"B is a subclass of C\" because the inheritance hierarchy goes from C to D and then to B, allowing objects of C to be referenced by type B.\n",
    "\n",
    "- <img src=\"https://github.com/Soham360/sturdy-fiesta/assets/111466950/0e842511-3a04-4c49-9d8b-3c879cdbe394\" alt=\"Question 6\" width=\"50%\">\n",
    "- The statements \"J j = new J();,\" \"K k = new K();,\" and \"L l = new L();\" are all valid. Polymorphism allows objects of subclasses to be assigned to reference variables of their superclass.\n",
    "\n",
    "- <img src=\"https://github.com/Soham360/sturdy-fiesta/assets/111466950/f2eb4230-0e51-4e53-81d6-b2e014278114\" alt=\"Question 7\" width=\"50%\">\n",
    "- The term for this behavior is \"polymorphism.\" Polymorphism allows a subclass to be used wherever its superclass is expected.\n",
    "\n",
    "- <img src=\"https://github.com/Soham360/sturdy-fiesta/assets/111466950/d89dc7e4-563f-4547-a143-5374e8204527\" alt=\"Question 8\" width=\"50%\">\n",
    "- \"H is an indirect superclass of G\" because Class G extends Class B, which, in turn, extends Class H. Therefore, Class G is a subclass of B, which is a subclass of H.\n",
    "\n",
    "- <img src=\"https://github.com/Soham360/sturdy-fiesta/assets/111466950/11743110-e043-466b-8a5b-5219607f6f30\" alt=\"Question 9\" width=\"50%\">\n",
    "- In the inheritance hierarchy, the root represents the superclass, and the branches represent the subclasses.\n",
    "\n",
    "- <img src=\"https://github.com/Soham360/sturdy-fiesta/assets/111466950/9792698d-167a-4ad6-9b88-b4c9254e0c72\" alt=\"Question 10\" width=\"50%\">\n",
    "- The object can be successfully assigned to the reference variable, which is allowed due to polymorphism. Polymorphism enables objects of subclasses to be treated as objects of their superclass without changing the code or links."
   ]
  },
  {
   "cell_type": "markdown",
   "metadata": {},
   "source": [
    "### FRQ Hacks (0.6): Make a complex FRQ that involves everything we taught. Be sure to have a sample solution along with scoring guidelines and how the solution is scored.\n",
    "\n",
    "### Complex Java Inheritance FRQ: Vehicle Types\n",
    "\n",
    "You are tasked with developing a Java program to model a vehicle management system for a transportation company that deals with various types of vehicles. The company manages four different types of vehicles: Cars, Motorcycles, Trucks, and Bicycles.\n",
    "\n",
    "Each vehicle type has specific attributes and methods:\n",
    "\n",
    "- Cars:\n",
    "  - Attributes: Model (String), Year (int), FuelType (String)\n",
    "  - Method: startEngine() (prints \"Car engine started\")\n",
    "\n",
    "- Motorcycles:\n",
    "  - Attributes: Model (String), Year (int), EngineType (String)\n",
    "  - Method: startEngine() (prints \"Motorcycle engine started\")\n",
    "\n",
    "- Trucks:\n",
    "  - Attributes: Model (String), Year (int), CargoCapacity (double)\n",
    "  - Method: startEngine() (prints \"Truck engine started\")\n",
    "\n",
    "- Bicycles:\n",
    "  - Attributes: Model (String), Year (int), FrameMaterial (String)\n",
    "  - Method: pedal() (prints \"Bicycle pedaling\")\n",
    "\n",
    "FRQ Task:\n",
    "\n",
    "1. Design a Java program that effectively models the inheritance hierarchy for the vehicle types as described above. Implement the necessary classes, constructors, and methods.\n",
    "2. Create an application to showcase the use of these classes. Generate instances of each vehicle type and invoke their respective methods.\n",
    "\n",
    "Scoring Guidelines:\n",
    "- Proper implementation of classes, constructors, and methods: 2 points\n",
    "- Correct usage of inheritance and method overriding: 2 points\n",
    "- Successful demonstration of polymorphism and expected output: 2 points\n",
    "\n",
    "Total Score: 6 points"
   ]
  },
  {
   "cell_type": "code",
   "execution_count": 9,
   "metadata": {
    "vscode": {
     "languageId": "java"
    }
   },
   "outputs": [
    {
     "name": "stdout",
     "output_type": "stream",
     "text": [
      "Model: Sedan X\n",
      "Year: 2022\n",
      "Car engine started\n",
      "\n",
      "Model: Speedster\n",
      "Year: 2021\n",
      "Motorcycle engine started\n",
      "\n",
      "Model: CargoMaster\n",
      "Year: 2020\n",
      "Truck engine started\n",
      "\n",
      "Model: TrailBlazer\n",
      "Year: 2023\n",
      "Vehicle engine started\n",
      "Bicycle pedaling\n",
      "\n"
     ]
    }
   ],
   "source": [
    "class Vehicle {\n",
    "    protected String model;\n",
    "    protected int year;\n",
    "\n",
    "    public Vehicle(String model, int year) {\n",
    "        this.model = model;\n",
    "        this.year = year;\n",
    "    }\n",
    "\n",
    "    public void startEngine() {\n",
    "        System.out.println(\"Vehicle engine started\");\n",
    "    }\n",
    "}\n",
    "\n",
    "class Car extends Vehicle {\n",
    "    private String fuelType;\n",
    "\n",
    "    public Car(String model, int year, String fuelType) {\n",
    "        super(model, year);\n",
    "        this.fuelType = fuelType;\n",
    "    }\n",
    "\n",
    "    @Override\n",
    "    public void startEngine() {\n",
    "        System.out.println(\"Car engine started\");\n",
    "    }\n",
    "}\n",
    "\n",
    "class Motorcycle extends Vehicle {\n",
    "    private String engineType;\n",
    "\n",
    "    public Motorcycle(String model, int year, String engineType) {\n",
    "        super(model, year);\n",
    "        this.engineType = engineType;\n",
    "    }\n",
    "\n",
    "    @Override\n",
    "    public void startEngine() {\n",
    "        System.out.println(\"Motorcycle engine started\");\n",
    "    }\n",
    "}\n",
    "\n",
    "class Truck extends Vehicle {\n",
    "    private double cargoCapacity;\n",
    "\n",
    "    public Truck(String model, int year, double cargoCapacity) {\n",
    "        super(model, year);\n",
    "        this.cargoCapacity = cargoCapacity;\n",
    "    }\n",
    "\n",
    "    @Override\n",
    "    public void startEngine() {\n",
    "        System.out.println(\"Truck engine started\");\n",
    "    }\n",
    "}\n",
    "\n",
    "class Bicycle extends Vehicle {\n",
    "    private String frameMaterial;\n",
    "\n",
    "    public Bicycle(String model, int year, String frameMaterial) {\n",
    "        super(model, year);\n",
    "        this.frameMaterial = frameMaterial;\n",
    "    }\n",
    "\n",
    "    public void pedal() {\n",
    "        System.out.println(\"Bicycle pedaling\");\n",
    "    }\n",
    "}\n",
    "\n",
    "public class VehicleApp {\n",
    "    public static void main(String[] args) {\n",
    "        Car sedan = new Car(\"Sedan X\", 2022, \"Gasoline\");\n",
    "        Motorcycle sportsBike = new Motorcycle(\"Speedster\", 2021, \"Electric\");\n",
    "        Truck deliveryTruck = new Truck(\"CargoMaster\", 2020, 5000.0);\n",
    "        Bicycle mountainBike = new Bicycle(\"TrailBlazer\", 2023, \"Aluminum\");\n",
    "\n",
    "        Vehicle[] vehicles = {sedan, sportsBike, deliveryTruck, mountainBike};\n",
    "\n",
    "        for (Vehicle vehicle : vehicles) {\n",
    "            System.out.println(\"Model: \" + vehicle.model);\n",
    "            System.out.println(\"Year: \" + vehicle.year);\n",
    "            vehicle.startEngine();\n",
    "\n",
    "            if (vehicle instanceof Bicycle) {\n",
    "                ((Bicycle) vehicle).pedal();\n",
    "            }\n",
    "            System.out.println();\n",
    "        }\n",
    "    }\n",
    "}\n",
    "\n",
    "VehicleApp.main(null)"
   ]
  },
  {
   "cell_type": "markdown",
   "metadata": {},
   "source": [
    "### Challenge (0.1): Make an example that uses everything we taught and it must run through main and uses input and output. Points will be awarded for complexity and creativity"
   ]
  },
  {
   "cell_type": "code",
   "execution_count": 11,
   "metadata": {
    "vscode": {
     "languageId": "java"
    }
   },
   "outputs": [
    {
     "name": "stdout",
     "output_type": "stream",
     "text": [
      "Welcome to the Library!\n",
      "Enter the title of the library item: Enter the release year of the library item: Choose the item type (Novel/Film/MusicTrack): \n",
      "Enter the author's name: \n",
      "Library Item Information:\n",
      "Title: harry potter\n",
      "Release Year: 2023\n",
      "Item Type: Novel\n",
      "\n",
      "Playing the Library Item:\n",
      "Reading the novel.\n"
     ]
    }
   ],
   "source": [
    "import java.util.Scanner;\n",
    "\n",
    "class LibraryItem {\n",
    "    protected String title;\n",
    "    protected int releaseYear;\n",
    "    protected String itemType;\n",
    "\n",
    "    public LibraryItem(String title, int releaseYear, String itemType) {\n",
    "        this.title = title;\n",
    "        this.releaseYear = releaseYear;\n",
    "        this.itemType = itemType;\n",
    "    }\n",
    "\n",
    "    public void showInfo() {\n",
    "        System.out.println(\"Title: \" + title);\n",
    "        System.out.println(\"Release Year: \" + releaseYear);\n",
    "        System.out.println(\"Item Type: \" + itemType);\n",
    "    }\n",
    "\n",
    "    public void play() {\n",
    "        System.out.println(\"Playing the library item.\");\n",
    "    }\n",
    "}\n",
    "\n",
    "class Novel extends LibraryItem {\n",
    "    private String author;\n",
    "\n",
    "    public Novel(String title, int releaseYear, String author) {\n",
    "        super(title, releaseYear, \"Novel\");\n",
    "        this.author = author;\n",
    "    }\n",
    "\n",
    "    @Override\n",
    "    public void play() {\n",
    "        System.out.println(\"Reading the novel.\");\n",
    "    }\n",
    "}\n",
    "\n",
    "class Film extends LibraryItem {\n",
    "    private String director;\n",
    "\n",
    "    public Film(String title, int releaseYear, String director) {\n",
    "        super(title, releaseYear, \"Film\");\n",
    "        this.director = director;\n",
    "    }\n",
    "\n",
    "    @Override\n",
    "    public void play() {\n",
    "        System.out.println(\"Watching the film.\");\n",
    "    }\n",
    "}\n",
    "\n",
    "class MusicTrack extends LibraryItem {\n",
    "    private String artist;\n",
    "\n",
    "    public MusicTrack(String title, int releaseYear, String artist) {\n",
    "        super(title, releaseYear, \"MusicTrack\");\n",
    "        this.artist = artist;\n",
    "    }\n",
    "\n",
    "    @Override\n",
    "    public void play() {\n",
    "        System.out.println(\"Listening to the music track.\");\n",
    "    }\n",
    "}\n",
    "\n",
    "public class LibraryApp {\n",
    "    public static void main(String[] args) {\n",
    "        Scanner scanner = new Scanner(System.in);\n",
    "\n",
    "        System.out.println(\"Welcome to the Library!\");\n",
    "        System.out.print(\"Enter the title of the library item: \");\n",
    "        String title = scanner.nextLine();\n",
    "        System.out.print(\"Enter the release year of the library item: \");\n",
    "        int releaseYear = scanner.nextInt();\n",
    "\n",
    "        System.out.println(\"Choose the item type (Novel/Film/MusicTrack): \");\n",
    "        String itemType = scanner.next();\n",
    "\n",
    "        LibraryItem libraryItem;\n",
    "\n",
    "        switch (itemType.toLowerCase()) {\n",
    "            case \"novel\":\n",
    "                System.out.print(\"Enter the author's name: \");\n",
    "                String author = scanner.next();\n",
    "                libraryItem = new Novel(title, releaseYear, author);\n",
    "                break;\n",
    "            case \"film\":\n",
    "                System.out.print(\"Enter the director's name: \");\n",
    "                String director = scanner.next();\n",
    "                libraryItem = new Film(title, releaseYear, director);\n",
    "                break;\n",
    "            case \"musictrack\":\n",
    "                System.out.print(\"Enter the artist's name: \");\n",
    "                String artist = scanner.next();\n",
    "                libraryItem = new MusicTrack(title, releaseYear, artist);\n",
    "                break;\n",
    "            default:\n",
    "                System.out.println(\"Invalid item type.\");\n",
    "                scanner.close();\n",
    "                return;\n",
    "        }\n",
    "\n",
    "        System.out.println(\"\\nLibrary Item Information:\");\n",
    "        libraryItem.showInfo();\n",
    "        System.out.println(\"\\nPlaying the Library Item:\");\n",
    "        libraryItem.play();\n",
    "\n",
    "        scanner.close();\n",
    "    }\n",
    "}\n",
    "\n",
    "LibraryApp.main(null)"
   ]
  }
 ],
 "metadata": {
  "kernelspec": {
   "display_name": "Java",
   "language": "java",
   "name": "java"
  },
  "language_info": {
   "codemirror_mode": "java",
   "file_extension": ".jshell",
   "mimetype": "text/x-java-source",
   "name": "Java",
   "pygments_lexer": "java",
   "version": "16.0.1+9-24"
  },
  "orig_nbformat": 4
 },
 "nbformat": 4,
 "nbformat_minor": 2
}
