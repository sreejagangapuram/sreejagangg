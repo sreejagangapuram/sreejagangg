{
 "cells": [
  {
   "cell_type": "markdown",
   "metadata": {},
   "source": [
    "---\n",
    "title: CS N@TM BLOG\n",
    "description: This is my blog for N@TM\n",
    "toc: true\n",
    "layout: post\n",
    "---"
   ]
  },
  {
   "cell_type": "markdown",
   "metadata": {},
   "source": [
    "\n",
    "# Two Trimester Focus Planning \n",
    "- At N@TM we had all of our users sign up and make an account then use those credentials to log in. Then they were able to plant crops and then watch them grow by week. This was something many users were especially impressed by (the animations). We also asked each user for feedback which they were happy to provide. \n",
    "    - Add more varieties of crops besides just corn. Lots of people gave us this feedback. \n",
    "    - The growing of crops should happen on its own instead of having them click a button\n",
    "    - we should also have a helpful popup of a little helper guide to guide the users through farming\n",
    "    - Pressing buttons should have an indicator, many people kept pressing the corn button thinking that it was not selected.\n",
    "    - The game UI could be improved, it currently looks very bland and we need more bright colors.\n",
    "Add money to the game so that you can't plant unlimited corn.\n",
    "- To our project, we will add the popup of the helper guide and add more varities of crop. Because we had so many people give us this feedback. In addition, we will also be adding a popup of a little helper guide that guides the users through the farming because the idea is cool and easy to implement. \n",
    "- We will be updating our progress on issues and our scrum board. \n",
    "\n",
    "# Our Team at N@TM \n",
    "## Glows\n",
    "We had a good presentation and a good proof of concept. We had specialized presentations depending on the insterests of the user. If a user is interested in cs and is technical, we gave them a highly technical presentation. If they were interested in enviormental science we focused more on the agriculture aspect. We also had a good technical showcase and were able to elaborate on all aspects of our project. \n",
    "\n",
    "## Grows\n",
    "UI needed to be a little more cleaned up. We needed to better display the data saved on main. We shouldve had a more interactive demo. The title map couldve been more farming specific. In addition, we could've paced our presentatuons better. \n",
    "\n",
    "## People We Talked To \n",
    "![alttext](https://raw.githubusercontent.com/sreejagangapuram/sreejagangg/main/images/user1.png)\n",
    "In this picture, there is a user interacting with our project. The user is playing with the farming simulator and is exploring our project while my group is presenting to him. \n",
    "\n",
    "![alttext](https://raw.githubusercontent.com/sreejagangapuram/sreejagangg/main/images/user2.png)\n",
    "In this picture, my group are collaboratively presenting to a user and are explaining our project to him. After listening to us, the user then continued on to interact with our game. \n",
    "\n",
    "# Exploring N@TM!\n",
    "## Other CS Groups \n",
    "![alttext](https://raw.githubusercontent.com/sreejagangapuram/sreejagangg/main/images/othergroup1.png)\n",
    "I really liked Rachit, Tanisha, Theo, and groups project from CSA. It was a recreation of prodigy and the user had to answer computer science related questions in order to earn points and then be ranked on a leaderboard. I thought this was an excellent and creative way to help cs students solidify their cs knowlege. \n",
    "\n",
    "![alttext](https://raw.githubusercontent.com/sreejagangapuram/sreejagangg/main/images/othergroup2.png)\n",
    "A CSP project I thought was creative was a real estate chat box. The AI answered questions about realeaste that a user had and then outputed an individual response based on the users input. \n",
    "\n",
    "## Other Classes \n",
    "In digital media production, I saw an edit posted on youtube. It was basketball related and had many pieces of media linked together in the video. The assignment was to make a compilation of social media posts about anything, in this case, Basketball because it being a major interest of the student. Below is an image of a digital media production student showing me his project. \n",
    "![alttext](https://raw.githubusercontent.com/sreejagangapuram/sreejagangg/main/images/digital.png)\n",
    "\n",
    "In addition, in Mixed Media Art I saw a detailed hand drawn picture of Mr Mortensen that you can see below. \n",
    "![alttext](https://raw.githubusercontent.com/sreejagangapuram/sreejagangg/main/images/mixed.png)"
   ]
  },
  {
   "cell_type": "markdown",
   "metadata": {},
   "source": [
    "# Conclusion \n",
    "Overall, N@TM was an enjoyable experiance and was also full of learning. I was able to talk about my project to other people and also explore cs projects and gain more creative ideas for my future projects. In addiiton, it was really cool to explore the work of other art classes and see their creations."
   ]
  }
 ],
 "metadata": {
  "language_info": {
   "name": "python"
  }
 },
 "nbformat": 4,
 "nbformat_minor": 2
}
