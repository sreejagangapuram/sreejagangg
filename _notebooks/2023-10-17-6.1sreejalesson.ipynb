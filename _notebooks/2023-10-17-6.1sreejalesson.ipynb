{
 "cells": [
  {
   "cell_type": "markdown",
   "metadata": {},
   "source": [
    "---\n",
    "toc: true\n",
    "comments: true\n",
    "layout: true\n",
    "title: 6.1 - Array Creation and Access Lesson\n",
    "courses: { csse: {week: 0}, csp: {week: 0}, csa: {week: 0}, labnotebook: {week: 5} }\n",
    "type: tangibles\n",
    "---"
   ]
  },
  {
   "cell_type": "markdown",
   "metadata": {},
   "source": [
    "# Vocabulary \n",
    "- Array: a data strucutre used to implement a collection of object referance data \n",
    "- Element: a single value within an array\n",
    "- Index of an element: position of an element in the array \n",
    "(In java, the first element of an array is at index 0)\n",
    "- Length of an array: number of elements in the array "
   ]
  },
  {
   "cell_type": "markdown",
   "metadata": {},
   "source": [
    "# Declaring an Array \n",
    "Defines the array variable, specifying its data type and name."
   ]
  },
  {
   "cell_type": "code",
   "execution_count": null,
   "metadata": {},
   "outputs": [],
   "source": [
    "// Syntax: dataType[] arrayName;\n",
    "int[] numbers; // Declare an integer array\n",
    "String[] names; // Declare a string array"
   ]
  },
  {
   "cell_type": "markdown",
   "metadata": {},
   "source": [
    "# Creating an Array\n",
    "Gives memory for the array and specifies its size."
   ]
  },
  {
   "cell_type": "code",
   "execution_count": null,
   "metadata": {},
   "outputs": [],
   "source": [
    "// Syntax: arrayName = new dataType[size];\n",
    "numbers = new int[5]; // Create an integer array with 5 elements\n",
    "names = new String[3]; // Create a string array with 3 elements"
   ]
  },
  {
   "cell_type": "markdown",
   "metadata": {},
   "source": [
    "# Initializing an Array\n",
    "Populates the array with initial values."
   ]
  },
  {
   "cell_type": "code",
   "execution_count": null,
   "metadata": {},
   "outputs": [],
   "source": [
    "// Syntax: arrayName = new dataType[size];\n",
    "numbers = new int[5]; // Create an integer array with 5 elements\n",
    "names = new String[3]; // Create a string array with 3 elements"
   ]
  },
  {
   "cell_type": "markdown",
   "metadata": {},
   "source": [
    "# Accessing Array Elements\n",
    "Retrieves a specific element's value from the array using its index."
   ]
  },
  {
   "cell_type": "code",
   "execution_count": null,
   "metadata": {},
   "outputs": [],
   "source": [
    "int[] numbers = {10, 20, 30, 40, 50};\n",
    "int element = numbers[2]; // Access the third element (30) using index 2\n",
    "System.out.println(element); // Output: 30"
   ]
  },
  {
   "cell_type": "markdown",
   "metadata": {},
   "source": [
    "# Array Length\n",
    "Obtains and displays the number of elements in the array."
   ]
  },
  {
   "cell_type": "code",
   "execution_count": null,
   "metadata": {},
   "outputs": [],
   "source": [
    "int[] numbers = {10, 20, 30, 40, 50};\n",
    "int length = numbers.length; // Get the length of the array\n",
    "System.out.println(\"Array length: \" + length); // Output: Array length: 5"
   ]
  },
  {
   "cell_type": "markdown",
   "metadata": {},
   "source": [
    "# Modifying Array Elements\n",
    "Updates the value of a specific element in the array."
   ]
  },
  {
   "cell_type": "code",
   "execution_count": null,
   "metadata": {},
   "outputs": [],
   "source": [
    "int[] numbers = {10, 20, 30, 40, 50};\n",
    "numbers[2] = 35; // Change the third element to 35"
   ]
  },
  {
   "cell_type": "markdown",
   "metadata": {},
   "source": [
    "# Iterating Through an Array\n",
    "Loops through the array, printing each element."
   ]
  },
  {
   "cell_type": "code",
   "execution_count": null,
   "metadata": {},
   "outputs": [],
   "source": [
    "int[] numbers = {10, 20, 30, 40, 50};\n",
    "for (int i = 0; i < numbers.length; i++) {\n",
    "    System.out.println(numbers[i]);\n",
    "}"
   ]
  },
  {
   "cell_type": "markdown",
   "metadata": {},
   "source": [
    "# Enhanced For Loop (For-each)\n",
    "Iterates through the array using a simplified loop structure, printing each element."
   ]
  },
  {
   "cell_type": "code",
   "execution_count": null,
   "metadata": {},
   "outputs": [],
   "source": [
    "int[] numbers = {10, 20, 30, 40, 50};\n",
    "for (int number : numbers) {\n",
    "    System.out.println(number);\n",
    "}"
   ]
  },
  {
   "cell_type": "markdown",
   "metadata": {},
   "source": [
    "# Hack #1 \n",
    "Follow the steps above to make an array that has some relation to your project. Feel free to use the code examples above in your hack if you would like. "
   ]
  }
 ],
 "metadata": {
  "kernelspec": {
   "display_name": "Java",
   "language": "java",
   "name": "java"
  },
  "language_info": {
   "codemirror_mode": "java",
   "file_extension": ".jshell",
   "mimetype": "text/x-java-source",
   "name": "java",
   "pygments_lexer": "java",
   "version": "16.0.1+9-24"
  },
  "orig_nbformat": 4
 },
 "nbformat": 4,
 "nbformat_minor": 2
}
