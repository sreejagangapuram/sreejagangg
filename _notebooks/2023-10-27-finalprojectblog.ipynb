{
 "cells": [
  {
   "cell_type": "markdown",
   "metadata": {},
   "source": [
    "---\n",
    "layout: post\n",
    "title: Sreeja's Final Project Review Blog\n",
    "toc: true\n",
    "comments: true\n",
    "description: My blog for my live review. \n",
    "courses: { csa: {week: 8} }\n",
    "type: tangibles\n",
    "---"
   ]
  },
  {
   "cell_type": "markdown",
   "metadata": {},
   "source": [
    "# Introduction\n",
    "For my main contribution to our project, I made a camera using javascript that takes three pictures and stores it on our page. It works with backend code to generate the user's emotion label. One of my group members had to take my camera and tweak it to have it work with our backend. \n",
    "\n",
    "# Process of the Camera \n",
    "- I got my camera to function perfectly the first time \n",
    "- but it looked very bad, it had bad styling and a black border that wasn't nessary"
   ]
  },
  {
   "cell_type": "markdown",
   "metadata": {},
   "source": [
    "## Before "
   ]
  },
  {
   "cell_type": "markdown",
   "metadata": {},
   "source": [
    "## After "
   ]
  }
 ],
 "metadata": {
  "language_info": {
   "name": "python"
  },
  "orig_nbformat": 4
 },
 "nbformat": 4,
 "nbformat_minor": 2
}
