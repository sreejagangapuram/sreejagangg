{
 "cells": [
  {
   "attachments": {},
   "cell_type": "markdown",
   "metadata": {},
   "source": [
    "---\n",
    "layout: post\n",
    "title: Unit 5 Lesson\n",
    "description: Lesson for APCSA Unit 5\n",
    "courses: { csa: {week: 4} }\n",
    "type: hacks\n",
    "---"
   ]
  },
  {
   "attachments": {},
   "cell_type": "markdown",
   "metadata": {},
   "source": [
    "# 5.1 Anatomy of a Class"
   ]
  },
  {
   "attachments": {},
   "cell_type": "markdown",
   "metadata": {},
   "source": [
    "## KEY LEARNING OBJECTIVES:\n",
    "\n",
    "1. Designate access and visibility constraints to classes, data, constructors, and methods.\n",
    "\n",
    "2. Designate private visibility of instance variables to encapsulate the attributes of an object."
   ]
  },
  {
   "attachments": {},
   "cell_type": "markdown",
   "metadata": {},
   "source": [
    "## What is a class?"
   ]
  },
  {
   "attachments": {},
   "cell_type": "markdown",
   "metadata": {},
   "source": [
    "A **class** is a template for creating objects in Java. "
   ]
  },
  {
   "attachments": {},
   "cell_type": "markdown",
   "metadata": {},
   "source": [
    "## Private vs Public Designation\n",
    "\n",
    "**Private**: A private access modifier means that the instance variables, constructors, and methods cannot be accessed outside of the class.\n",
    "\n",
    "**Public**: This allows access from classes outside the original class of declaration."
   ]
  },
  {
   "attachments": {},
   "cell_type": "markdown",
   "metadata": {},
   "source": [
    "## Data Encapsulation\n",
    "\n",
    "This is one of the key components of object oriented programming. \n",
    "\n",
    "It ensures data integrity by controlling which parts of a class are accessible to other classes."
   ]
  },
  {
   "attachments": {},
   "cell_type": "markdown",
   "metadata": {},
   "source": [
    "In the following example, we look at encapsulation and demonstrate how to create a Student class with private instance variables for name and age, public methods for accessing and modifying these variables, and validation checks to ensure data integrity. "
   ]
  },
  {
   "cell_type": "code",
   "execution_count": 22,
   "metadata": {},
   "outputs": [
    {
     "name": "stdout",
     "output_type": "stream",
     "text": [
      "Meet our star student:\n",
      "Name: Vishnu\n",
      "Age: 17\n"
     ]
    }
   ],
   "source": [
    "public class Student {\n",
    "    // 1. Private variables to store student's name and age\n",
    "    private String name; // Stores the student's name\n",
    "    private int age;     // Stores the student's age\n",
    "\n",
    "    // 2. Public Class: Student\n",
    "\n",
    "    // 3. Constructor Methods\n",
    "    // Constructor to create a Student object with a name and age\n",
    "    public Student(String name, int age) {\n",
    "        this.name = name;\n",
    "        this.age = age;\n",
    "    }\n",
    "\n",
    "    public static void main(String[] args) {\n",
    "        // Let's create a new Student!\n",
    "        Student student = new Student(\"Vishnu\", 17);\n",
    "\n",
    "        // Displaying the student's information\n",
    "        System.out.println(\"Meet our star student:\");\n",
    "        System.out.println(\"Name: \" + student.name); // Accessing the name directly\n",
    "        System.out.println(\"Age: \" + student.age);   // Accessing the age directly\n",
    "    }\n",
    "}\n",
    "\n",
    "Student.main(null);\n"
   ]
  },
  {
   "attachments": {},
   "cell_type": "markdown",
   "metadata": {},
   "source": [
    "# 5.2 Constructors"
   ]
  },
  {
   "attachments": {},
   "cell_type": "markdown",
   "metadata": {},
   "source": [
    "## KEY LEARNING OBJECTIVES"
   ]
  },
  {
   "attachments": {},
   "cell_type": "markdown",
   "metadata": {},
   "source": [
    "\n",
    "Define instance variables for the attributes to be initialized through the constructors of a class.\n",
    "\n",
    "Constructors are used to set the initial state of an object.\n",
    "\n",
    "**Mutable Objects**: These are objects whose internal state can be changed after its creation. Lists are mutable objects, as are arrays.\n",
    "\n",
    "**Constructor Parameters**: These are values passed to a class's constructor when creating an instance. This initializes the new object's state.\n",
    "\n",
    "**Instance Variables**: These are object attributes that store the objects state. They are declared within the class and can be accessed by the object's methods.\n",
    "\n",
    "**Alias**: Two variables point to the same object."
   ]
  },
  {
   "attachments": {},
   "cell_type": "markdown",
   "metadata": {},
   "source": [
    "A good example of a Java alias:"
   ]
  },
  {
   "cell_type": "code",
   "execution_count": 17,
   "metadata": {},
   "outputs": [
    {
     "name": "stdout",
     "output_type": "stream",
     "text": [
      "Value at index 0 through alias2: 100\n"
     ]
    }
   ],
   "source": [
    "public class AliasExample {\n",
    "    public static void main(String[] args) {\n",
    "        // Create an array and two references (aliases) to it\n",
    "        int[] array = new int[]{1, 2, 3};\n",
    "        int[] alias1 = array;\n",
    "        int[] alias2 = array;\n",
    "\n",
    "        // Modify the array through one of the aliases\n",
    "        alias1[0] = 100;\n",
    "\n",
    "        // Access the modified array through the other alias\n",
    "        System.out.println(\"Value at index 0 through alias2: \" + alias2[0]);\n",
    "    }\n",
    "}\n",
    "\n",
    "AliasExample.main(null);"
   ]
  },
  {
   "attachments": {},
   "cell_type": "markdown",
   "metadata": {},
   "source": [
    "In the below example, we explore encapsulation and demonstrate how to create a Person class to represent individuals with private attributes for name, age, and hobbies. The code showcases how to initialize and manipulate a Person object's state, including adding hobbies to the person's list, while ensuring the original data remains unchanged."
   ]
  },
  {
   "cell_type": "code",
   "execution_count": 25,
   "metadata": {},
   "outputs": [
    {
     "name": "stdout",
     "output_type": "stream",
     "text": [
      "Person 1:\n",
      "Name: Anna\n",
      "Age: 17\n",
      "Person 2:\n",
      "Name: Rohin\n",
      "Age: 13\n"
     ]
    }
   ],
   "source": [
    "public class Person {\n",
    "    private String name;\n",
    "    private int age;\n",
    "\n",
    "    // Constructor to initialize a Person with a name and age\n",
    "    public Person(String name, int age) {\n",
    "        this.name = name;  // Initialize the 'name' field with the provided name\n",
    "        this.age = age;    // Initialize the 'age' field with the provided age\n",
    "    }\n",
    "\n",
    "    // Method to display the person's information\n",
    "    public void displayInfo() {\n",
    "        System.out.println(\"Name: \" + name);\n",
    "        System.out.println(\"Age: \" + age);\n",
    "    }\n",
    "}\n",
    "\n",
    "public class PersonConstructorDemo {\n",
    "    public static void main(String[] args) {\n",
    "        // Create two Person objects using the constructor\n",
    "        Person person1 = new Person(\"Anna\", 17);\n",
    "        Person person2 = new Person(\"Rohin\", 13);\n",
    "\n",
    "        // Display information about the created persons\n",
    "        System.out.println(\"Person 1:\");\n",
    "        person1.displayInfo();\n",
    "        \n",
    "        System.out.println(\"Person 2:\");\n",
    "        person2.displayInfo();\n",
    "    }\n",
    "}\n",
    "\n",
    "PersonConstructorDemo.main(null);\n"
   ]
  },
  {
   "attachments": {},
   "cell_type": "markdown",
   "metadata": {},
   "source": [
    "In the Person class, the hobbies list is encapsulated to prevent unintended modifications. What is the importance of encapsulation and how does it improve the design of the class?\n",
    "- Encapsulation is used by making the name and age fields in the Person class private, preventing direct access and modification from outside the class. It allows the code to be reused and hides the complexity of the class's internal workings, allowing for  cleaner code."
   ]
  },
  {
   "attachments": {},
   "cell_type": "markdown",
   "metadata": {},
   "source": [
    "# 5.3 Documentation with Comments"
   ]
  },
  {
   "attachments": {},
   "cell_type": "markdown",
   "metadata": {},
   "source": [
    "## KEY LEARNING OBJECTIVE"
   ]
  },
  {
   "attachments": {},
   "cell_type": "markdown",
   "metadata": {},
   "source": [
    "Describe the functionality and use of program code through comments."
   ]
  },
  {
   "attachments": {},
   "cell_type": "markdown",
   "metadata": {},
   "source": [
    "**Precondition**: This is a condition that has to be met prior to an execution of a certain part of the code for the method to work.\n",
    "\n",
    "**Postcondition**: This is a condition that has to be met after the execution of a certain part of the code. "
   ]
  },
  {
   "cell_type": "code",
   "execution_count": 19,
   "metadata": {},
   "outputs": [
    {
     "name": "stdout",
     "output_type": "stream",
     "text": [
      "Constructor called with value: 42\n",
      "Value: 42\n"
     ]
    }
   ],
   "source": [
    "public class Comments {\n",
    "    //encapsulated variable\n",
    "    private int value;\n",
    "\n",
    "    //constructor to initialize the 'value'\n",
    "    public Comments(int value) {\n",
    "        this.value = value;\n",
    "        System.out.println(\"Constructor called with value: \" + value);\n",
    "    }\n",
    "\n",
    "    // method to retrieve the value stored in the 'value' field\n",
    "    public int getValue() {\n",
    "        return value;\n",
    "    }\n",
    "\n",
    "    public static void main(String[] args) {\n",
    "        // creates an instance of the 'Comments' class\n",
    "        Comments myObject = new Comments(42);  \n",
    "\n",
    "        // call the 'getValue' method to retrieve the stored value and assign it to 'result'\n",
    "        int result = myObject.getValue();    \n",
    "        System.out.println(\"Value: \" + result); \n",
    "    }\n",
    "}\n",
    "\n",
    "Comments.main(null);\n"
   ]
  },
  {
   "attachments": {},
   "cell_type": "markdown",
   "metadata": {},
   "source": [
    "**ADD DESCRIPTIVE COMMENTS TO THE ABOVE CODE. Provide descriptions of functionality, identify methods used, and initialized variables if any.**"
   ]
  },
  {
   "attachments": {},
   "cell_type": "markdown",
   "metadata": {},
   "source": [
    "# Hacks"
   ]
  },
  {
   "attachments": {},
   "cell_type": "markdown",
   "metadata": {},
   "source": [
    "**POPCORN HACKS: 0.2**"
   ]
  },
  {
   "attachments": {},
   "cell_type": "markdown",
   "metadata": {},
   "source": [
    "**Create a simple To-Do List that utilizes the following (0.8):**\n",
    "\n",
    "1. Private and Public Declaration\n",
    "\n",
    "2. Constructor\n",
    "\n",
    "3. Mutable Array containing To-Do List Items\n",
    "\n",
    "Make sure to add descriptive comments that are describing your code!"
   ]
  },
  {
   "cell_type": "code",
   "execution_count": 1,
   "metadata": {},
   "outputs": [
    {
     "name": "stdout",
     "output_type": "stream",
     "text": [
      "To-Do List:\n",
      "1. Buy groceries\n",
      "2. Finish homework\n",
      "3. Call John\n",
      "To-Do List:\n",
      "1. Buy groceries\n",
      "2. Call John\n"
     ]
    }
   ],
   "source": [
    "import java.util.ArrayList;\n",
    "\n",
    "public class ToDoList {\n",
    "    // Private array to store the To-Do list items\n",
    "    private ArrayList<String> toDoItems;\n",
    "\n",
    "    // Constructor to initialize the To-Do list\n",
    "    public ToDoList() {\n",
    "        toDoItems = new ArrayList<>();\n",
    "    }\n",
    "\n",
    "    // Public method to add a new item to the To-Do list\n",
    "    public void addItem(String item) {\n",
    "        toDoItems.add(item);\n",
    "    }\n",
    "\n",
    "    // Public method to remove an item from the To-Do list\n",
    "    public void removeItem(String item) {\n",
    "        toDoItems.remove(item);\n",
    "    }\n",
    "\n",
    "    // Public method to display the current To-Do list\n",
    "    public void displayList() {\n",
    "        System.out.println(\"To-Do List:\");\n",
    "        for (int i = 0; i < toDoItems.size(); i++) {\n",
    "            System.out.println((i + 1) + \". \" + toDoItems.get(i));\n",
    "        }\n",
    "    }\n",
    "\n",
    "    public static void main(String[] args) {\n",
    "        // Create a new To-Do List\n",
    "        ToDoList toDoList = new ToDoList();\n",
    "\n",
    "        // Add items to the list\n",
    "        toDoList.addItem(\"Buy groceries\");\n",
    "        toDoList.addItem(\"Finish homework\");\n",
    "        toDoList.addItem(\"Call John\");\n",
    "\n",
    "        // Display the current To-Do list\n",
    "        toDoList.displayList();\n",
    "\n",
    "        // Remove an item from the list\n",
    "        toDoList.removeItem(\"Finish homework\");\n",
    "\n",
    "        // Display the updated To-Do list\n",
    "        toDoList.displayList();\n",
    "    }\n",
    "}\n",
    "   \n",
    "ToDoList.main(null);\n"
   ]
  },
  {
   "cell_type": "markdown",
   "metadata": {},
   "source": [
    "# Topic 5.4: Accessor Methods\n",
    "\n",
    "In Java, classes serve as blueprints for creating objects. These classes can encapsulate attributes (fields) and behaviors (methods). One of the cornerstones of Object-Oriented Programming is **data encapsulation**. This principle restricts direct access to some of an object's components, ensuring data integrity and security. Accessor methods, colloquially known as \"getters\", offer a controlled means to access these attributes.\n",
    "\n",
    "## Accessor Methods\n",
    "\n",
    "An **Accessor Method** permits other objects to retrieve the value of instance or static variables. They are typically non-void methods without parameters that return a value.\n",
    "\n",
    "For instance, consider a class `Circle`:"
   ]
  },
  {
   "cell_type": "code",
   "execution_count": null,
   "metadata": {},
   "outputs": [],
   "source": [
    "public class Circle {\n",
    "    private double radius;\n",
    "\n",
    "    public Circle(double r) {\n",
    "        this.radius = r;\n",
    "    }\n",
    "\n",
    "    // Accessor method for radius\n",
    "    public double getRadius() {\n",
    "        return radius;\n",
    "    }\n",
    "}"
   ]
  },
  {
   "cell_type": "markdown",
   "metadata": {},
   "source": [
    "In the code above, the method `getRadius` is an accessor method. It allows external code to retrieve the value of the `radius` attribute without directly accessing the private field. This is a fundamental aspect of data encapsulation, ensuring that the internal state of an object is protected and can only be accessed or modified in controlled ways."
   ]
  },
  {
   "cell_type": "markdown",
   "metadata": {},
   "source": [
    "## Return by Value\n",
    "\n",
    "Java employs the \"return by value\" approach for its methods. This implies that when a method returns a value, it's essentially returning a copy of that value. This is especially true for primitive data types."
   ]
  },
  {
   "cell_type": "code",
   "execution_count": null,
   "metadata": {},
   "outputs": [],
   "source": [
    "public int getIntegerValue() {\n",
    "    int value = 5;\n",
    "    return value;\n",
    "}"
   ]
  },
  {
   "cell_type": "markdown",
   "metadata": {},
   "source": [
    "In the method above, the value `5` is returned, not the variable `value` itself."
   ]
  },
  {
   "cell_type": "markdown",
   "metadata": {},
   "source": [
    "## Reference Return\n",
    "\n",
    "For objects, when a method returns an object, it's essentially returning a reference to that object, not a fresh copy. This becomes pivotal when dealing with mutable objects."
   ]
  },
  {
   "cell_type": "code",
   "execution_count": 2,
   "metadata": {},
   "outputs": [
    {
     "name": "stdout",
     "output_type": "stream",
     "text": [
      "[food, potatoes]\n",
      "[food, potatoes]\n"
     ]
    }
   ],
   "source": [
    "public class Box {\n",
    "    private ArrayList<String> items;\n",
    "\n",
    "    public Box() {\n",
    "        items = new ArrayList<>();\n",
    "    }\n",
    "\n",
    "    public ArrayList<String> getItems() {\n",
    "        return items;\n",
    "    }\n",
    "\n",
    "    public static void main(String[] args){\n",
    "        Box box = new Box();\n",
    "        ArrayList<String> boxItems = box.getItems();\n",
    "        boxItems.add(\"food\");\n",
    "        boxItems.add(\"potatoes\");\n",
    "        System.out.println(boxItems);\n",
    "        System.out.println(box.getItems());\n",
    "    }\n",
    "}\n",
    "\n",
    "Box.main(null);"
   ]
  },
  {
   "cell_type": "markdown",
   "metadata": {},
   "source": [
    "If you append an item to the ArrayList returned by `getItems`, will it modify the original `items` in the `Box` object?\n",
    "\n",
    "Answer: yes because both references point to the same underlying list."
   ]
  },
  {
   "cell_type": "markdown",
   "metadata": {},
   "source": [
    "## `toString` Method\n",
    "\n",
    "The `toString` method offers a string representation of an object. By default, it returns the class name followed by its memory address. However, it's a common practice to override this method to provide a more descriptive representation."
   ]
  },
  {
   "cell_type": "code",
   "execution_count": 3,
   "metadata": {},
   "outputs": [
    {
     "name": "stdout",
     "output_type": "stream",
     "text": [
      "Circle with radius: 5.0\n"
     ]
    }
   ],
   "source": [
    "public class Circle {\n",
    "    private double radius;\n",
    "\n",
    "    public Circle(double r) {\n",
    "        this.radius = r;\n",
    "    }\n",
    "\n",
    "    @Override\n",
    "    public String toString() {\n",
    "        return \"Circle with radius: \" + radius;\n",
    "    }\n",
    "\n",
    "    public static void main(String[] args) {\n",
    "        Circle circle = new Circle(5.0);\n",
    "        System.out.println(circle); // This will implicitly call the toString() method\n",
    "    }\n",
    "}\n",
    "\n",
    "Circle.main(null);"
   ]
  },
  {
   "cell_type": "markdown",
   "metadata": {},
   "source": [
    "Without overriding, what would the default `toString` method return?\n",
    "\n",
    "Answer: it would return Circle@<object's hash code>"
   ]
  },
  {
   "cell_type": "markdown",
   "metadata": {},
   "source": [
    "# Topic 5.5: Mutator Methods\n",
    "\n",
    "Mutator methods, often referred to as \"setters\", play a crucial role in object-oriented programming. They allow controlled modification of an object's state. While accessor methods (\"getters\") retrieve the state of an object, mutator methods modify it.\n",
    "\n",
    "## Void Methods\n",
    "\n",
    "A **void method** does not return any value. Instead, its primary purpose is to perform an action. The keyword `void` in the method's header signifies that the method won't return any value."
   ]
  },
  {
   "cell_type": "code",
   "execution_count": null,
   "metadata": {},
   "outputs": [],
   "source": [
    "public class exampleVoid {\n",
    "    public void displayMessage() {\n",
    "        System.out.println(\"Hello, World!\");\n",
    "    }\n",
    "\n",
    "    public static void main(String[] args) {\n",
    "        exampleVoid example = new exampleVoid();\n",
    "        example.displayMessage();\n",
    "    }\n",
    "}\n",
    "\n",
    "exampleVoid.main(null);"
   ]
  },
  {
   "cell_type": "markdown",
   "metadata": {},
   "source": [
    "In the example above, the `displayMessage` method doesn't return any value; it simply prints a message to the console.\n",
    "\n",
    "## Mutator (Modifier) Methods\n",
    "\n",
    "A **mutator method** is typically a void method that alters the values of instance or static variables. These methods ensure that the internal state of an object can be changed in a controlled manner, adhering to the principles of data encapsulation and data integrity.\n",
    "\n",
    "Consider a class `Rectangle`:"
   ]
  },
  {
   "cell_type": "code",
   "execution_count": 3,
   "metadata": {},
   "outputs": [
    {
     "name": "stdout",
     "output_type": "stream",
     "text": [
      "Invalid width provided.\n"
     ]
    }
   ],
   "source": [
    "public class Rectangle {\n",
    "    private double length;\n",
    "    private double width;\n",
    "\n",
    "    // Mutator method for length\n",
    "    public void setLength(double length) {\n",
    "        if (length > 0) {\n",
    "            this.length = length;\n",
    "        } else {\n",
    "            System.out.println(\"Invalid length provided.\");\n",
    "        }\n",
    "    }\n",
    "\n",
    "    // Mutator method for width\n",
    "    public void setWidth(double width) {\n",
    "        if (width > 0) {\n",
    "            this.width = width;\n",
    "        } else {\n",
    "            System.out.println(\"Invalid width provided.\");\n",
    "        }\n",
    "    }\n",
    "\n",
    "    public static void main(String[] args) {\n",
    "        Rectangle rect = new Rectangle();\n",
    "        rect.setLength(5);\n",
    "        rect.setWidth(-3);\n",
    "    }\n",
    "}\n",
    "\n",
    "Rectangle.main(null);"
   ]
  },
  {
   "cell_type": "markdown",
   "metadata": {},
   "source": [
    "In the `Rectangle` class, the methods `setLength` and `setWidth` are mutator methods. They allow the modification of the `length` and `width` attributes, respectively, while ensuring that only valid values are set.\n",
    "\n",
    "Suppose you add another method to the `Rectangle` class called `setDimensions` which takes a single string parameter in the format \"length,width\" (e.g., \"10,5\"). This method should parse the string, validate the values, and then set the `length` and `width` accordingly. If the string is in an invalid format or contains negative values, it should print an error message. Can you draft this method?"
   ]
  },
  {
   "cell_type": "markdown",
   "metadata": {},
   "source": [
    "# Topic 5.6: Writing Methods\n",
    "\n",
    "Methods in Java allow us to define behaviors for objects. When these methods are non-void and have parameters, they can return a value based on the provided arguments.\n",
    "\n",
    "## Accessing Private Data\n",
    "\n",
    "Methods can only access the private data and methods of a parameter that is a reference to an object when the parameter is of the same type as the method's enclosing class. This ensures data encapsulation and integrity."
   ]
  },
  {
   "cell_type": "code",
   "execution_count": 5,
   "metadata": {},
   "outputs": [
    {
     "name": "stdout",
     "output_type": "stream",
     "text": [
      "10\n"
     ]
    }
   ],
   "source": [
    "public class MyClass {\n",
    "    private int privateData = 10;\n",
    "\n",
    "    public int getPrivateData() {\n",
    "        return privateData;\n",
    "    }\n",
    "\n",
    "    public static void main (String[] args) {\n",
    "        MyClass example = new MyClass();\n",
    "        int integer = example.getPrivateData();\n",
    "        System.out.println(integer);\n",
    "    }\n",
    "}\n",
    "\n",
    "MyClass.main(null);"
   ]
  },
  {
   "cell_type": "markdown",
   "metadata": {},
   "source": [
    "# Non-Void Methods with Parameters\n",
    "\n",
    "These methods are designed to receive values, process them, and return a computed result."
   ]
  },
  {
   "cell_type": "code",
   "execution_count": 6,
   "metadata": {},
   "outputs": [
    {
     "name": "stdout",
     "output_type": "stream",
     "text": [
      "Area: 50.0\n"
     ]
    }
   ],
   "source": [
    "public class AreaCalculator {\n",
    "    public double calculateArea(double length, double width) {\n",
    "        return length * width;\n",
    "    }\n",
    "\n",
    "    public static void main(String[] args) {\n",
    "        AreaCalculator calculator = new AreaCalculator();\n",
    "        double area = calculator.calculateArea(5, 10);\n",
    "        System.out.println(\"Area: \" + area);\n",
    "    }\n",
    "}\n",
    "\n",
    "AreaCalculator.main(null);"
   ]
  },
  {
   "cell_type": "markdown",
   "metadata": {},
   "source": [
    "# Handling Mutable Objects\n",
    "\n",
    "It's a good programming practice not to modify mutable objects passed as parameters unless it's explicitly required.\n",
    "\n",
    "**Why?** Modifying mutable objects that are passed as parameters can lead to unintended side effects in the calling code. The calling code might not expect the object to be modified, and this can introduce bugs that are hard to trace. By avoiding the modification of passed objects, you ensure that the function or method is \"pure\" and doesn't produce unexpected side effects."
   ]
  },
  {
   "cell_type": "code",
   "execution_count": null,
   "metadata": {},
   "outputs": [],
   "source": [
    "import java.util.ArrayList;\n",
    "\n",
    "public class ListModifier {\n",
    "    public void modifyList(ArrayList<String> list) {\n",
    "        // Not recommended unless explicitly required\n",
    "        list.add(\"New Item\");\n",
    "    }\n",
    "\n",
    "    public static void main(String[] args) {\n",
    "        ArrayList<String> items = new ArrayList<>();\n",
    "        items.add(\"Original Item\");\n",
    "        \n",
    "        ListModifier modifier = new ListModifier();\n",
    "        modifier.modifyList(items);\n",
    "        \n",
    "        System.out.println(items);\n",
    "    }\n",
    "}"
   ]
  },
  {
   "cell_type": "markdown",
   "metadata": {},
   "source": [
    "Question: What will be the output of the above code?\n",
    "\n",
    "Answer: [Original Item, New Item]"
   ]
  },
  {
   "cell_type": "markdown",
   "metadata": {},
   "source": [
    "# Primitive vs. Reference Parameters\n",
    "\n",
    "When a method's parameter is a primitive type, changes to it inside the method won't affect the original value. However, for reference types, changes inside the method will reflect on the original object."
   ]
  },
  {
   "cell_type": "code",
   "execution_count": 7,
   "metadata": {},
   "outputs": [
    {
     "name": "stdout",
     "output_type": "stream",
     "text": [
      "Number: 10\n",
      "List: [Modified]\n"
     ]
    }
   ],
   "source": [
    "import java.util.ArrayList;\n",
    "\n",
    "public class ValueModifier {\n",
    "    public void modifyValues(int num, ArrayList<String> list) {\n",
    "        num = 20; //primitive\n",
    "        list.add(\"Modified\"); //reference\n",
    "    }\n",
    "\n",
    "    public static void main(String[] args) {\n",
    "        int number = 10;\n",
    "        ArrayList<String> items = new ArrayList<>();\n",
    "        \n",
    "        ValueModifier modifier = new ValueModifier();\n",
    "        modifier.modifyValues(number, items);\n",
    "        \n",
    "        System.out.println(\"Number: \" + number);\n",
    "        System.out.println(\"List: \" + items);\n",
    "    }\n",
    "}\n",
    "\n",
    "ValueModifier.main(null);"
   ]
  },
  {
   "cell_type": "markdown",
   "metadata": {},
   "source": [
    "When a reference is passed to a method, both the original and the parameter inside the method point to the same memory location. This is termed as aliasing."
   ]
  },
  {
   "cell_type": "code",
   "execution_count": 4,
   "metadata": {},
   "outputs": [],
   "source": [
    "public class AliasingExample {\n",
    "    public void addToList(ArrayList<String> list) {\n",
    "        list.add(\"Aliased Item\");\n",
    "    }\n",
    "\n",
    "    public static void main(String[] args) {\n",
    "        ArrayList<String> items = new ArrayList<>();\n",
    "        \n",
    "        AliasingExample example = new AliasingExample();\n",
    "        example.addToList(items);\n",
    "        \n",
    "        System.out.println(items);\n",
    "    }\n",
    "}"
   ]
  },
  {
   "cell_type": "markdown",
   "metadata": {},
   "source": [
    "Given the `AliasingExample` class, add a method named `removeFromList` that removes an item from the list based on its index. After adding the item \"Aliased Item\" using the `addToList` method, use the `removeFromList` method to remove it.\n",
    "\n",
    "**Note**: Due to aliasing, changes made to the list inside the method will reflect on the original list."
   ]
  },
  {
   "cell_type": "markdown",
   "metadata": {},
   "source": [
    "# Topic 5.7: Static Variables and Methods\n",
    "\n",
    "In Java, the `static` keyword plays a pivotal role in the realm of Object-Oriented Programming. It allows variables and methods to be associated with the class itself rather than instances of the class. Let's delve deeper into the world of static components.\n",
    "\n",
    "## Static Variables\n",
    "\n",
    "Static variables, unlike instance variables, are associated with the class itself and not with any specific instance. This means there's only one copy of a static variable, which is shared among all instances of the class.\n",
    "\n",
    "### Key Points:\n",
    "\n",
    "- **Single Copy**: All instances of the class share the same copy of the static variable. This means if one object modifies a static variable, it reflects in all other instances.\n",
    "- **Access Modifiers**: Static variables can be either `public` or `private`, determining their visibility.\n",
    "- **Usage**: They are accessed using the class name, not through an instance."
   ]
  },
  {
   "cell_type": "code",
   "execution_count": null,
   "metadata": {},
   "outputs": [],
   "source": [
    "public class Student {\n",
    "    private static int studentCount = 0;\n",
    "    private String name;\n",
    "\n",
    "    public Student(String name) {\n",
    "        this.name = name;\n",
    "        studentCount++;\n",
    "    }\n",
    "\n",
    "    public static int getStudentCount() {\n",
    "        return studentCount;\n",
    "    }\n",
    "\n",
    "    public static void main(String[] args) {\n",
    "        Student alice = new Student(\"Alice\");\n",
    "        Student bob = new Student(\"Bob\");\n",
    "        System.out.println(\"Total Students: \" + Student.getStudentCount());\n",
    "    }\n",
    "}\n"
   ]
  },
  {
   "cell_type": "markdown",
   "metadata": {},
   "source": [
    "Question: If another student, Vardaan, enrolls, what will be the output of `Student.getStudentCount()`?\n",
    "\n",
    "Answer: 3"
   ]
  },
  {
   "cell_type": "markdown",
   "metadata": {},
   "source": [
    "## Static Methods\n",
    "\n",
    "Static methods are methods that belong to the class, not any specific instance. This means you can call a static method without creating an object of the class. Cannot access instance variables\n",
    "\n",
    "### Key Points:\n",
    "- **Association with Class**: Static methods are not tied to an instance of the class. This means they can't access instance variables or methods directly.\n",
    "- **Access Restrictions**: Static methods cannot access instance variables or call non-static methods directly. They can only access static variables or call other static methods.\n",
    "- **Usage**: They are called using the class name."
   ]
  },
  {
   "cell_type": "code",
   "execution_count": null,
   "metadata": {},
   "outputs": [],
   "source": [
    "public class MathUtility {\n",
    "    public int num;\n",
    "    \n",
    "    public static int square(int number) {\n",
    "        return number * number;\n",
    "    }\n",
    "\n",
    "    public static void main(String[] args) {\n",
    "        int result = MathUtility.square(num);\n",
    "        System.out.println(\"Square: \" + result);\n",
    "    }\n",
    "}"
   ]
  },
  {
   "cell_type": "markdown",
   "metadata": {},
   "source": [
    "**Question: What is the problem with the above code (do not run the cell)?**\n",
    "\n",
    "Answer: trying to call an instance variable in the static method square."
   ]
  },
  {
   "cell_type": "markdown",
   "metadata": {},
   "source": [
    "## Aliasing in Static Components\n",
    "\n",
    "Given that static variables are shared among all instances, changes in one instance reflect in others. This is a form of aliasing, where multiple references point to the same memory location."
   ]
  },
  {
   "cell_type": "code",
   "execution_count": 8,
   "metadata": {},
   "outputs": [
    {
     "name": "stdout",
     "output_type": "stream",
     "text": [
      "Shared count after incrementing in obj1: 1\n",
      "Shared count after incrementing in obj2: 2\n"
     ]
    }
   ],
   "source": [
    "public class SharedResource {\n",
    "    // Static variable shared among all instances\n",
    "    public static int sharedCount = 0;\n",
    "\n",
    "    public void incrementCount() {\n",
    "        sharedCount++;\n",
    "    }\n",
    "\n",
    "    public static void main(String[] args) {\n",
    "        SharedResource obj1 = new SharedResource();\n",
    "        SharedResource obj2 = new SharedResource();\n",
    "\n",
    "        obj1.incrementCount();\n",
    "        System.out.println(\"Shared count after incrementing in obj1: \" + SharedResource.sharedCount);\n",
    "\n",
    "        obj2.incrementCount();\n",
    "        System.out.println(\"Shared count after incrementing in obj2: \" + SharedResource.sharedCount);\n",
    "    }\n",
    "}\n",
    "\n",
    "SharedResource.main(null);"
   ]
  },
  {
   "cell_type": "markdown",
   "metadata": {},
   "source": [
    "When you run the above code, you'll notice that the `sharedCount` variable is incremented by both `obj1` and `obj2`, demonstrating that the static variable is indeed shared among all instances."
   ]
  },
  {
   "cell_type": "markdown",
   "metadata": {},
   "source": [
    "# Topic 5.8: Scope and Access\n",
    "\n",
    "In Java, the scope of a variable determines where it can be accessed or modified. The scope is defined by where the variable is declared. Let's delve into the intricacies of variable scope and access in Java."
   ]
  },
  {
   "cell_type": "markdown",
   "metadata": {},
   "source": [
    "## Local \n",
    "\n",
    "Local variables are declared within methods or constructors. Their scope is limited to the block in which they are declared, which means they can't be accessed outside of that block.\n",
    "\n",
    "**Key Points**:\n",
    "\n",
    "- **Declaration**: Local variables can be declared in methods or constructors.\n",
    "- **Accessibility**: They can only be used within the method or constructor where they are declared.\n",
    "- **Modifiers**: Local variables cannot have access modifiers like `public` or `private`."
   ]
  },
  {
   "cell_type": "code",
   "execution_count": 9,
   "metadata": {},
   "outputs": [
    {
     "name": "stdout",
     "output_type": "stream",
     "text": [
      "Hello, World!\n"
     ]
    }
   ],
   "source": [
    "public class LocalVariableExample {\n",
    "    public void displayMessage() {\n",
    "        String localVariable = \"Hello, World!\";\n",
    "        System.out.println(localVariable);\n",
    "    }\n",
    "\n",
    "    public static void main(String[] args) {\n",
    "        LocalVariableExample example = new LocalVariableExample();\n",
    "        example.displayMessage();\n",
    "    }\n",
    "}\n",
    "\n",
    "LocalVariableExample.main(null);"
   ]
  },
  {
   "cell_type": "markdown",
   "metadata": {},
   "source": [
    "In the above code, `localVariable` is a local variable that can only be accessed within the `displayMessage` method.\n",
    "\n",
    "## Shadowing\n",
    "\n",
    "When a local variable has the same name as an instance variable, the local variable shadows or hides the instance variable. In such cases, the local variable takes precedence."
   ]
  },
  {
   "cell_type": "code",
   "execution_count": 10,
   "metadata": {},
   "outputs": [
    {
     "name": "stdout",
     "output_type": "stream",
     "text": [
      "5\n",
      "10\n"
     ]
    }
   ],
   "source": [
    "public class ShadowExample {\n",
    "    //instance variable\n",
    "    private int value = 10;\n",
    "\n",
    "    public void printValue(int value) {\n",
    "        System.out.println(value);  // Refers to the local variable\n",
    "        System.out.println(this.value);  // Refers to the instance variable\n",
    "    }\n",
    "\n",
    "    public static void main(String[] args) {\n",
    "        ShadowExample example = new ShadowExample();\n",
    "        example.printValue(5); //5 is the local variable\n",
    "    }\n",
    "}\n",
    "\n",
    "ShadowExample.main(null);"
   ]
  },
  {
   "cell_type": "markdown",
   "metadata": {},
   "source": [
    "Question: In the `ShadowExample` class, if we didn't use the `this` keyword, which `value` would the method refer to?\n",
    "\n",
    "Answer: 5 because value refers to the local variable"
   ]
  },
  {
   "cell_type": "markdown",
   "metadata": {},
   "source": [
    "## Formal Parameters\n",
    "\n",
    "Formal parameters in methods or constructors are treated as local variables. Their scope is limited to the method or constructor in which they are defined."
   ]
  },
  {
   "cell_type": "code",
   "execution_count": 11,
   "metadata": {},
   "outputs": [
    {
     "name": "stdout",
     "output_type": "stream",
     "text": [
      "Name: John\n",
      "Age: 25\n"
     ]
    }
   ],
   "source": [
    "public class DetailsDisplay {\n",
    "    public void displayDetails(String name, int age) {\n",
    "        System.out.println(\"Name: \" + name);\n",
    "        System.out.println(\"Age: \" + age);\n",
    "    }\n",
    "\n",
    "    public static void main(String[] args) {\n",
    "        DetailsDisplay display = new DetailsDisplay();\n",
    "        display.displayDetails(\"John\", 25);\n",
    "    }\n",
    "}\n",
    "\n",
    "DetailsDisplay.main(null);"
   ]
  },
  {
   "cell_type": "markdown",
   "metadata": {},
   "source": [
    "\n",
    "In the above method, `name` and `age` are formal parameters and can only be accessed within the `displayDetails` method.\n",
    "\n",
    "### Method Decomposition\n",
    "\n",
    "Method decomposition is a programming technique where a complex problem is broken down into smaller, more manageable sub-problems. Each subproblem is solved using a separate method. This approach promotes modularity and reusability.\n",
    "\n",
    "For instance, consider the following example for calculating the area and perimeter of a rectangle:"
   ]
  },
  {
   "cell_type": "code",
   "execution_count": 12,
   "metadata": {},
   "outputs": [
    {
     "name": "stdout",
     "output_type": "stream",
     "text": [
      "Area: 50.0\n",
      "Perimeter: 30.0\n"
     ]
    }
   ],
   "source": [
    "public class RectangleOperations {\n",
    "    public double calculateArea(double length, double width) {\n",
    "        return length * width;\n",
    "    }\n",
    "\n",
    "    public double calculatePerimeter(double length, double width) {\n",
    "        return 2 * (length + width);\n",
    "    }\n",
    "\n",
    "    public static void main(String[] args) {\n",
    "        RectangleOperations operations = new RectangleOperations();\n",
    "        System.out.println(\"Area: \" + operations.calculateArea(5, 10));\n",
    "        System.out.println(\"Perimeter: \" + operations.calculatePerimeter(5, 10));\n",
    "    }\n",
    "}\n",
    "\n",
    "RectangleOperations.main(null);"
   ]
  },
  {
   "cell_type": "markdown",
   "metadata": {},
   "source": [
    "Hack\n",
    "Make simple banking application. The application should be able to handle new customer bank account requests, processing deposits and withdrawals, and maintaining accurate records of transactions and balances. The application should also track the bank's total supply of money. Your code should utilize the following concepts(0.8):\n",
    "1. Scope and Access: Private and public modifiers used in classes.\n",
    "2. Method Decomposition: Each class has its own responsibility; methods are tasked with single operations.\n",
    "3. Non-Void Methods: Methods like getBalance(), getAccountNumber(), and getTotalBankDeposits().\n",
    "4. Void Methods: Methods like deposit(), withdraw(), and processTransaction().\n",
    "5. Formal Parameters: Used in methods throughout the classes.\n",
    "6. Reference vs. Primitive Parameters: Primitive types for account numbers, balances, etc., and references for account objects."
   ]
  },
  {
   "cell_type": "code",
   "execution_count": 8,
   "metadata": {},
   "outputs": [
    {
     "name": "stdout",
     "output_type": "stream",
     "text": [
      "Total Bank Deposits: 3100.0\n",
      "Account 1 Balance: 2200.0\n",
      "Account 1 Transactions: [200.0]\n"
     ]
    }
   ],
   "source": [
    "import java.util.ArrayList;\n",
    "\n",
    "class CustomBankAccount {\n",
    "    private int accountID;\n",
    "    private double accountBalance;\n",
    "    private ArrayList<Double> transactionHistory;\n",
    "\n",
    "    public CustomBankAccount(int accountID, double initialBalance) {\n",
    "        this.accountID = accountID;\n",
    "        this.accountBalance = initialBalance;\n",
    "        this.transactionHistory = new ArrayList<>();\n",
    "    }\n",
    "\n",
    "    public int getAccountID() {\n",
    "        return accountID;\n",
    "    }\n",
    "\n",
    "    public double getAccountBalance() {\n",
    "        return accountBalance;\n",
    "    }\n",
    "\n",
    "    public void makeDeposit(double amount) {\n",
    "        if (amount > 0) {\n",
    "            accountBalance += amount;\n",
    "            transactionHistory.add(amount);\n",
    "        }\n",
    "    }\n",
    "\n",
    "    public void makeWithdrawal(double amount) {\n",
    "        if (amount > 0 && accountBalance >= amount) {\n",
    "            accountBalance -= amount;\n",
    "            transactionHistory.add(-amount);\n",
    "        }\n",
    "    }\n",
    "\n",
    "    public ArrayList<Double> getTransactionHistory() {\n",
    "        return transactionHistory;\n",
    "    }\n",
    "}\n",
    "\n",
    "class CustomBank {\n",
    "    private ArrayList<CustomBankAccount> accountsList;\n",
    "\n",
    "    public CustomBank() {\n",
    "        accountsList = new ArrayList<>();\n",
    "    }\n",
    "\n",
    "    // Open a new bank account with an initial deposit.\n",
    "    public int openAccount(double initialDeposit) {\n",
    "        int accountID = accountsList.size() + 1;\n",
    "        CustomBankAccount account = new CustomBankAccount(accountID, initialDeposit);\n",
    "        accountsList.add(account);\n",
    "        return accountID;\n",
    "    }\n",
    "\n",
    "    // Calculate the total deposits in the bank.\n",
    "    public double getTotalBankDeposits() {\n",
    "        double totalDeposits = 0;\n",
    "        for (CustomBankAccount account : accountsList) {\n",
    "            totalDeposits += account.getAccountBalance();\n",
    "        }\n",
    "        return totalDeposits;\n",
    "    }\n",
    "\n",
    "    // Process a transaction for a specific account.\n",
    "    public void processTransaction(int accountID, double amount) {\n",
    "        CustomBankAccount account = findAccount(accountID);\n",
    "        if (account != null) {\n",
    "            if (amount > 0) {\n",
    "                account.makeDeposit(amount);\n",
    "            } else if (amount < 0) {\n",
    "                account.makeWithdrawal(-amount);\n",
    "            }\n",
    "        }\n",
    "    }\n",
    "\n",
    "    // Find an account by its account number.\n",
    "    public CustomBankAccount findAccount(int accountID) {\n",
    "        for (CustomBankAccount account : accountsList) {\n",
    "            if (account.getAccountID() == accountID) {\n",
    "                return account;\n",
    "            }\n",
    "        }\n",
    "        return null; // Account not found\n",
    "    }\n",
    "}\n",
    "\n",
    "public class BankingApplication {\n",
    "    public static void main(String[] args) {\n",
    "        CustomBank customBank = new CustomBank();\n",
    "\n",
    "        int customer1 = customBank.openAccount(2000.0);\n",
    "        int customer2 = customBank.openAccount(1000.0);\n",
    "\n",
    "        customBank.processTransaction(customer1, 200.0);\n",
    "        customBank.processTransaction(customer2, -100.0);\n",
    "\n",
    "        // Print the total bank deposits.\n",
    "        System.out.println(\"Total Bank Deposits: \" + customBank.getTotalBankDeposits());\n",
    "\n",
    "        CustomBankAccount acc1 = customBank.findAccount(customer1);\n",
    "        // Print account information for customer1.\n",
    "        System.out.println(\"Account \" + acc1.getAccountID() + \" Balance: \" + acc1.getAccountBalance());\n",
    "        System.out.println(\"Account \" + acc1.getAccountID() + \" Transactions: \" + acc1.getTransactionHistory());\n",
    "    }\n",
    "}\n",
    "\n",
    "BankingApplication.main(null);\n"
   ]
  },
  {
   "cell_type": "markdown",
   "metadata": {},
   "source": [
    "## 5.9 this Keyword\n",
    "## KEY LEARNING OBJECTIVE\n",
    "Evaluate object reference expressions that use the keyword **this**.\n",
    "\n",
    "The keyword \"this\" is utilized in Java to refer to the current instance of a class. In other words, it helps to clarify what variable you're referring to within the instance."
   ]
  },
  {
   "cell_type": "code",
   "execution_count": 13,
   "metadata": {},
   "outputs": [],
   "source": [
    "public class MyClass {\n",
    "    private int value;\n",
    "\n",
    "    public void setValue(int value) {\n",
    "        this.value = value; // 'this' refers to the instance variable\n",
    "    }\n",
    "}\n"
   ]
  },
  {
   "cell_type": "markdown",
   "metadata": {},
   "source": [
    "QUESTION: **How can you use 'this' to call a constructor?**\n",
    "\n",
    "\"this.value = value\" you can use it to refer to the instance variable"
   ]
  },
  {
   "cell_type": "markdown",
   "metadata": {},
   "source": [
    "## 5.10 Ethical and Social Implications of Computing Systems\n",
    "# KEY LEARNING OBJECTIVE\n",
    "Explain the ethical and social implications of computing systems."
   ]
  },
  {
   "cell_type": "markdown",
   "metadata": {},
   "source": [
    "**Components of Ethical Implications**:\n",
    "Program development raises significant considerations related to legal matters and intellectual property. Managing open-source software licenses is a substantial challenge, as they govern the obligations of developers and the distribution and utilization of software. Additionally, data privacy represents a major concern, with numerous data protection regulations that programmers must ensure their code adheres to, particularly when their software involves data collection and processing.\n",
    "\n",
    "**Components of Social Implications**:\n",
    "Software can have adverse consequences, with malicious software posing substantial security threats. Software has revolutionized the way individuals communicate, retrieve information, and engage with one another. For instance, social media platforms have redefined how society engages in discussions, while algorithms can give rise to filter bubbles that restrict exposure to a wide range of perspectives."
   ]
  },
  {
   "cell_type": "markdown",
   "metadata": {},
   "source": [
    "**POPCORN HACKS: (0.2)**\n",
    "**Write a two sentence reflection on the social and ethical implications of programming. (0.8)**\n",
    "Computing technology exerts an influence on privacy, security, and data ownership, giving rise to worries about data breaches and surveillance. Automation and artificial intelligence have ramifications for employment and labor markets, potentially leading to job displacement, with the added concern that bias in these AI algorithms can lead to unfair and discriminatory consequences."
   ]
  }
 ],
 "metadata": {
  "kernelspec": {
   "display_name": "Java",
   "language": "java",
   "name": "java"
  },
  "language_info": {
   "codemirror_mode": "java",
   "file_extension": ".jshell",
   "mimetype": "text/x-java-source",
   "name": "java",
   "pygments_lexer": "java",
   "version": "16.0.1+9-24"
  },
  "orig_nbformat": 4
 },
 "nbformat": 4,
 "nbformat_minor": 2
}
