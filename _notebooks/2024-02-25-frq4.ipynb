{
 "cells": [
  {
   "cell_type": "markdown",
   "metadata": {},
   "source": [
    "---\n",
    "title: CSA 2015 FRQ 4\n",
    "description: These are my solutions for the 2015 CSA FRQ 4\n",
    "toc: true\n",
    "layout: post\n",
    "---"
   ]
  },
  {
   "cell_type": "markdown",
   "metadata": {},
   "source": [
    "# Question 4: Methods and Control Structures\n",
    "(a) A number group represents a group of integers defined in some way. It could be empty, or it could contain one or more integers.\n",
    "\n",
    "Write an interface named NumberGroup that represents a group of integers. The interface should have a single contains method that determines if a given integer is in the group. For example, if group1 is of type NumberGroup, and it contains only the two numbers -5 and 3, then group1.contains(-5) would return true, and group1.contains(2) would return false.\n",
    "Write the complete NumberGroup interface. It must have exactly one method.\n"
   ]
  },
  {
   "cell_type": "code",
   "execution_count": 1,
   "metadata": {},
   "outputs": [],
   "source": [
    "public interface NumberGroup {\n",
    "    // Method to check if the group contains a specific value\n",
    "    boolean contains(int val);\n",
    "}\n"
   ]
  },
  {
   "cell_type": "markdown",
   "metadata": {},
   "source": [
    "With the NumberGroup interface, I aimed to create a flexible blueprint for classes that represent groups of numbers. The interface shows a single method, contains(int val), which allows checking if a specific value is present within the group. "
   ]
  },
  {
   "cell_type": "markdown",
   "metadata": {},
   "source": [
    "(b) A range represents a number group that contains all (and only) the integers between a minimum value and a maximum value, inclusive.\n",
    "Write the Range class, which is a NumberGroup. The Range class represents the group of int values that range from a given minimum value up through a given maximum value, inclusive. For example,the declaration\n",
    "\n",
    "NumberGroup range1 = new Range(-3, 2);\n",
    "represents the group of integer values -3, -2, -1, 0, 1, 2.\n",
    "\n",
    "Write the complete Range class. Include all necessary instance variables and methods as well as a constructor that takes two int parameters. The first parameter represents the minimum value, and the second parameter represents the maximum value of the range. You may assume that the minimum is less than or equal to the maximum."
   ]
  },
  {
   "cell_type": "code",
   "execution_count": 4,
   "metadata": {},
   "outputs": [
    {
     "name": "stdout",
     "output_type": "stream",
     "text": [
      "rangetest.contains(1): true\n",
      "rangetest.contains(10): false\n"
     ]
    }
   ],
   "source": [
    "public interface NumberGroup {\n",
    "    /**\n",
    "     * Checks if the given number is within the range.\n",
    "     *\n",
    "     * @param number The number to check.\n",
    "     * @return True if the number is within the range, false otherwise.\n",
    "     */\n",
    "    boolean contains(int number);\n",
    "}\n",
    "\n",
    "public class Range implements NumberGroup {\n",
    "    private int min;\n",
    "    private int max; // Instance variables\n",
    "\n",
    "    /**\n",
    "     * Constructs a Range object with the specified minimum and maximum values.\n",
    "     *\n",
    "     * @param min The minimum value of the range.\n",
    "     * @param max The maximum value of the range.\n",
    "     */\n",
    "    public Range(int min, int max) {\n",
    "        this.min = min;\n",
    "        this.max = max;\n",
    "    }\n",
    "\n",
    "    /**\n",
    "     * Checks if the given number is within the range.\n",
    "     *\n",
    "     * @param number The number to check.\n",
    "     * @return True if the number is within the range, false otherwise.\n",
    "     */\n",
    "    @Override\n",
    "    public boolean contains(int number) {\n",
    "        return number >= min && number <= max; // Testing if value is in the range\n",
    "    }\n",
    "}\n",
    "\n",
    "// Example usage:\n",
    "NumberGroup rangetest = new Range(-3, 2);\n",
    "System.out.println(\"rangetest.contains(1): \" + rangetest.contains(1));\n",
    "System.out.println(\"rangetest.contains(10): \" + rangetest.contains(10));\n"
   ]
  },
  {
   "cell_type": "markdown",
   "metadata": {},
   "source": [
    "I began by defining an interface, NumberGroup, outlining a method to check for containment. Then, I crafted the Range class implementing this interface, which represented a range with a minimum and maximum value. I made sure to document the purpose of the class and its constructor for clarity. The contains method in the Range class efficiently checked if a number was within the specified range. \n"
   ]
  },
  {
   "cell_type": "markdown",
   "metadata": {},
   "source": [
    "(c) The MultipleGroups class (not shown) represents a collection of NumberGroup objects and isa NumberGroup. The MultipleGroups class stores the number groups in the instance variable groupList (shown below), which is initialized in the constructor.\n",
    "\n",
    "private List<NumberGroup> groupList;\n",
    "\n",
    "Write the MultipleGroups method contains. The method takes an integer and returns true if and only if the integer is contained in one or more of the number groups in groupList."
   ]
  },
  {
   "cell_type": "code",
   "execution_count": 7,
   "metadata": {},
   "outputs": [
    {
     "name": "stdout",
     "output_type": "stream",
     "text": [
      "Contains 2: true, Contains 3: true, Contains 6: false\n"
     ]
    }
   ],
   "source": [
    "public interface NumberGroup {\n",
    "    /**\n",
    "     * Checks if the given number is contained within this group.\n",
    "     *\n",
    "     * @param number The number to check.\n",
    "     * @return True if the number is contained, false otherwise.\n",
    "     */\n",
    "    boolean contains(int number);\n",
    "}\n",
    "\n",
    "public class MultipleGroups implements NumberGroup {\n",
    "    private List<NumberGroup> groupList;\n",
    "\n",
    "    /**\n",
    "     * Constructs a MultipleGroups object with the specified list of NumberGroups.\n",
    "     *\n",
    "     * @param groupList The list of NumberGroups.\n",
    "     */\n",
    "    public MultipleGroups(List<NumberGroup> groupList) {\n",
    "        this.groupList = groupList;\n",
    "    }\n",
    "\n",
    "    /**\n",
    "     * Checks if the given number is contained within any of the NumberGroups in the list.\n",
    "     *\n",
    "     * @param number The number to check.\n",
    "     * @return True if the number is contained in any group, false otherwise.\n",
    "     */\n",
    "    @Override\n",
    "    public boolean contains(int number) {\n",
    "        for (NumberGroup group : groupList) {\n",
    "            if (group.contains(number)) {\n",
    "                return true;\n",
    "            }\n",
    "        }\n",
    "        return false;\n",
    "    }\n",
    "}\n",
    "\n",
    "// Example usage:\n",
    "MultipleGroups multiple1 = new MultipleGroups(List.of(new Range(5, 8), new Range(10, 12), new Range(1, 6)));\n",
    "boolean result1 = multiple1.contains(2);\n",
    "boolean result2 = multiple1.contains(6);\n",
    "boolean result3 = multiple1.contains(9); // Example call to contains\n",
    "System.out.println(\"Contains 2: \" + result1 + \", Contains 3: \" + result2 + \", Contains 6: \" + result3);\n"
   ]
  },
  {
   "cell_type": "markdown",
   "metadata": {},
   "source": [
    "I began with the NumberGroup interface, defining a method to check containment in a single group. Then, I made the MultipleGroups class, which holds a list of NumberGroup objects. Its contains method checks if the number is in any group. I also have an example in the comments to show how it works. \n"
   ]
  }
 ],
 "metadata": {
  "kernelspec": {
   "display_name": "Java",
   "language": "java",
   "name": "java"
  },
  "language_info": {
   "codemirror_mode": "java",
   "file_extension": ".jshell",
   "mimetype": "text/x-java-source",
   "name": "java",
   "pygments_lexer": "java",
   "version": "16.0.1+9-24"
  }
 },
 "nbformat": 4,
 "nbformat_minor": 2
}
