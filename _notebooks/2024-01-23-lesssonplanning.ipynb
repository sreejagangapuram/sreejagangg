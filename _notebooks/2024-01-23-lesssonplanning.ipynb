{
 "cells": [
  {
   "cell_type": "markdown",
   "metadata": {},
   "source": [
    "---\n",
    "title: CS Live Test \n",
    "description: \n",
    "toc: true\n",
    "layout: post\n",
    "---"
   ]
  },
  {
   "cell_type": "markdown",
   "metadata": {},
   "source": [
    "# JWT Signup\n",
    "- Users sign up by providing credentials\n",
    "- which are validated and stored securely\n",
    "- Upon successful login, a JWT is generated and sent to the client\n",
    "- Subsequent requests include this JWT for authentication\n",
    "- with the server validating it before granting access to protected resources\n",
    "- Token expiration and optional refresh mechanisms enhance security\n",
    "- while logout can be implemented by discarding the JWT or invalidating it server-side."
   ]
  },
  {
   "cell_type": "markdown",
   "metadata": {},
   "source": [
    "# POJO\n",
    "- A POJO means “plain old java object” \n",
    "- It is an ordinary object that is not bound by any special restriction \n",
    "- A POJO class does not have any naming conventions for properties and methods \n",
    "- It is not tied to any java framework and any java program can use it \n",
    "- A pojo class contains variables and their getters and setters \n",
    "\n",
    "# Characteristics\n",
    "- Have private fields \n",
    "- A public no argument constructor \n",
    "- Has getter and setter methods for its fields \n",
    "- And may have additional business logic methods \n"
   ]
  },
  {
   "cell_type": "code",
   "execution_count": null,
   "metadata": {},
   "outputs": [],
   "source": [
    "public class Student {\n",
    "    private String firstName; \n",
    "    private String lastName;     \n",
    "\n",
    "    public Student(String firstName, String lastName) {\n",
    "        this.firstName = firstName;\n",
    "        this.lastName = lastName;\n",
    "        \n",
    "    }\n",
    "\n",
    "    public String getFirstName() {\n",
    "        return this.firstName;\n",
    "    }\n",
    "\n",
    "    public void setFirstName(String firstName) {\n",
    "         this.firstName = firstName;\n",
    "    }\n",
    "}"
   ]
  },
  {
   "cell_type": "markdown",
   "metadata": {},
   "source": [
    "# Changed POJO \n",
    "- Pojo changes are adding, modifying, or removing fields\n",
    "- We also update methods to reflect the new structure \n",
    "- Its important for us to make sure that the changes that we make are backward-compatitble if the pojo is used in  a serialized form "
   ]
  },
  {
   "cell_type": "code",
   "execution_count": null,
   "metadata": {},
   "outputs": [],
   "source": [
    "public class Student {\n",
    "\n",
    "    public String firstName; \n",
    "    public String lastName; \n",
    "    public Integer id;    \n",
    "\n",
    "    public Student(String firstName, String lastName, Integer id) {\n",
    "        this.firstName = firstName;\n",
    "        this.lastName = lastName;\n",
    "        this.id = id;\n",
    "      }\n",
    "\n",
    "    public String getFirstName() {\n",
    "        return this.firstName;\n",
    "    }\n",
    "\n",
    "    public void setFirstName(String firstName) {\n",
    "         this.firstName = firstName;\n",
    "    }\n",
    "\n",
    "    public String getLastName() {\n",
    "        return this.lastName;\n",
    "    }\n",
    "\n",
    "    public void setLastName(String lastName) {\n",
    "         this.lastName= lastName;\n",
    "    }\n",
    "\n",
    "    public Integer getId() {\n",
    "        return this.id;\n",
    "    }\n",
    "\n",
    "    public void setId(Integer id) {\n",
    "         this.id = id;\n",
    "    }\n",
    "}\n"
   ]
  },
  {
   "cell_type": "markdown",
   "metadata": {},
   "source": [
    "# Security \n",
    "- Security configuration rules are important to control access to resources and protect sensitive information \n",
    "- Examples \n",
    "    - authentication mechanisms (login: username and password)\n",
    "    - authorization (managing permissions, who has access to what)\n",
    "    - encryption of sensative information  \n",
    "    - secure communication protocols (HTTPS)"
   ]
  },
  {
   "cell_type": "markdown",
   "metadata": {},
   "source": [
    "# Docker\n",
    "Docker is a platform that allows users to automate the deployment of applications inside lightweight, portable containers \n",
    "\n",
    "Process to update the docker application: \n",
    "\n",
    "1. Pull the latest version of the docker image from the container registry \n",
    "2. Stop running the containers of the old version (we can do this by docker-compose down) \n",
    "3. If we need to, we can remove the old containers \n",
    "4. Then we run a new container with the updated image (this can be done with docker-compose up-d) \n",
    "5. Then we ensure any necessary data or configurations are migrated or applied \n"
   ]
  },
  {
   "cell_type": "markdown",
   "metadata": {},
   "source": [
    "# Route 53\n",
    "Route 53 is a scalable domain name system (DNS) web service that is provided by AWS \n",
    "\n",
    "Process for domain setup (building off of route 53) \n",
    "1. Create a hosted zone for your domain \n",
    "2. Update the domain’s DNS records with the provided name servers \n",
    "3. Configure the necessary DNS records IA, CNAME<K KMX) \n",
    "4. Optionally, set up routing policies, health chec ks, and other advanced features based on requirements \n"
   ]
  },
  {
   "cell_type": "markdown",
   "metadata": {},
   "source": [
    "# Example of API access code and error handling in Python\n",
    "- This code is a  Flask application with a /login endpoint for user authentication and a /protected endpoint that requires a valid JWT for access. \n",
    "- If a request to the /protected endpoint receives a 403 error (indicating unauthorized access), the handle_403_error function redirects the user to the login page."
   ]
  },
  {
   "cell_type": "code",
   "execution_count": null,
   "metadata": {},
   "outputs": [],
   "source": [
    "from flask import Flask, request, jsonify, redirect\n",
    "\n",
    "app = Flask(__name__)\n",
    "\n",
    "# Dummy user data (in a real application, this would come from a database)\n",
    "users = {\n",
    "    \"user1\": \"password1\",\n",
    "    \"user2\": \"password2\"\n",
    "}\n",
    "\n",
    "# Dummy JWT generation function (in a real application, use a proper JWT library)\n",
    "def generate_jwt(username):\n",
    "    return f\"dummy_jwt_for_{username}\"\n",
    "\n",
    "@app.route(\"/login\", methods=[\"POST\"])\n",
    "def login():\n",
    "    data = request.get_json()\n",
    "    username = data.get(\"username\")\n",
    "    password = data.get(\"password\")\n",
    "\n",
    "    if username in users and users[username] == password:\n",
    "        jwt = generate_jwt(username)\n",
    "        return jsonify({\"jwt\": jwt}), 200\n",
    "    else:\n",
    "        return jsonify({\"error\": \"Invalid credentials\"}), 401\n",
    "\n",
    "@app.route(\"/protected\", methods=[\"GET\"])\n",
    "def protected():\n",
    "    jwt = request.headers.get(\"Authorization\")\n",
    "\n",
    "    # Dummy JWT validation (in a real application, use a proper JWT library)\n",
    "    username = jwt.split(\"_\")[-1]\n",
    "\n",
    "    if jwt and username in users:\n",
    "        return jsonify({\"message\": \"Welcome to the protected resource!\"}), 200\n",
    "    else:\n",
    "        return jsonify({\"error\": \"Unauthorized\"}), 403\n",
    "\n",
    "@app.errorhandler(403)\n",
    "def handle_403_error(error):\n",
    "    return redirect(\"/login\")\n",
    "\n",
    "if __name__ == \"__main__\":\n",
    "    app.run(debug=True)"
   ]
  },
  {
   "cell_type": "markdown",
   "metadata": {},
   "source": [
    "# Managing CORS Through Nginx and Java\n",
    "CORS: cross-origin resource sharing is a security feature implemented by web browsers to control requests made across different domains \n",
    "\n",
    "Managing cors thru nginx: we can manage CORS by configuring the add_header directive to include the appropriate CORS headers in responses \n",
    "\n",
    "Example headers:\n",
    "access-control- allow- origin \n",
    "Access-control-allow-methods \n",
    "\n",
    "Thru java: In Java we can handle cors at the application level by annotating specific methods or controllers with @CrossOrigin or by implementing a filter to intercept and modify HTTP responses. \n"
   ]
  },
  {
   "cell_type": "markdown",
   "metadata": {},
   "source": [
    "# Reverse proxy of server_name to proxy_pass\n",
    "1. Nginx can be used as a reverse proxy to forward client requests to backend servers \n",
    "2. The server_name directive in nginx specifies the domain name associated with a server block \n",
    "3. Proxy_pass is used to define the backend server’s address where requests should be forwarded \n",
    "\n",
    "## Example configuration of reverse proxy: \n",
    "listen 80;\n",
    "server_name example.com;\n",
    "location / {\n",
    "proxy_pass http://backend-server;\n",
    "# Additional proxy settings can be configured here\n",
    "}\n",
    "}\n"
   ]
  }
 ],
 "metadata": {
  "kernelspec": {
   "display_name": "Java",
   "language": "java",
   "name": "java"
  },
  "language_info": {
   "name": "java"
  }
 },
 "nbformat": 4,
 "nbformat_minor": 2
}
