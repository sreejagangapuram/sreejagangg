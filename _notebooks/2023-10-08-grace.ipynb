{
 "cells": [
  {
   "cell_type": "markdown",
   "metadata": {},
   "source": [
    "---\n",
    "layout: true\n",
    "title: Sreeja - Unit 1 Lesson\n",
    "description: the lesson for the unit 1\n",
    "courses: { csse: {week: 0}, csp: {week: 0}, csa: {week: 0}, labnotebook: {week: 5} }\n",
    "type: hacks\n",
    "---"
   ]
  },
  {
   "cell_type": "markdown",
   "metadata": {},
   "source": [
    "## Unit 2.1- Objects: Instances of Classes (SCROLL DOWN FOR HACKS)\n",
    "\n",
    "#### What are objects?\n",
    "\n",
    "An **Object** is created from a class by calling the class constructor. \n",
    "\n",
    "#### What are classes?\n",
    "\n",
    "A **Class** is a template that defines an object is like and what it can do. \n",
    "\n",
    "#### Objects are Instances of Classes\n",
    "\n",
    "For example, if the class is a blueprint for a house, the object is a particular house. \n",
    "\n"
   ]
  },
  {
   "cell_type": "markdown",
   "metadata": {},
   "source": [
    "#### Example\n",
    "\n",
    "Here is an example of creating a Student class in Java. It contains instance variables that define the characteristics of a student."
   ]
  },
  {
   "cell_type": "code",
   "execution_count": 4,
   "metadata": {
    "vscode": {
     "languageId": "java"
    }
   },
   "outputs": [],
   "source": [
    "public class Student {\n",
    "\n",
    "    // instance variables\n",
    "    String name;\n",
    "    String teacher;\n",
    "    int period;\n",
    "  \n",
    "    // constructor\n",
    "    public Student(String name, String teacher, int period) {\n",
    "      this.name = name;\n",
    "      this.teacher = teacher;\n",
    "      this.period = period;\n",
    "    }\n",
    "  }"
   ]
  },
  {
   "cell_type": "markdown",
   "metadata": {},
   "source": [
    "Now, using our class, we can create student objects by initializing two students"
   ]
  },
  {
   "cell_type": "code",
   "execution_count": 5,
   "metadata": {
    "vscode": {
     "languageId": "java"
    }
   },
   "outputs": [],
   "source": [
    "Student grace = new Student(\"Grace\", \"Mr. Mort\", 3);\n",
    "Student alice = new Student(\"Alice\", \"Mr. Mort\", 1);"
   ]
  },
  {
   "cell_type": "markdown",
   "metadata": {},
   "source": [
    "We can printout information about each student"
   ]
  },
  {
   "cell_type": "code",
   "execution_count": 6,
   "metadata": {
    "vscode": {
     "languageId": "java"
    }
   },
   "outputs": [
    {
     "name": "stdout",
     "output_type": "stream",
     "text": [
      "Grace\n"
     ]
    }
   ],
   "source": [
    "System.out.println(grace.name);"
   ]
  },
  {
   "cell_type": "code",
   "execution_count": 7,
   "metadata": {
    "vscode": {
     "languageId": "java"
    }
   },
   "outputs": [
    {
     "name": "stdout",
     "output_type": "stream",
     "text": [
      "1\n"
     ]
    }
   ],
   "source": [
    "System.out.println(alice.period);"
   ]
  },
  {
   "cell_type": "markdown",
   "metadata": {},
   "source": [
    "#### Learning Objectives\n",
    "\n",
    "- Explain the relationship between a class and an object.\n",
    "\n",
    "#### Essential Knowledge\n",
    "\n",
    "- An object is a specific instance of a class with defined attributes.\n",
    "- A class is the formal implementation, or blueprint, of the attributes and behaviors of an object. "
   ]
  },
  {
   "cell_type": "markdown",
   "metadata": {},
   "source": [
    "## Unit 2.2- Creating and Storing Objects (Instantiation)"
   ]
  },
  {
   "cell_type": "markdown",
   "metadata": {},
   "source": [
    "So, after we learned about **classes**, how are **objects** actually made?\n",
    "\n",
    "Using our previous code, we can see created our constructor using \n",
    "```\n",
    "public Student(String name, String teacher, int period) {\n",
    "      this.name = name;\n",
    "      this.teacher = teacher;\n",
    "      this.period = period;\n",
    "    }\n",
    "```"
   ]
  },
  {
   "cell_type": "code",
   "execution_count": null,
   "metadata": {
    "vscode": {
     "languageId": "java"
    }
   },
   "outputs": [],
   "source": [
    "public class Student {\n",
    "\n",
    "    // instance variables\n",
    "    String name;\n",
    "    String teacher;\n",
    "    int period;\n",
    "  \n",
    "    // constructor\n",
    "    public Student(String name, String teacher, int period) {\n",
    "      this.name = name;\n",
    "      this.teacher = teacher;\n",
    "      this.period = period;\n",
    "    }\n",
    "  }"
   ]
  },
  {
   "cell_type": "markdown",
   "metadata": {},
   "source": [
    "The **Student** is the name of the class. The first letter is capitalized according to Java naming conventions (camel-case naming conventions). Then, using the **new** keyword, we call the constructor to make a new **Student**. Inside the parentheses, we have the parameter list, where the values and characteristics of the object are entered."
   ]
  },
  {
   "cell_type": "markdown",
   "metadata": {},
   "source": [
    "```\n",
    "Student grace = new Student(\"Grace\", \"Mr. Mort\", 3);\n",
    "```\n",
    "\n",
    "The **parameters** in this case are \"Grace\", \"Mr. Mort\", and 3. "
   ]
  },
  {
   "cell_type": "markdown",
   "metadata": {},
   "source": [
    "#### Constructor Overloads\n",
    "\n",
    "A class can have multiple constructors, however, the number of parameters must be different or the order must be different. This is an example of **overloading** the constructor.\n"
   ]
  },
  {
   "cell_type": "markdown",
   "metadata": {},
   "source": [
    "```\n",
    "// Constructor 1\n",
    "Student(String name, String teacher, int period)\n",
    "\n",
    "\n",
    "// Constructor 2\n",
    "Student(String teacher, String name, int period)\n",
    "```\n",
    "\n",
    "This two constructors are not allowed. For example, if we call\n",
    "\n",
    "```\n",
    "Student(\"Grace\", \"Mr. Mort\", 3);\n",
    "```\n",
    "\n",
    "we would not know whether Grace or Mr. Mort is the student."
   ]
  },
  {
   "cell_type": "markdown",
   "metadata": {},
   "source": [
    "However, constructors with different data types or different number of parameters are allowed when overloading. Here are some examples...\n",
    "\n",
    "```\n",
    "Student(String name, String teacher, int period)\n",
    "Student(String name, String teacher)\n",
    "Student()\n",
    "```"
   ]
  },
  {
   "cell_type": "markdown",
   "metadata": {},
   "source": [
    "#### Null Objects"
   ]
  },
  {
   "cell_type": "code",
   "execution_count": null,
   "metadata": {
    "vscode": {
     "languageId": "java"
    }
   },
   "outputs": [],
   "source": [
    "Student rachit = null;"
   ]
  },
  {
   "cell_type": "markdown",
   "metadata": {},
   "source": [
    "Null basically states that no object exists, and it is not stored in memory. You cannot call methods on an object that is declared as null since null objects do not have any information or characteristics set to that object. This will create a NullPointerException"
   ]
  },
  {
   "cell_type": "markdown",
   "metadata": {},
   "source": [
    "## Unit 2.3- Calling a Void Method"
   ]
  },
  {
   "cell_type": "markdown",
   "metadata": {},
   "source": [
    "**method**: code that is called in order to achieve a task\n",
    "- can be void or non-void, static or non-static\n",
    "\n",
    "**void method**: do not return a value but instead change other things. These include changing characteristics of an object or printing text to the console. Here is an example...\n",
    "\n",
    "```\n",
    "public void methodName(parameterList)\n",
    "```\n",
    "\n",
    "**static method**: general to the class and not tied to any particular object. The method is denoted by the Here is an example ...\n",
    "\n",
    "```\n",
    "public static void add() {\n",
    "  count++;\n",
    "}\n",
    "\n",
    "```\n",
    "\n",
    "To call a static method, we use dot notation, with the class name coming before the method separated by a dot as follows\n",
    "\n",
    "```\n",
    "ClassName.add();\n",
    "```\n",
    "\n",
    "**non-static method**: acts on a particular object. For example, printing a person's name is a non-static method, since each person has a different name. For example...\n",
    "\n",
    "```\n",
    "public void printName() {\n",
    "  System.out.println(name);\n",
    "}\n",
    "```\n",
    "\n",
    "When calling a non-static method, we also use dot notation. But, instead of using the class name, we use the object name so we know what object the method acts on. Also, we don't need to do dot notation of ClassName.objectName.methodName() because an object already acts on a certain class, so using the class name is just redundant.  We would use printName() as follows...\n",
    "\n",
    "```\n",
    "objectName.printName();\n",
    "```"
   ]
  },
  {
   "cell_type": "markdown",
   "metadata": {},
   "source": [
    "Run the main method and see what the each of the methods prints out"
   ]
  },
  {
   "cell_type": "code",
   "execution_count": 1,
   "metadata": {
    "vscode": {
     "languageId": "java"
    }
   },
   "outputs": [],
   "source": [
    "public class MyClass {\n",
    "\n",
    "    // Static method\n",
    "    public static void staticMethod() {\n",
    "        System.out.println(\"This is a static method.\");\n",
    "    }\n",
    "\n",
    "    // Non-static (instance) method\n",
    "    public void nonStaticMethod() {\n",
    "        System.out.println(\"This is a non-static method.\");\n",
    "    }\n",
    "\n",
    "    // Method with void return type\n",
    "    public void methodWithVoidReturnType() {\n",
    "        System.out.println(\"This method has a void return type.\");\n",
    "    }\n",
    "\n",
    "    public static void main(String[] args) {\n",
    "        // Calling the static method\n",
    "        staticMethod();\n",
    "\n",
    "        // Creating an object of MyClass\n",
    "        MyClass myObject = new MyClass();\n",
    "\n",
    "        // Calling the non-static method on the object\n",
    "        myObject.nonStaticMethod();\n",
    "\n",
    "        // Calling the method with void return type\n",
    "        myObject.methodWithVoidReturnType();\n",
    "    }\n",
    "}\n"
   ]
  },
  {
   "cell_type": "markdown",
   "metadata": {},
   "source": [
    "# Hacks"
   ]
  },
  {
   "cell_type": "markdown",
   "metadata": {},
   "source": [
    "# Hack 1"
   ]
  },
  {
   "cell_type": "code",
   "execution_count": 2,
   "metadata": {
    "vscode": {
     "languageId": "java"
    }
   },
   "outputs": [],
   "source": [
    "import java.util.ArrayList;\n",
    "\n",
    "public class MyArrayList {\n",
    "    private ArrayList<Integer> arrayList;\n",
    "\n",
    "    public MyArrayList() {\n",
    "        this.arrayList = new ArrayList<>();\n",
    "    }\n",
    "\n",
    "    // Void method to add an integer to the ArrayList\n",
    "    public void addInteger(int value) {\n",
    "        arrayList.add(value);\n",
    "    }\n",
    "\n",
    "    // Non-void method to retrieve an element from a specific index\n",
    "    public int getIntegerAtIndex(int index) {\n",
    "        if (index >= 0 && index < arrayList.size()) {\n",
    "            return arrayList.get(index);\n",
    "        } else {\n",
    "            // Handle index out of bounds, you can choose to throw an exception or return a default value here.\n",
    "            throw new IndexOutOfBoundsException(\"Index is out of bounds\");\n",
    "        }\n",
    "    }\n",
    "\n",
    "    public static void main(String[] args) {\n",
    "        MyArrayList myArrayList = new MyArrayList();\n",
    "\n",
    "        // Adding integers to the ArrayList\n",
    "        myArrayList.addInteger(5);\n",
    "        myArrayList.addInteger(10);\n",
    "        myArrayList.addInteger(15);\n",
    "\n",
    "        // Retrieving an element from a specific index\n",
    "        int elementAtIndex = myArrayList.getIntegerAtIndex(1);\n",
    "        System.out.println(\"Element at index 1: \" + elementAtIndex); // Output: Element at index 1: 10\n",
    "    }\n",
    "}\n"
   ]
  },
  {
   "cell_type": "markdown",
   "metadata": {},
   "source": [
    "# Hack 2"
   ]
  },
  {
   "cell_type": "code",
   "execution_count": 3,
   "metadata": {
    "vscode": {
     "languageId": "java"
    }
   },
   "outputs": [],
   "source": [
    "import java.util.Random;\n",
    "import java.util.Scanner;\n",
    "\n",
    "public class GuessingGame {\n",
    "    private static Random random = new Random();\n",
    "    private double randomNumber;\n",
    "    private int exponent;\n",
    "    private int root;\n",
    "\n",
    "    public GuessingGame() {\n",
    "        // Generate a random number between 1 and 100\n",
    "        randomNumber = 1 + random.nextInt(100);\n",
    "        \n",
    "        // Randomly choose an exponent between 2 and 5\n",
    "        exponent = 2 + random.nextInt(4);\n",
    "\n",
    "        // Calculate the root based on the exponent\n",
    "        root = (int) Math.pow(randomNumber, 1.0 / exponent);\n",
    "    }\n",
    "\n",
    "    public static void main(String[] args) {\n",
    "        Scanner scanner = new Scanner(System.in);\n",
    "        GuessingGame game = new GuessingGame();\n",
    "\n",
    "        System.out.println(\"Welcome to the Guessing Game!\");\n",
    "        System.out.println(\"I have a number in mind. Can you guess its root and exponent?\");\n",
    "        System.out.println(\"Hint: The number is between 1 and 100.\");\n",
    "\n",
    "        int attempts = 0;\n",
    "        boolean guessedCorrectly = false;\n",
    "\n",
    "        while (!guessedCorrectly) {\n",
    "            System.out.print(\"Enter your guess for the root: \");\n",
    "            int guessedRoot = scanner.nextInt();\n",
    "            System.out.print(\"Enter your guess for the exponent: \");\n",
    "            int guessedExponent = scanner.nextInt();\n",
    "\n",
    "            attempts++;\n",
    "\n",
    "            if (game.checkGuess(guessedRoot, guessedExponent)) {\n",
    "                guessedCorrectly = true;\n",
    "            } else {\n",
    "                game.printHint();\n",
    "            }\n",
    "        }\n",
    "\n",
    "        System.out.println(\"Congratulations! You guessed the correct root and exponent.\");\n",
    "        System.out.println(\"The number was \" + game.randomNumber);\n",
    "        System.out.println(\"It took you \" + attempts + \" attempts.\");\n",
    "        scanner.close();\n",
    "    }\n",
    "\n",
    "    // Check if the guessed root and exponent are correct\n",
    "    public boolean checkGuess(int guessedRoot, int guessedExponent) {\n",
    "        return guessedRoot == root && guessedExponent == exponent;\n",
    "    }\n",
    "\n",
    "    // Provide a hint based on the difference between the guessed and actual values\n",
    "    public void printHint() {\n",
    "        int rootDifference = Math.abs(root - guessedRoot);\n",
    "        int exponentDifference = Math.abs(exponent - guessedExponent);\n",
    "\n",
    "        System.out.println(\"Hint:\");\n",
    "        if (rootDifference > 0) {\n",
    "            System.out.println(\"The root is not \" + guessedRoot + \".\");\n",
    "        }\n",
    "        if (exponentDifference > 0) {\n",
    "            System.out.println(\"The exponent is not \" + guessedExponent + \".\");\n",
    "        }\n",
    "    }\n",
    "}"
   ]
  },
  {
   "cell_type": "markdown",
   "metadata": {},
   "source": [
    "# Hack 3"
   ]
  },
  {
   "cell_type": "code",
   "execution_count": 4,
   "metadata": {
    "vscode": {
     "languageId": "java"
    }
   },
   "outputs": [],
   "source": [
    "public class Person {\n",
    "    private int age;\n",
    "    private boolean isStudent;\n",
    "    private String name;\n",
    "    private double height;\n",
    "    \n",
    "    // Constructor to initialize the class with values\n",
    "    public Person(int age, boolean isStudent, String name, double height) {\n",
    "        this.age = age;\n",
    "        this.isStudent = isStudent;\n",
    "        this.name = name;\n",
    "        this.height = height;\n",
    "    }\n",
    "    \n",
    "    // Getter methods to access the information\n",
    "    public int getAge() {\n",
    "        return age;\n",
    "    }\n",
    "    \n",
    "    public boolean isStudent() {\n",
    "        return isStudent;\n",
    "    }\n",
    "    \n",
    "    public String getName() {\n",
    "        return name;\n",
    "    }\n",
    "    \n",
    "    public double getHeight() {\n",
    "        return height;\n",
    "    }\n",
    "\n",
    "    public static void main(String[] args) {\n",
    "        // Create an instance of the Person class with sample data\n",
    "        Person person = new Person(25, true, \"John Doe\", 175.5);\n",
    "\n",
    "        // Access and print the information\n",
    "        System.out.println(\"Name: \" + person.getName());\n",
    "        System.out.println(\"Age: \" + person.getAge() + \" years\");\n",
    "        System.out.println(\"Is a student: \" + (person.isStudent() ? \"Yes\" : \"No\"));\n",
    "        System.out.println(\"Height: \" + person.getHeight() + \" cm\");\n",
    "    }\n",
    "}\n"
   ]
  },
  {
   "cell_type": "markdown",
   "metadata": {},
   "source": [
    "# Hack 4"
   ]
  },
  {
   "cell_type": "code",
   "execution_count": 5,
   "metadata": {
    "vscode": {
     "languageId": "java"
    }
   },
   "outputs": [],
   "source": [
    "public class PersonNameProcessor {\n",
    "    private String fullName;\n",
    "\n",
    "    public PersonNameProcessor(String fullName) {\n",
    "        this.fullName = fullName;\n",
    "    }\n",
    "\n",
    "    public String getFirstName() {\n",
    "        // Split the full name into parts based on space\n",
    "        String[] nameParts = fullName.split(\" \");\n",
    "        \n",
    "        // Check if at least one part exists\n",
    "        if (nameParts.length >= 1) {\n",
    "            // Return the first part as the first name\n",
    "            return nameParts[0];\n",
    "        } else {\n",
    "            // Return an empty string if no first name is found\n",
    "            return \"\";\n",
    "        }\n",
    "    }\n",
    "\n",
    "    public String getLastName() {\n",
    "        // Split the full name into parts based on space\n",
    "        String[] nameParts = fullName.split(\" \");\n",
    "        \n",
    "        // Check if at least two parts exist\n",
    "        if (nameParts.length >= 2) {\n",
    "            // Return the last part as the last name\n",
    "            return nameParts[nameParts.length - 1];\n",
    "        } else {\n",
    "            // Return an empty string if no last name is found\n",
    "            return \"\";\n",
    "        }\n",
    "    }\n",
    "\n",
    "    public static void main(String[] args) {\n",
    "        String fullName = \"John Doe\";\n",
    "        PersonNameProcessor nameProcessor = new PersonNameProcessor(fullName);\n",
    "\n",
    "        System.out.println(\"Full Name: \" + fullName);\n",
    "        System.out.println(\"First Name: \" + nameProcessor.getFirstName());\n",
    "        System.out.println(\"Last Name: \" + nameProcessor.getLastName());\n",
    "    }\n",
    "}"
   ]
  }
 ],
 "metadata": {
  "kernelspec": {
   "display_name": "Java",
   "language": "java",
   "name": "java"
  },
  "language_info": {
   "codemirror_mode": "java",
   "file_extension": ".jshell",
   "mimetype": "text/x-java-source",
   "name": "Java",
   "pygments_lexer": "java",
   "version": "16.0.1+9-24"
  },
  "orig_nbformat": 4
 },
 "nbformat": 4,
 "nbformat_minor": 2
}
